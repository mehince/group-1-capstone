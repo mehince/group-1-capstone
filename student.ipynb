{
 "cells": [
  {
   "cell_type": "markdown",
   "metadata": {},
   "source": [
    "# Group 1 Capstone Project Work\n",
    "### Make sure to make / checkout your own branch before making changes"
   ]
  },
  {
   "cell_type": "markdown",
   "metadata": {},
   "source": [
    "# Maddie Hince"
   ]
  },
  {
   "cell_type": "code",
   "execution_count": 279,
   "metadata": {
    "ExecuteTime": {
     "end_time": "2022-08-17T19:52:02.914857Z",
     "start_time": "2022-08-17T19:52:02.905856Z"
    }
   },
   "outputs": [],
   "source": [
    "import pandas as pd\n",
    "import sqlite3\n",
    "import warnings\n",
    "warnings.filterwarnings('ignore')\n",
    "\n",
    "conn = sqlite3.connect('zippedData/im.db')"
   ]
  },
  {
   "cell_type": "code",
   "execution_count": 280,
   "metadata": {
    "ExecuteTime": {
     "end_time": "2022-08-17T19:52:03.754028Z",
     "start_time": "2022-08-17T19:52:03.344031Z"
    }
   },
   "outputs": [],
   "source": [
    "ratings_df = pd.read_sql(\"\"\"SELECT movie_ratings.movie_id, movie_ratings.averagerating, \n",
    "                                   movie_ratings.numvotes, movie_basics.primary_title, \n",
    "                                   movie_basics.start_year, movie_basics.genres \n",
    "                            FROM movie_ratings\n",
    "                            JOIN movie_basics USING(movie_id)\n",
    "                            WHERE movie_basics.start_year >= 2010\"\"\", conn)"
   ]
  },
  {
   "cell_type": "code",
   "execution_count": 281,
   "metadata": {
    "ExecuteTime": {
     "end_time": "2022-08-17T19:52:03.928029Z",
     "start_time": "2022-08-17T19:52:03.883028Z"
    }
   },
   "outputs": [],
   "source": [
    "ratings_df.dropna(how='any', axis=0, inplace=True)"
   ]
  },
  {
   "cell_type": "code",
   "execution_count": 282,
   "metadata": {
    "ExecuteTime": {
     "end_time": "2022-08-17T19:52:04.070896Z",
     "start_time": "2022-08-17T19:52:04.057559Z"
    }
   },
   "outputs": [],
   "source": [
    "def clean_genres(genres):\n",
    "    genres = str(genres)\n",
    "    genres_list = sorted(genres.lower().split(','))\n",
    "    return ','.join(list(map(str, genres_list)))"
   ]
  },
  {
   "cell_type": "code",
   "execution_count": 283,
   "metadata": {
    "ExecuteTime": {
     "end_time": "2022-08-17T19:52:04.307132Z",
     "start_time": "2022-08-17T19:52:04.197498Z"
    }
   },
   "outputs": [
    {
     "data": {
      "text/html": [
       "<div>\n",
       "<style scoped>\n",
       "    .dataframe tbody tr th:only-of-type {\n",
       "        vertical-align: middle;\n",
       "    }\n",
       "\n",
       "    .dataframe tbody tr th {\n",
       "        vertical-align: top;\n",
       "    }\n",
       "\n",
       "    .dataframe thead th {\n",
       "        text-align: right;\n",
       "    }\n",
       "</style>\n",
       "<table border=\"1\" class=\"dataframe\">\n",
       "  <thead>\n",
       "    <tr style=\"text-align: right;\">\n",
       "      <th></th>\n",
       "      <th>movie_id</th>\n",
       "      <th>averagerating</th>\n",
       "      <th>numvotes</th>\n",
       "      <th>primary_title</th>\n",
       "      <th>start_year</th>\n",
       "      <th>genres</th>\n",
       "    </tr>\n",
       "  </thead>\n",
       "  <tbody>\n",
       "    <tr>\n",
       "      <th>0</th>\n",
       "      <td>tt0063540</td>\n",
       "      <td>7.0</td>\n",
       "      <td>77</td>\n",
       "      <td>Sunghursh</td>\n",
       "      <td>2013</td>\n",
       "      <td>action,crime,drama</td>\n",
       "    </tr>\n",
       "    <tr>\n",
       "      <th>1</th>\n",
       "      <td>tt0066787</td>\n",
       "      <td>7.2</td>\n",
       "      <td>43</td>\n",
       "      <td>One Day Before the Rainy Season</td>\n",
       "      <td>2019</td>\n",
       "      <td>biography,drama</td>\n",
       "    </tr>\n",
       "    <tr>\n",
       "      <th>2</th>\n",
       "      <td>tt0069049</td>\n",
       "      <td>6.9</td>\n",
       "      <td>4517</td>\n",
       "      <td>The Other Side of the Wind</td>\n",
       "      <td>2018</td>\n",
       "      <td>drama</td>\n",
       "    </tr>\n",
       "    <tr>\n",
       "      <th>3</th>\n",
       "      <td>tt0069204</td>\n",
       "      <td>6.1</td>\n",
       "      <td>13</td>\n",
       "      <td>Sabse Bada Sukh</td>\n",
       "      <td>2018</td>\n",
       "      <td>comedy,drama</td>\n",
       "    </tr>\n",
       "    <tr>\n",
       "      <th>4</th>\n",
       "      <td>tt0100275</td>\n",
       "      <td>6.5</td>\n",
       "      <td>119</td>\n",
       "      <td>The Wandering Soap Opera</td>\n",
       "      <td>2017</td>\n",
       "      <td>comedy,drama,fantasy</td>\n",
       "    </tr>\n",
       "  </tbody>\n",
       "</table>\n",
       "</div>"
      ],
      "text/plain": [
       "    movie_id  averagerating  numvotes                    primary_title  \\\n",
       "0  tt0063540            7.0        77                        Sunghursh   \n",
       "1  tt0066787            7.2        43  One Day Before the Rainy Season   \n",
       "2  tt0069049            6.9      4517       The Other Side of the Wind   \n",
       "3  tt0069204            6.1        13                  Sabse Bada Sukh   \n",
       "4  tt0100275            6.5       119         The Wandering Soap Opera   \n",
       "\n",
       "   start_year                genres  \n",
       "0        2013    action,crime,drama  \n",
       "1        2019       biography,drama  \n",
       "2        2018                 drama  \n",
       "3        2018          comedy,drama  \n",
       "4        2017  comedy,drama,fantasy  "
      ]
     },
     "execution_count": 283,
     "metadata": {},
     "output_type": "execute_result"
    }
   ],
   "source": [
    "ratings_df['genres'] = ratings_df['genres'].apply(clean_genres)\n",
    "ratings_df.head()"
   ]
  },
  {
   "cell_type": "code",
   "execution_count": 284,
   "metadata": {
    "ExecuteTime": {
     "end_time": "2022-08-17T19:52:04.480270Z",
     "start_time": "2022-08-17T19:52:04.435195Z"
    }
   },
   "outputs": [],
   "source": [
    "ratings_df['genres'].value_counts()\n",
    "sorted_by_avg = ratings_df.groupby('genres').mean().sort_values(by='averagerating', ascending=False)"
   ]
  },
  {
   "cell_type": "code",
   "execution_count": 285,
   "metadata": {
    "ExecuteTime": {
     "end_time": "2022-08-17T19:52:04.623299Z",
     "start_time": "2022-08-17T19:52:04.610098Z"
    }
   },
   "outputs": [],
   "source": [
    "# filter out movie genres with less than 62 total votes\n",
    "sorted_avg_higher_votes = sorted_by_avg[sorted_by_avg['numvotes'] >= 62].head(15)\n",
    "sorted_avg_higher_votes.reset_index(inplace=True)"
   ]
  },
  {
   "cell_type": "code",
   "execution_count": 286,
   "metadata": {
    "ExecuteTime": {
     "end_time": "2022-08-17T19:52:04.904875Z",
     "start_time": "2022-08-17T19:52:04.772877Z"
    },
    "scrolled": true
   },
   "outputs": [
    {
     "data": {
      "image/png": "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\n",
      "text/plain": [
       "<Figure size 432x288 with 1 Axes>"
      ]
     },
     "metadata": {},
     "output_type": "display_data"
    }
   ],
   "source": [
    "# visualizations\n",
    "import seaborn as sns\n",
    "import matplotlib.pyplot as plt\n",
    "\n",
    "sns.set_theme(style = 'whitegrid')\n",
    "sns.set_color_codes('muted')\n",
    "\n",
    "# outliers removed to improve quartile readability \n",
    "fig, ax = plt.subplots()\n",
    "sns.boxplot(x = sorted_avg_higher_votes['numvotes'], showfliers=False, color='b');\n",
    "ax.set_title('Distribution of Movie Votes\\n(Outliers Removed)')\n",
    "ax.set_xlabel('Number of Votes')\n",
    "ax.set_xticks(range(0, 1051, 100));"
   ]
  },
  {
   "cell_type": "code",
   "execution_count": 288,
   "metadata": {
    "ExecuteTime": {
     "end_time": "2022-08-17T19:52:19.429594Z",
     "start_time": "2022-08-17T19:52:19.405594Z"
    },
    "scrolled": true
   },
   "outputs": [
    {
     "data": {
      "text/html": [
       "<div>\n",
       "<style scoped>\n",
       "    .dataframe tbody tr th:only-of-type {\n",
       "        vertical-align: middle;\n",
       "    }\n",
       "\n",
       "    .dataframe tbody tr th {\n",
       "        vertical-align: top;\n",
       "    }\n",
       "\n",
       "    .dataframe thead th {\n",
       "        text-align: right;\n",
       "    }\n",
       "</style>\n",
       "<table border=\"1\" class=\"dataframe\">\n",
       "  <thead>\n",
       "    <tr style=\"text-align: right;\">\n",
       "      <th></th>\n",
       "      <th>genres</th>\n",
       "      <th>averagerating</th>\n",
       "    </tr>\n",
       "  </thead>\n",
       "  <tbody>\n",
       "    <tr>\n",
       "      <th>0</th>\n",
       "      <td>mystery,news,thriller</td>\n",
       "      <td>8.40</td>\n",
       "    </tr>\n",
       "    <tr>\n",
       "      <th>1</th>\n",
       "      <td>documentary,music,war</td>\n",
       "      <td>8.30</td>\n",
       "    </tr>\n",
       "    <tr>\n",
       "      <th>2</th>\n",
       "      <td>comedy,history,musical</td>\n",
       "      <td>8.30</td>\n",
       "    </tr>\n",
       "    <tr>\n",
       "      <th>3</th>\n",
       "      <td>animation,crime,mystery</td>\n",
       "      <td>8.20</td>\n",
       "    </tr>\n",
       "    <tr>\n",
       "      <th>4</th>\n",
       "      <td>romance,thriller,war</td>\n",
       "      <td>8.20</td>\n",
       "    </tr>\n",
       "    <tr>\n",
       "      <th>5</th>\n",
       "      <td>comedy,musical,western</td>\n",
       "      <td>8.20</td>\n",
       "    </tr>\n",
       "    <tr>\n",
       "      <th>6</th>\n",
       "      <td>animation,documentary,mystery</td>\n",
       "      <td>8.20</td>\n",
       "    </tr>\n",
       "    <tr>\n",
       "      <th>7</th>\n",
       "      <td>documentary,fantasy,horror</td>\n",
       "      <td>8.10</td>\n",
       "    </tr>\n",
       "    <tr>\n",
       "      <th>8</th>\n",
       "      <td>animation,crime,documentary</td>\n",
       "      <td>8.07</td>\n",
       "    </tr>\n",
       "    <tr>\n",
       "      <th>9</th>\n",
       "      <td>documentary,drama,musical</td>\n",
       "      <td>8.05</td>\n",
       "    </tr>\n",
       "    <tr>\n",
       "      <th>10</th>\n",
       "      <td>comedy,documentary,sport</td>\n",
       "      <td>7.92</td>\n",
       "    </tr>\n",
       "    <tr>\n",
       "      <th>11</th>\n",
       "      <td>documentary,sport,thriller</td>\n",
       "      <td>7.90</td>\n",
       "    </tr>\n",
       "    <tr>\n",
       "      <th>12</th>\n",
       "      <td>action,romance,war</td>\n",
       "      <td>7.87</td>\n",
       "    </tr>\n",
       "    <tr>\n",
       "      <th>13</th>\n",
       "      <td>action,documentary,sport</td>\n",
       "      <td>7.86</td>\n",
       "    </tr>\n",
       "    <tr>\n",
       "      <th>14</th>\n",
       "      <td>adventure,animation,horror</td>\n",
       "      <td>7.83</td>\n",
       "    </tr>\n",
       "  </tbody>\n",
       "</table>\n",
       "</div>"
      ],
      "text/plain": [
       "                           genres  averagerating\n",
       "0           mystery,news,thriller           8.40\n",
       "1           documentary,music,war           8.30\n",
       "2          comedy,history,musical           8.30\n",
       "3         animation,crime,mystery           8.20\n",
       "4            romance,thriller,war           8.20\n",
       "5          comedy,musical,western           8.20\n",
       "6   animation,documentary,mystery           8.20\n",
       "7      documentary,fantasy,horror           8.10\n",
       "8     animation,crime,documentary           8.07\n",
       "9       documentary,drama,musical           8.05\n",
       "10       comedy,documentary,sport           7.92\n",
       "11     documentary,sport,thriller           7.90\n",
       "12             action,romance,war           7.87\n",
       "13       action,documentary,sport           7.86\n",
       "14     adventure,animation,horror           7.83"
      ]
     },
     "execution_count": 288,
     "metadata": {},
     "output_type": "execute_result"
    }
   ],
   "source": [
    "# bar chart showing 15 highest-rated movie genres with more than 62 total votes\n",
    "highest_rated_genres = sorted_avg_higher_votes[['genres', 'averagerating']]\n",
    "highest_rated_genres['averagerating'] = highest_rated_genres['averagerating'].round(2)\n",
    "highest_rated_genres"
   ]
  },
  {
   "cell_type": "code",
   "execution_count": 289,
   "metadata": {
    "ExecuteTime": {
     "end_time": "2022-08-17T19:52:29.912500Z",
     "start_time": "2022-08-17T19:52:29.897501Z"
    }
   },
   "outputs": [],
   "source": [
    "# make count of each of these individual genres in dictionary\n",
    "top_genres = {}\n",
    "for genre in sorted_avg_higher_votes['genres'].value_counts().index:\n",
    "    genre_list = genre.split(',')\n",
    "    for item in genre_list:\n",
    "        if item not in top_genres:\n",
    "            top_genres[item] = 1\n",
    "        elif item in top_genres:\n",
    "            top_genres[item] += 1\n",
    "top_genres = dict(sorted(top_genres.items(), key = lambda x: x[1], reverse=True))"
   ]
  },
  {
   "cell_type": "code",
   "execution_count": 206,
   "metadata": {
    "ExecuteTime": {
     "end_time": "2022-08-17T19:16:35.220186Z",
     "start_time": "2022-08-17T19:16:34.986469Z"
    }
   },
   "outputs": [
    {
     "data": {
      "image/png": "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\n",
      "text/plain": [
       "<Figure size 432x288 with 1 Axes>"
      ]
     },
     "metadata": {},
     "output_type": "display_data"
    }
   ],
   "source": [
    "# bar chart showing most-used subgenres within top 15 highest-rated \n",
    "# movie genres\n",
    "fig, ax = plt.subplots()\n",
    "sns.barplot(x = list(top_genres.values()), y = list(top_genres.keys()), color = 'b');\n",
    "ax.set_title('Subgenres of Top 15 Hightest-Rated Genres')\n",
    "ax.set_xlabel('Number of Occurences')\n",
    "ax.set_ylabel('Genre');"
   ]
  },
  {
   "cell_type": "code",
   "execution_count": 292,
   "metadata": {
    "ExecuteTime": {
     "end_time": "2022-08-17T19:52:55.763139Z",
     "start_time": "2022-08-17T19:52:54.892965Z"
    }
   },
   "outputs": [
    {
     "data": {
      "image/png": "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\n",
      "text/plain": [
       "<Figure size 432x288 with 1 Axes>"
      ]
     },
     "metadata": {},
     "output_type": "display_data"
    }
   ],
   "source": [
    "# dataframe with movie titles and studio\n",
    "movie_gross_df = pd.read_csv('zippedData/bom.movie_gross.csv.gz')\n",
    "movie_gross_df['title'] = movie_gross_df['title'].str.lower()\n",
    "\n",
    "# dataframe from database with movie titles and genres\n",
    "movie_basics_df = pd.read_sql(\"\"\"SELECT *\n",
    "                                 FROM movie_basics\n",
    "                                 WHERE start_year >= 2010\"\"\", conn)\n",
    "movie_basics_df['primary_title'] = movie_basics_df['primary_title'].str.lower()\n",
    "\n",
    "# inner join dataframes on title (movie_gross_df), primary_title (movie_basics_df)\n",
    "movie_genre_studio_df = pd.merge(movie_gross_df, movie_basics_df, \n",
    "                                 left_on='title', right_on='primary_title',\n",
    "                                 how='inner')\n",
    "# drop movies with no genres\n",
    "movie_genre_studio_df.dropna(subset=['genres'], inplace=True)\n",
    "# clean genre string for each row\n",
    "movie_genre_studio_df['genres'] = movie_genre_studio_df['genres'].apply(clean_genres)\n",
    "\n",
    "# put movies from highest-performing studio into a dataframe\n",
    "bv_studio_movies = movie_genre_studio_df[movie_genre_studio_df['studio'] == 'BV']\n",
    "\n",
    "# bar chart showing number of movies per genre for BV studios\n",
    "fig, ax = plt.subplots()\n",
    "sns.countplot(data=bv_studio_movies, y='genres', \n",
    "              order=bv_studio_movies['genres'].value_counts().iloc[:10].index,\n",
    "              color = 'b')\n",
    "ax.set_xticks(range(0,21,2))\n",
    "ax.set_title('Count of Movies Per Genre Produced by BV Studios')\n",
    "ax.set_xlabel('Movie Count')\n",
    "ax.set_ylabel('Genre(s)');"
   ]
  },
  {
   "cell_type": "markdown",
   "metadata": {},
   "source": [
    "# Cat Murad"
   ]
  },
  {
   "cell_type": "code",
   "execution_count": null,
   "metadata": {},
   "outputs": [],
   "source": []
  },
  {
   "cell_type": "markdown",
   "metadata": {},
   "source": [
    "# Elijah Soba\n",
    "\n",
    "Working on: Gross dataset and Movie Budgets dataset"
   ]
  },
  {
   "cell_type": "code",
   "execution_count": 1,
   "metadata": {},
   "outputs": [],
   "source": [
    "# Import statements\n",
    "import sqlite3 \n",
    "import pandas as pd\n",
    "import numpy as np\n",
    "import matplotlib.pyplot as plt\n",
    "import seaborn as sns\n",
    "import os\n",
    "import datetime"
   ]
  },
  {
   "cell_type": "markdown",
   "metadata": {},
   "source": [
    "# Gross Dataset"
   ]
  },
  {
   "cell_type": "code",
   "execution_count": 2,
   "metadata": {},
   "outputs": [],
   "source": [
    "# Define filepath & read in the data \n",
    "filepath = 'zippedData/bom.movie_gross.csv.gz'\n",
    "movie_gross_df = pd.read_csv(filepath)"
   ]
  },
  {
   "cell_type": "code",
   "execution_count": 3,
   "metadata": {},
   "outputs": [
    {
     "data": {
      "text/html": [
       "<div>\n",
       "<style scoped>\n",
       "    .dataframe tbody tr th:only-of-type {\n",
       "        vertical-align: middle;\n",
       "    }\n",
       "\n",
       "    .dataframe tbody tr th {\n",
       "        vertical-align: top;\n",
       "    }\n",
       "\n",
       "    .dataframe thead th {\n",
       "        text-align: right;\n",
       "    }\n",
       "</style>\n",
       "<table border=\"1\" class=\"dataframe\">\n",
       "  <thead>\n",
       "    <tr style=\"text-align: right;\">\n",
       "      <th></th>\n",
       "      <th>title</th>\n",
       "      <th>studio</th>\n",
       "      <th>domestic_gross</th>\n",
       "      <th>foreign_gross</th>\n",
       "      <th>year</th>\n",
       "    </tr>\n",
       "  </thead>\n",
       "  <tbody>\n",
       "    <tr>\n",
       "      <th>0</th>\n",
       "      <td>Toy Story 3</td>\n",
       "      <td>BV</td>\n",
       "      <td>415000000.0</td>\n",
       "      <td>652000000</td>\n",
       "      <td>2010</td>\n",
       "    </tr>\n",
       "    <tr>\n",
       "      <th>1</th>\n",
       "      <td>Alice in Wonderland (2010)</td>\n",
       "      <td>BV</td>\n",
       "      <td>334200000.0</td>\n",
       "      <td>691300000</td>\n",
       "      <td>2010</td>\n",
       "    </tr>\n",
       "    <tr>\n",
       "      <th>2</th>\n",
       "      <td>Harry Potter and the Deathly Hallows Part 1</td>\n",
       "      <td>WB</td>\n",
       "      <td>296000000.0</td>\n",
       "      <td>664300000</td>\n",
       "      <td>2010</td>\n",
       "    </tr>\n",
       "    <tr>\n",
       "      <th>3</th>\n",
       "      <td>Inception</td>\n",
       "      <td>WB</td>\n",
       "      <td>292600000.0</td>\n",
       "      <td>535700000</td>\n",
       "      <td>2010</td>\n",
       "    </tr>\n",
       "    <tr>\n",
       "      <th>4</th>\n",
       "      <td>Shrek Forever After</td>\n",
       "      <td>P/DW</td>\n",
       "      <td>238700000.0</td>\n",
       "      <td>513900000</td>\n",
       "      <td>2010</td>\n",
       "    </tr>\n",
       "  </tbody>\n",
       "</table>\n",
       "</div>"
      ],
      "text/plain": [
       "                                         title studio  domestic_gross  \\\n",
       "0                                  Toy Story 3     BV     415000000.0   \n",
       "1                   Alice in Wonderland (2010)     BV     334200000.0   \n",
       "2  Harry Potter and the Deathly Hallows Part 1     WB     296000000.0   \n",
       "3                                    Inception     WB     292600000.0   \n",
       "4                          Shrek Forever After   P/DW     238700000.0   \n",
       "\n",
       "  foreign_gross  year  \n",
       "0     652000000  2010  \n",
       "1     691300000  2010  \n",
       "2     664300000  2010  \n",
       "3     535700000  2010  \n",
       "4     513900000  2010  "
      ]
     },
     "execution_count": 3,
     "metadata": {},
     "output_type": "execute_result"
    }
   ],
   "source": [
    "# Take a prelimary look at the data\n",
    "movie_gross_df.head()"
   ]
  },
  {
   "cell_type": "code",
   "execution_count": 4,
   "metadata": {},
   "outputs": [
    {
     "name": "stdout",
     "output_type": "stream",
     "text": [
      "<class 'pandas.core.frame.DataFrame'>\n",
      "RangeIndex: 3387 entries, 0 to 3386\n",
      "Data columns (total 5 columns):\n",
      " #   Column          Non-Null Count  Dtype  \n",
      "---  ------          --------------  -----  \n",
      " 0   title           3387 non-null   object \n",
      " 1   studio          3382 non-null   object \n",
      " 2   domestic_gross  3359 non-null   float64\n",
      " 3   foreign_gross   2037 non-null   object \n",
      " 4   year            3387 non-null   int64  \n",
      "dtypes: float64(1), int64(1), object(3)\n",
      "memory usage: 132.4+ KB\n"
     ]
    }
   ],
   "source": [
    "# Take a look at the data frame information\n",
    "movie_gross_df.info()"
   ]
  },
  {
   "cell_type": "markdown",
   "metadata": {},
   "source": [
    "From looking at the information we can see immediately that there are a couple things wrong with the data:\n",
    "- There are missing values in studio, domestic gross, and foreign gross\n",
    "- Foreign gross is represented as an object instead of a float\n",
    "- Year is represented as an integer, but it is probably better to have it as a datetime object"
   ]
  },
  {
   "cell_type": "markdown",
   "metadata": {},
   "source": [
    "## Cleaning Step 1: Change Dtypes\n",
    "\n",
    "We want to be sure that all of the dtypes that we are working with are acurately represented by the correct python type that we expect. Looking at the data frame information, we see that `foreign_gross` is represented as an `object` when we would expect to see it as a `float`. In addition, year is represented as an `int` when we would expect it to be a `datetime` object. We can use Pandas to change this data to meet our data type expectations"
   ]
  },
  {
   "cell_type": "code",
   "execution_count": 5,
   "metadata": {},
   "outputs": [],
   "source": [
    "# Lets recast foregin_gross as a float \n",
    "str_to_float = lambda x: float(str(x).replace(',', ''))\n",
    "movie_gross_df['foreign_gross'] = movie_gross_df['foreign_gross'].map(str_to_float)"
   ]
  },
  {
   "cell_type": "code",
   "execution_count": 6,
   "metadata": {},
   "outputs": [],
   "source": [
    "# Lets test to see if the data type actually changed \n",
    "assert movie_gross_df['foreign_gross'].dtype  == np.float64"
   ]
  },
  {
   "cell_type": "code",
   "execution_count": 7,
   "metadata": {},
   "outputs": [],
   "source": [
    "# Lets recast year as a datetime object \n",
    "movie_gross_df['year'] = pd.to_datetime(movie_gross_df['year'], format='%Y')"
   ]
  },
  {
   "cell_type": "code",
   "execution_count": 8,
   "metadata": {},
   "outputs": [],
   "source": [
    "# Lets test to see if this worked\n",
    "assert movie_gross_df['year'].dtype != np.int64"
   ]
  },
  {
   "cell_type": "markdown",
   "metadata": {},
   "source": [
    "## Cleaning Step 2: Handle Missing Data\n",
    "\n",
    "First, we look at the `studio` column because that is the column with the least amount of missing data. In addition, it is the easiest to deal with because missing values can be replaced with 'IND' standing for independent film \n",
    "\n",
    "Next, we look at the `domestic_gross` column which is one of the primary sources of data in this table. We check to see what percentage of the data is corrupted, and if it is small we will simply delete those rows. If it is not, we will explore data imputation techniques\n",
    "\n",
    "Finally, we look at the `foreign_gross` column and perform the same analysis as the `domestic_gross`. Seeing that it is a big chunk of the data, we will most likely have to impute. Imputation can be done by looking at a summary statistic of the percent change between `foreign_gross` and `domestic_gross` and using that to make up a value for `foreign gross` as a function of `domestic_gross`. \n"
   ]
  },
  {
   "cell_type": "code",
   "execution_count": 9,
   "metadata": {},
   "outputs": [],
   "source": [
    "# Lets replace missing studios with 'IND' representing independent\n",
    "movie_gross_df['studio'] = movie_gross_df['studio'].fillna('IND')"
   ]
  },
  {
   "cell_type": "code",
   "execution_count": 10,
   "metadata": {},
   "outputs": [],
   "source": [
    "# Test to see if there are any missing values in the studio column\n",
    "assert movie_gross_df['studio'].isna().sum() == 0"
   ]
  },
  {
   "cell_type": "code",
   "execution_count": 11,
   "metadata": {},
   "outputs": [
    {
     "name": "stdout",
     "output_type": "stream",
     "text": [
      "Missing domestic gross data represents 0.8266902863891349% of the data\n"
     ]
    }
   ],
   "source": [
    "# Lets see what percentage of the domestic gross data is missing \n",
    "pct_missing_dom = movie_gross_df.domestic_gross.isna().sum()/len(movie_gross_df.title)\n",
    "print(f'Missing domestic gross data represents {pct_missing_dom*100}% of the data')"
   ]
  },
  {
   "cell_type": "code",
   "execution_count": 12,
   "metadata": {},
   "outputs": [],
   "source": [
    "# The missing data is a very small fraction, so lets delete those rows\n",
    "movie_gross_df = movie_gross_df.dropna(axis=0, subset=['domestic_gross'])"
   ]
  },
  {
   "cell_type": "code",
   "execution_count": 13,
   "metadata": {},
   "outputs": [],
   "source": [
    "# Test to see whether that deletion worked\n",
    "assert movie_gross_df['domestic_gross'].isna().sum() == 0"
   ]
  },
  {
   "cell_type": "code",
   "execution_count": 14,
   "metadata": {},
   "outputs": [
    {
     "name": "stdout",
     "output_type": "stream",
     "text": [
      "Missing domestic gross data represents 40.190532896695444% of the data\n"
     ]
    }
   ],
   "source": [
    "# Lets see what percentage of the foreign gross data is missing \n",
    "pct_missing_dom = movie_gross_df.foreign_gross.isna().sum()/len(movie_gross_df.title)\n",
    "print(f'Missing domestic gross data represents {pct_missing_dom*100}% of the data')"
   ]
  },
  {
   "cell_type": "code",
   "execution_count": 15,
   "metadata": {},
   "outputs": [
    {
     "name": "stdout",
     "output_type": "stream",
     "text": [
      "0.6315266036797613\n"
     ]
    }
   ],
   "source": [
    "# That is too much, so lets find the median pct change between domestic and foreign films\n",
    "med_pct_change = ((movie_gross_df['foreign_gross'] - movie_gross_df['domestic_gross'])/movie_gross_df['domestic_gross']).median()\n",
    "print(med_pct_change)"
   ]
  },
  {
   "cell_type": "code",
   "execution_count": 16,
   "metadata": {},
   "outputs": [],
   "source": [
    "# Now that we have the median % change, lets impute the missing foreign values \n",
    "impute_change = movie_gross_df['domestic_gross'] + (movie_gross_df['domestic_gross'] * med_pct_change)\n",
    "movie_gross_df['foreign_gross'] = movie_gross_df['foreign_gross'].fillna(impute_change)"
   ]
  },
  {
   "cell_type": "code",
   "execution_count": 17,
   "metadata": {},
   "outputs": [],
   "source": [
    "# Test that we now have no more NaN values in the data \n",
    "assert movie_gross_df['foreign_gross'].isna().sum() == 0"
   ]
  },
  {
   "cell_type": "code",
   "execution_count": 18,
   "metadata": {},
   "outputs": [],
   "source": [
    "# Finally, test to see if there are any missing values anywhere in the data \n",
    "assert movie_gross_df.isna().sum().sum() == 0"
   ]
  },
  {
   "cell_type": "markdown",
   "metadata": {},
   "source": [
    "## Data Exploration: \n",
    "\n",
    "Now that we do not have any more missing values, we can begin data exploration. Because we want to see what contributes to a successful movie, we can look at how gross changes depending on different factors such as year and studio. In addition, we can explore the relationships within and between these variables to see if any meaningful conclusions can be drawn."
   ]
  },
  {
   "cell_type": "markdown",
   "metadata": {},
   "source": [
    "## Step 1: Explore Values in the Gross Columns"
   ]
  },
  {
   "cell_type": "code",
   "execution_count": 19,
   "metadata": {},
   "outputs": [],
   "source": [
    "# Lets feature engineer a new feature that can be useful to our understanding of gross as a whole\n",
    "movie_gross_df['total_gross'] = movie_gross_df['foreign_gross'] + movie_gross_df['domestic_gross']"
   ]
  },
  {
   "cell_type": "code",
   "execution_count": 20,
   "metadata": {},
   "outputs": [],
   "source": [
    "# Test to see whether that column was successfully created \n",
    "assert 'total_gross' in movie_gross_df.columns"
   ]
  },
  {
   "cell_type": "code",
   "execution_count": 21,
   "metadata": {},
   "outputs": [
    {
     "data": {
      "text/plain": [
       "1476    2.631527e+02\n",
       "2757    7.894580e+02\n",
       "2756    7.894580e+02\n",
       "2321    7.894580e+02\n",
       "3078    1.052611e+03\n",
       "            ...     \n",
       "2758    1.332600e+09\n",
       "328     1.341500e+09\n",
       "3080    1.347000e+09\n",
       "1875    1.405400e+09\n",
       "727     1.518900e+09\n",
       "Name: total_gross, Length: 3359, dtype: float64"
      ]
     },
     "execution_count": 21,
     "metadata": {},
     "output_type": "execute_result"
    }
   ],
   "source": [
    "# Lets take a look at that newly created column \n",
    "movie_gross_df['total_gross'].sort_values()"
   ]
  },
  {
   "cell_type": "code",
   "execution_count": 22,
   "metadata": {},
   "outputs": [],
   "source": [
    "# Lets normalize the data to millions to make numbers more manageable\n",
    "movie_gross_df['total_gross'] = movie_gross_df['total_gross']/1000000\n",
    "movie_gross_df['domestic_gross'] = movie_gross_df['domestic_gross']/1000000\n",
    "movie_gross_df['foreign_gross'] = movie_gross_df['foreign_gross']/1000000"
   ]
  },
  {
   "cell_type": "code",
   "execution_count": 23,
   "metadata": {},
   "outputs": [
    {
     "data": {
      "text/plain": [
       "1476       0.000263\n",
       "2757       0.000789\n",
       "2756       0.000789\n",
       "2321       0.000789\n",
       "3078       0.001053\n",
       "           ...     \n",
       "2758    1332.600000\n",
       "328     1341.500000\n",
       "3080    1347.000000\n",
       "1875    1405.400000\n",
       "727     1518.900000\n",
       "Name: total_gross, Length: 3359, dtype: float64"
      ]
     },
     "execution_count": 23,
     "metadata": {},
     "output_type": "execute_result"
    }
   ],
   "source": [
    "# Lets take another look \n",
    "movie_gross_df['total_gross'].sort_values()"
   ]
  },
  {
   "cell_type": "code",
   "execution_count": 24,
   "metadata": {},
   "outputs": [
    {
     "data": {
      "text/plain": [
       "title             Marvel's The Avengers\n",
       "studio                               BV\n",
       "domestic_gross                    623.4\n",
       "foreign_gross                     895.5\n",
       "year                2012-01-01 00:00:00\n",
       "total_gross                      1518.9\n",
       "Name: 727, dtype: object"
      ]
     },
     "execution_count": 24,
     "metadata": {},
     "output_type": "execute_result"
    }
   ],
   "source": [
    "# Lets see what movie grossed the most \n",
    "movie_gross_df.loc[movie_gross_df['total_gross'].idxmax(), :]"
   ]
  },
  {
   "cell_type": "code",
   "execution_count": 25,
   "metadata": {},
   "outputs": [
    {
     "data": {
      "text/plain": [
       "title             Star Wars: The Force Awakens\n",
       "studio                                      BV\n",
       "domestic_gross                           936.7\n",
       "foreign_gross                        0.0011316\n",
       "year                       2015-01-01 00:00:00\n",
       "total_gross                            936.701\n",
       "Name: 1872, dtype: object"
      ]
     },
     "execution_count": 25,
     "metadata": {},
     "output_type": "execute_result"
    }
   ],
   "source": [
    "# Lets see what film did the best in terms of domestic gross \n",
    "movie_gross_df.loc[movie_gross_df['domestic_gross'].idxmax(), :]"
   ]
  },
  {
   "cell_type": "code",
   "execution_count": 26,
   "metadata": {},
   "outputs": [
    {
     "data": {
      "text/plain": [
       "title             Harry Potter and the Deathly Hallows Part 2\n",
       "studio                                                     WB\n",
       "domestic_gross                                            381\n",
       "foreign_gross                                           960.5\n",
       "year                                      2011-01-01 00:00:00\n",
       "total_gross                                            1341.5\n",
       "Name: 328, dtype: object"
      ]
     },
     "execution_count": 26,
     "metadata": {},
     "output_type": "execute_result"
    }
   ],
   "source": [
    "# Lets see what film did the best in terms of foreign gross \n",
    "movie_gross_df.loc[movie_gross_df['foreign_gross'].idxmax(), :]"
   ]
  },
  {
   "cell_type": "code",
   "execution_count": 88,
   "metadata": {},
   "outputs": [
    {
     "data": {
      "text/plain": [
       "<AxesSubplot:ylabel='Frequency'>"
      ]
     },
     "execution_count": 88,
     "metadata": {},
     "output_type": "execute_result"
    },
    {
     "data": {
      "image/png": "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",
      "text/plain": [
       "<Figure size 432x288 with 1 Axes>"
      ]
     },
     "metadata": {
      "needs_background": "light"
     },
     "output_type": "display_data"
    }
   ],
   "source": [
    "# Lets visualize the distribution of total gross data \n",
    "movie_gross_df['total_gross'].plot.hist(bins=20)"
   ]
  },
  {
   "cell_type": "code",
   "execution_count": 28,
   "metadata": {},
   "outputs": [
    {
     "data": {
      "text/plain": [
       "<AxesSubplot:xlabel='domestic_gross', ylabel='foreign_gross'>"
      ]
     },
     "execution_count": 28,
     "metadata": {},
     "output_type": "execute_result"
    },
    {
     "data": {
      "image/png": "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",
      "text/plain": [
       "<Figure size 432x288 with 1 Axes>"
      ]
     },
     "metadata": {
      "needs_background": "light"
     },
     "output_type": "display_data"
    }
   ],
   "source": [
    "# Lets visually see the correlation between domestic and foreign gross\n",
    "movie_gross_df.plot.scatter('domestic_gross', 'foreign_gross')"
   ]
  },
  {
   "cell_type": "code",
   "execution_count": 30,
   "metadata": {},
   "outputs": [
    {
     "name": "stdout",
     "output_type": "stream",
     "text": [
      "The correlation between the two variables is 0.7928984029704482\n"
     ]
    }
   ],
   "source": [
    "# Lets actually see what the correlation is between the two\n",
    "corr = np.corrcoef(movie_gross_df['domestic_gross'], movie_gross_df['foreign_gross'])[0][1]\n",
    "print(f'The correlation between the two variables is {corr}')"
   ]
  },
  {
   "cell_type": "markdown",
   "metadata": {},
   "source": [
    "By looking at the scatter plot, we can notice two main things. \n",
    "- There is a positive correlation between domestic gross and foreign gross which is expected \n",
    "- There are a lot of data points that seemingly have 0 domestic gross and non-zero foreign gross (and vice versa)"
   ]
  },
  {
   "cell_type": "code",
   "execution_count": 31,
   "metadata": {},
   "outputs": [],
   "source": [
    "# Lets quickly verify that there are no films with 0 domestic gross \n",
    "assert movie_gross_df[movie_gross_df['domestic_gross'] == 0.0].sum()[0] == 0"
   ]
  },
  {
   "cell_type": "code",
   "execution_count": 32,
   "metadata": {},
   "outputs": [],
   "source": [
    "# Lets quickly verify that there are no films with 0 domestic gross \n",
    "assert movie_gross_df[movie_gross_df['foreign_gross'] == 0.0].sum()[0] == 0"
   ]
  },
  {
   "cell_type": "markdown",
   "metadata": {},
   "source": [
    "## Step 2: Looking at the Gross Data over time"
   ]
  },
  {
   "cell_type": "code",
   "execution_count": 33,
   "metadata": {},
   "outputs": [
    {
     "data": {
      "text/plain": [
       "2015-01-01    449\n",
       "2016-01-01    433\n",
       "2011-01-01    397\n",
       "2012-01-01    393\n",
       "2014-01-01    391\n",
       "2013-01-01    345\n",
       "2010-01-01    323\n",
       "2017-01-01    320\n",
       "2018-01-01    308\n",
       "Name: year, dtype: int64"
      ]
     },
     "execution_count": 33,
     "metadata": {},
     "output_type": "execute_result"
    }
   ],
   "source": [
    "# Lets see which years are represented in the data\n",
    "movie_gross_df['year'].value_counts()"
   ]
  },
  {
   "cell_type": "code",
   "execution_count": 34,
   "metadata": {},
   "outputs": [
    {
     "data": {
      "text/plain": [
       "<AxesSubplot:xlabel='year', ylabel='domestic_gross'>"
      ]
     },
     "execution_count": 34,
     "metadata": {},
     "output_type": "execute_result"
    },
    {
     "data": {
      "image/png": "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",
      "text/plain": [
       "<Figure size 432x288 with 1 Axes>"
      ]
     },
     "metadata": {
      "needs_background": "light"
     },
     "output_type": "display_data"
    }
   ],
   "source": [
    "# Lets see how the average domestic gross varied over the years \n",
    "movie_gross_df.groupby('year').mean().reset_index().plot.scatter('year', 'domestic_gross')"
   ]
  },
  {
   "cell_type": "code",
   "execution_count": 35,
   "metadata": {},
   "outputs": [
    {
     "data": {
      "text/plain": [
       "<AxesSubplot:xlabel='year', ylabel='foreign_gross'>"
      ]
     },
     "execution_count": 35,
     "metadata": {},
     "output_type": "execute_result"
    },
    {
     "data": {
      "image/png": "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",
      "text/plain": [
       "<Figure size 432x288 with 1 Axes>"
      ]
     },
     "metadata": {
      "needs_background": "light"
     },
     "output_type": "display_data"
    }
   ],
   "source": [
    "# Lets see how the average foreign gross varied over the years \n",
    "movie_gross_df.groupby('year').mean().reset_index().plot.scatter('year', 'foreign_gross')"
   ]
  },
  {
   "cell_type": "code",
   "execution_count": 36,
   "metadata": {},
   "outputs": [
    {
     "data": {
      "text/plain": [
       "<AxesSubplot:xlabel='year', ylabel='total_gross'>"
      ]
     },
     "execution_count": 36,
     "metadata": {},
     "output_type": "execute_result"
    },
    {
     "data": {
      "image/png": "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",
      "text/plain": [
       "<Figure size 432x288 with 1 Axes>"
      ]
     },
     "metadata": {
      "needs_background": "light"
     },
     "output_type": "display_data"
    }
   ],
   "source": [
    "# Lets see how the average total gross varied over the years \n",
    "movie_gross_df.groupby('year').mean().reset_index().plot.scatter('year', 'total_gross')"
   ]
  },
  {
   "cell_type": "markdown",
   "metadata": {},
   "source": [
    "## Step 3: How Well Did Specific Studios Do?"
   ]
  },
  {
   "cell_type": "code",
   "execution_count": 47,
   "metadata": {},
   "outputs": [
    {
     "data": {
      "text/plain": [
       "IFC          166\n",
       "Uni.         147\n",
       "WB           140\n",
       "Magn.        136\n",
       "Fox          136\n",
       "            ... \n",
       "UEP            1\n",
       "ELS            1\n",
       "FInd.          1\n",
       "Good Deed      1\n",
       "Proud          1\n",
       "Name: studio, Length: 256, dtype: int64"
      ]
     },
     "execution_count": 47,
     "metadata": {},
     "output_type": "execute_result"
    }
   ],
   "source": [
    "# Lets inspect all of the studios to see if there is any duplicates w/misspellings\n",
    "movie_gross_df['studio'].value_counts().sort_values(ascending=False)"
   ]
  },
  {
   "cell_type": "code",
   "execution_count": 42,
   "metadata": {},
   "outputs": [],
   "source": [
    "# Lets only look at studios that have more than 50 movies \n",
    "studio_50 = movie_gross_df.groupby(\"studio\").filter(lambda x: len(x) > 50)"
   ]
  },
  {
   "cell_type": "code",
   "execution_count": 48,
   "metadata": {},
   "outputs": [
    {
     "data": {
      "text/plain": [
       "<AxesSubplot:xlabel='studio'>"
      ]
     },
     "execution_count": 48,
     "metadata": {},
     "output_type": "execute_result"
    },
    {
     "data": {
      "image/png": "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",
      "text/plain": [
       "<Figure size 432x288 with 1 Axes>"
      ]
     },
     "metadata": {
      "needs_background": "light"
     },
     "output_type": "display_data"
    }
   ],
   "source": [
    "# Lets see how the top 10 most producing studios did in terms of average total gross\n",
    "top10_prod = list(studio_50['studio'].value_counts().sort_values(ascending=False)[:10].index)\n",
    "studio_50.groupby('studio').mean()['total_gross'].loc[top10_prod].plot.bar()"
   ]
  },
  {
   "cell_type": "markdown",
   "metadata": {},
   "source": [
    "This visualization tells us that just because a studio produces a lot of movies does not mean they will gross the most "
   ]
  },
  {
   "cell_type": "code",
   "execution_count": 49,
   "metadata": {},
   "outputs": [
    {
     "data": {
      "text/plain": [
       "<AxesSubplot:xlabel='studio'>"
      ]
     },
     "execution_count": 49,
     "metadata": {},
     "output_type": "execute_result"
    },
    {
     "data": {
      "image/png": "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",
      "text/plain": [
       "<Figure size 432x288 with 1 Axes>"
      ]
     },
     "metadata": {
      "needs_background": "light"
     },
     "output_type": "display_data"
    }
   ],
   "source": [
    "# Instead, lets use the top 10 highest earners\n",
    "studio_50.groupby('studio').mean()['total_gross'].sort_values(ascending=False)[:10].plot.bar()"
   ]
  },
  {
   "cell_type": "code",
   "execution_count": 50,
   "metadata": {},
   "outputs": [
    {
     "data": {
      "text/html": [
       "<div>\n",
       "<style scoped>\n",
       "    .dataframe tbody tr th:only-of-type {\n",
       "        vertical-align: middle;\n",
       "    }\n",
       "\n",
       "    .dataframe tbody tr th {\n",
       "        vertical-align: top;\n",
       "    }\n",
       "\n",
       "    .dataframe thead th {\n",
       "        text-align: right;\n",
       "    }\n",
       "</style>\n",
       "<table border=\"1\" class=\"dataframe\">\n",
       "  <thead>\n",
       "    <tr style=\"text-align: right;\">\n",
       "      <th></th>\n",
       "      <th>title</th>\n",
       "      <th>studio</th>\n",
       "      <th>domestic_gross</th>\n",
       "      <th>foreign_gross</th>\n",
       "      <th>year</th>\n",
       "      <th>total_gross</th>\n",
       "    </tr>\n",
       "  </thead>\n",
       "  <tbody>\n",
       "    <tr>\n",
       "      <th>0</th>\n",
       "      <td>Toy Story 3</td>\n",
       "      <td>BV</td>\n",
       "      <td>415.0</td>\n",
       "      <td>652.0</td>\n",
       "      <td>2010-01-01</td>\n",
       "      <td>1067.0</td>\n",
       "    </tr>\n",
       "    <tr>\n",
       "      <th>1</th>\n",
       "      <td>Alice in Wonderland (2010)</td>\n",
       "      <td>BV</td>\n",
       "      <td>334.2</td>\n",
       "      <td>691.3</td>\n",
       "      <td>2010-01-01</td>\n",
       "      <td>1025.5</td>\n",
       "    </tr>\n",
       "    <tr>\n",
       "      <th>7</th>\n",
       "      <td>Tangled</td>\n",
       "      <td>BV</td>\n",
       "      <td>200.8</td>\n",
       "      <td>391.0</td>\n",
       "      <td>2010-01-01</td>\n",
       "      <td>591.8</td>\n",
       "    </tr>\n",
       "    <tr>\n",
       "      <th>13</th>\n",
       "      <td>Tron Legacy</td>\n",
       "      <td>BV</td>\n",
       "      <td>172.1</td>\n",
       "      <td>228.0</td>\n",
       "      <td>2010-01-01</td>\n",
       "      <td>400.1</td>\n",
       "    </tr>\n",
       "    <tr>\n",
       "      <th>15</th>\n",
       "      <td>Prince of Persia: The Sands of Time</td>\n",
       "      <td>BV</td>\n",
       "      <td>90.8</td>\n",
       "      <td>245.6</td>\n",
       "      <td>2010-01-01</td>\n",
       "      <td>336.4</td>\n",
       "    </tr>\n",
       "    <tr>\n",
       "      <th>...</th>\n",
       "      <td>...</td>\n",
       "      <td>...</td>\n",
       "      <td>...</td>\n",
       "      <td>...</td>\n",
       "      <td>...</td>\n",
       "      <td>...</td>\n",
       "    </tr>\n",
       "    <tr>\n",
       "      <th>3101</th>\n",
       "      <td>Solo: A Star Wars Story</td>\n",
       "      <td>BV</td>\n",
       "      <td>213.8</td>\n",
       "      <td>179.2</td>\n",
       "      <td>2018-01-01</td>\n",
       "      <td>393.0</td>\n",
       "    </tr>\n",
       "    <tr>\n",
       "      <th>3107</th>\n",
       "      <td>Mary Poppins Returns</td>\n",
       "      <td>BV</td>\n",
       "      <td>172.0</td>\n",
       "      <td>177.6</td>\n",
       "      <td>2018-01-01</td>\n",
       "      <td>349.6</td>\n",
       "    </tr>\n",
       "    <tr>\n",
       "      <th>3120</th>\n",
       "      <td>Disney's Christopher Robin</td>\n",
       "      <td>BV</td>\n",
       "      <td>99.2</td>\n",
       "      <td>98.5</td>\n",
       "      <td>2018-01-01</td>\n",
       "      <td>197.7</td>\n",
       "    </tr>\n",
       "    <tr>\n",
       "      <th>3122</th>\n",
       "      <td>The Nutcracker and the Four Realms</td>\n",
       "      <td>BV</td>\n",
       "      <td>54.9</td>\n",
       "      <td>119.1</td>\n",
       "      <td>2018-01-01</td>\n",
       "      <td>174.0</td>\n",
       "    </tr>\n",
       "    <tr>\n",
       "      <th>3129</th>\n",
       "      <td>A Wrinkle in Time</td>\n",
       "      <td>BV</td>\n",
       "      <td>100.5</td>\n",
       "      <td>32.2</td>\n",
       "      <td>2018-01-01</td>\n",
       "      <td>132.7</td>\n",
       "    </tr>\n",
       "  </tbody>\n",
       "</table>\n",
       "<p>106 rows × 6 columns</p>\n",
       "</div>"
      ],
      "text/plain": [
       "                                    title studio  domestic_gross  \\\n",
       "0                             Toy Story 3     BV           415.0   \n",
       "1              Alice in Wonderland (2010)     BV           334.2   \n",
       "7                                 Tangled     BV           200.8   \n",
       "13                            Tron Legacy     BV           172.1   \n",
       "15    Prince of Persia: The Sands of Time     BV            90.8   \n",
       "...                                   ...    ...             ...   \n",
       "3101              Solo: A Star Wars Story     BV           213.8   \n",
       "3107                 Mary Poppins Returns     BV           172.0   \n",
       "3120           Disney's Christopher Robin     BV            99.2   \n",
       "3122   The Nutcracker and the Four Realms     BV            54.9   \n",
       "3129                    A Wrinkle in Time     BV           100.5   \n",
       "\n",
       "      foreign_gross       year  total_gross  \n",
       "0             652.0 2010-01-01       1067.0  \n",
       "1             691.3 2010-01-01       1025.5  \n",
       "7             391.0 2010-01-01        591.8  \n",
       "13            228.0 2010-01-01        400.1  \n",
       "15            245.6 2010-01-01        336.4  \n",
       "...             ...        ...          ...  \n",
       "3101          179.2 2018-01-01        393.0  \n",
       "3107          177.6 2018-01-01        349.6  \n",
       "3120           98.5 2018-01-01        197.7  \n",
       "3122          119.1 2018-01-01        174.0  \n",
       "3129           32.2 2018-01-01        132.7  \n",
       "\n",
       "[106 rows x 6 columns]"
      ]
     },
     "execution_count": 50,
     "metadata": {},
     "output_type": "execute_result"
    }
   ],
   "source": [
    "# Lets look at the movies that studio HC has done\n",
    "movie_gross_df[movie_gross_df['studio'] == 'BV']"
   ]
  },
  {
   "cell_type": "markdown",
   "metadata": {},
   "source": [
    "Potential Recommendation: Movies that are produced by BV are on average much higher earners than any other studio, so we suggest to draw inspiration from the movies they have created. "
   ]
  },
  {
   "cell_type": "markdown",
   "metadata": {},
   "source": [
    "# Budget Dataset"
   ]
  },
  {
   "cell_type": "code",
   "execution_count": 51,
   "metadata": {},
   "outputs": [],
   "source": [
    "# Load in the data into pandas\n",
    "filepath = 'zippedData/tn.movie_budgets.csv.gz'\n",
    "budget_df = pd.read_csv(filepath)"
   ]
  },
  {
   "cell_type": "code",
   "execution_count": 52,
   "metadata": {},
   "outputs": [
    {
     "data": {
      "text/html": [
       "<div>\n",
       "<style scoped>\n",
       "    .dataframe tbody tr th:only-of-type {\n",
       "        vertical-align: middle;\n",
       "    }\n",
       "\n",
       "    .dataframe tbody tr th {\n",
       "        vertical-align: top;\n",
       "    }\n",
       "\n",
       "    .dataframe thead th {\n",
       "        text-align: right;\n",
       "    }\n",
       "</style>\n",
       "<table border=\"1\" class=\"dataframe\">\n",
       "  <thead>\n",
       "    <tr style=\"text-align: right;\">\n",
       "      <th></th>\n",
       "      <th>id</th>\n",
       "      <th>release_date</th>\n",
       "      <th>movie</th>\n",
       "      <th>production_budget</th>\n",
       "      <th>domestic_gross</th>\n",
       "      <th>worldwide_gross</th>\n",
       "    </tr>\n",
       "  </thead>\n",
       "  <tbody>\n",
       "    <tr>\n",
       "      <th>0</th>\n",
       "      <td>1</td>\n",
       "      <td>Dec 18, 2009</td>\n",
       "      <td>Avatar</td>\n",
       "      <td>$425,000,000</td>\n",
       "      <td>$760,507,625</td>\n",
       "      <td>$2,776,345,279</td>\n",
       "    </tr>\n",
       "    <tr>\n",
       "      <th>1</th>\n",
       "      <td>2</td>\n",
       "      <td>May 20, 2011</td>\n",
       "      <td>Pirates of the Caribbean: On Stranger Tides</td>\n",
       "      <td>$410,600,000</td>\n",
       "      <td>$241,063,875</td>\n",
       "      <td>$1,045,663,875</td>\n",
       "    </tr>\n",
       "    <tr>\n",
       "      <th>2</th>\n",
       "      <td>3</td>\n",
       "      <td>Jun 7, 2019</td>\n",
       "      <td>Dark Phoenix</td>\n",
       "      <td>$350,000,000</td>\n",
       "      <td>$42,762,350</td>\n",
       "      <td>$149,762,350</td>\n",
       "    </tr>\n",
       "    <tr>\n",
       "      <th>3</th>\n",
       "      <td>4</td>\n",
       "      <td>May 1, 2015</td>\n",
       "      <td>Avengers: Age of Ultron</td>\n",
       "      <td>$330,600,000</td>\n",
       "      <td>$459,005,868</td>\n",
       "      <td>$1,403,013,963</td>\n",
       "    </tr>\n",
       "    <tr>\n",
       "      <th>4</th>\n",
       "      <td>5</td>\n",
       "      <td>Dec 15, 2017</td>\n",
       "      <td>Star Wars Ep. VIII: The Last Jedi</td>\n",
       "      <td>$317,000,000</td>\n",
       "      <td>$620,181,382</td>\n",
       "      <td>$1,316,721,747</td>\n",
       "    </tr>\n",
       "  </tbody>\n",
       "</table>\n",
       "</div>"
      ],
      "text/plain": [
       "   id  release_date                                        movie  \\\n",
       "0   1  Dec 18, 2009                                       Avatar   \n",
       "1   2  May 20, 2011  Pirates of the Caribbean: On Stranger Tides   \n",
       "2   3   Jun 7, 2019                                 Dark Phoenix   \n",
       "3   4   May 1, 2015                      Avengers: Age of Ultron   \n",
       "4   5  Dec 15, 2017            Star Wars Ep. VIII: The Last Jedi   \n",
       "\n",
       "  production_budget domestic_gross worldwide_gross  \n",
       "0      $425,000,000   $760,507,625  $2,776,345,279  \n",
       "1      $410,600,000   $241,063,875  $1,045,663,875  \n",
       "2      $350,000,000    $42,762,350    $149,762,350  \n",
       "3      $330,600,000   $459,005,868  $1,403,013,963  \n",
       "4      $317,000,000   $620,181,382  $1,316,721,747  "
      ]
     },
     "execution_count": 52,
     "metadata": {},
     "output_type": "execute_result"
    }
   ],
   "source": [
    "# Lets take a glimpse at the data set \n",
    "budget_df.head()"
   ]
  },
  {
   "cell_type": "code",
   "execution_count": 53,
   "metadata": {},
   "outputs": [
    {
     "name": "stdout",
     "output_type": "stream",
     "text": [
      "<class 'pandas.core.frame.DataFrame'>\n",
      "RangeIndex: 5782 entries, 0 to 5781\n",
      "Data columns (total 6 columns):\n",
      " #   Column             Non-Null Count  Dtype \n",
      "---  ------             --------------  ----- \n",
      " 0   id                 5782 non-null   int64 \n",
      " 1   release_date       5782 non-null   object\n",
      " 2   movie              5782 non-null   object\n",
      " 3   production_budget  5782 non-null   object\n",
      " 4   domestic_gross     5782 non-null   object\n",
      " 5   worldwide_gross    5782 non-null   object\n",
      "dtypes: int64(1), object(5)\n",
      "memory usage: 271.2+ KB\n"
     ]
    }
   ],
   "source": [
    "# Take a look at the data frame information\n",
    "budget_df.info()"
   ]
  },
  {
   "cell_type": "markdown",
   "metadata": {},
   "source": [
    "From looking at the information we can immediately see a few important things:\n",
    "- There are no missing values\n",
    "- The release date is a string and not a datetime object \n",
    "- All of the numerical columns are strings instead of floats\n",
    "- We have an id column\n"
   ]
  },
  {
   "cell_type": "markdown",
   "metadata": {},
   "source": [
    "## Data Cleaning \n",
    "\n",
    "Because there is no missing data, our cleaning step will involve changing the dtype of all the variables to match our expectations, checking to see if there are any placeholder values that replace NaNs, and normalizing the data to the millions so that the numbers are more manageable"
   ]
  },
  {
   "cell_type": "code",
   "execution_count": 54,
   "metadata": {},
   "outputs": [],
   "source": [
    "# Lets define a function that will parse through a string of $xxx,xxx,xxx and turn it into a float\n",
    "money_to_float = lambda x: float(x.replace('$','').replace(',',''))"
   ]
  },
  {
   "cell_type": "code",
   "execution_count": 55,
   "metadata": {},
   "outputs": [],
   "source": [
    "# Lets test to make sure this function is behaving the way that we anticipate\n",
    "assert money_to_float('$1,000') == 1000"
   ]
  },
  {
   "cell_type": "code",
   "execution_count": 56,
   "metadata": {},
   "outputs": [],
   "source": [
    "# Update the dtype of the production_budget column \n",
    "budget_df['production_budget'] = budget_df['production_budget'].map(money_to_float)"
   ]
  },
  {
   "cell_type": "code",
   "execution_count": 57,
   "metadata": {},
   "outputs": [],
   "source": [
    "# Update the dtype of the domestic_gross column \n",
    "budget_df['domestic_gross'] = budget_df['domestic_gross'].map(money_to_float)"
   ]
  },
  {
   "cell_type": "code",
   "execution_count": 58,
   "metadata": {},
   "outputs": [],
   "source": [
    "# Update the dtype of the worldwide_gross column \n",
    "budget_df['worldwide_gross'] = budget_df['worldwide_gross'].map(money_to_float)"
   ]
  },
  {
   "cell_type": "code",
   "execution_count": 59,
   "metadata": {},
   "outputs": [],
   "source": [
    "# Test to make sure it worked\n",
    "assert budget_df['production_budget'].dtype == np.float64"
   ]
  },
  {
   "cell_type": "code",
   "execution_count": 60,
   "metadata": {},
   "outputs": [],
   "source": [
    "# Lets make the release date an int dtype that only has the year\n",
    "budget_df['release_date'] = pd.to_datetime(budget_df['release_date']).dt.year"
   ]
  },
  {
   "cell_type": "code",
   "execution_count": 61,
   "metadata": {},
   "outputs": [],
   "source": [
    "# Test to make sure the dtype is now correct\n",
    "assert budget_df['release_date'].dtype == np.int64"
   ]
  },
  {
   "cell_type": "code",
   "execution_count": 62,
   "metadata": {},
   "outputs": [
    {
     "data": {
      "text/html": [
       "<div>\n",
       "<style scoped>\n",
       "    .dataframe tbody tr th:only-of-type {\n",
       "        vertical-align: middle;\n",
       "    }\n",
       "\n",
       "    .dataframe tbody tr th {\n",
       "        vertical-align: top;\n",
       "    }\n",
       "\n",
       "    .dataframe thead th {\n",
       "        text-align: right;\n",
       "    }\n",
       "</style>\n",
       "<table border=\"1\" class=\"dataframe\">\n",
       "  <thead>\n",
       "    <tr style=\"text-align: right;\">\n",
       "      <th></th>\n",
       "      <th>id</th>\n",
       "      <th>release_date</th>\n",
       "      <th>movie</th>\n",
       "      <th>production_budget</th>\n",
       "      <th>domestic_gross</th>\n",
       "      <th>worldwide_gross</th>\n",
       "    </tr>\n",
       "  </thead>\n",
       "  <tbody>\n",
       "    <tr>\n",
       "      <th>194</th>\n",
       "      <td>95</td>\n",
       "      <td>2020</td>\n",
       "      <td>Moonfall</td>\n",
       "      <td>150000000.0</td>\n",
       "      <td>0.0</td>\n",
       "      <td>0.0</td>\n",
       "    </tr>\n",
       "    <tr>\n",
       "      <th>479</th>\n",
       "      <td>80</td>\n",
       "      <td>2017</td>\n",
       "      <td>Bright</td>\n",
       "      <td>90000000.0</td>\n",
       "      <td>0.0</td>\n",
       "      <td>0.0</td>\n",
       "    </tr>\n",
       "    <tr>\n",
       "      <th>480</th>\n",
       "      <td>81</td>\n",
       "      <td>2019</td>\n",
       "      <td>Army of the Dead</td>\n",
       "      <td>90000000.0</td>\n",
       "      <td>0.0</td>\n",
       "      <td>0.0</td>\n",
       "    </tr>\n",
       "    <tr>\n",
       "      <th>535</th>\n",
       "      <td>36</td>\n",
       "      <td>2020</td>\n",
       "      <td>Call of the Wild</td>\n",
       "      <td>82000000.0</td>\n",
       "      <td>0.0</td>\n",
       "      <td>0.0</td>\n",
       "    </tr>\n",
       "    <tr>\n",
       "      <th>617</th>\n",
       "      <td>18</td>\n",
       "      <td>2012</td>\n",
       "      <td>AstÃ©rix et ObÃ©lix: Au service de Sa MajestÃ©</td>\n",
       "      <td>77600000.0</td>\n",
       "      <td>0.0</td>\n",
       "      <td>60680125.0</td>\n",
       "    </tr>\n",
       "    <tr>\n",
       "      <th>...</th>\n",
       "      <td>...</td>\n",
       "      <td>...</td>\n",
       "      <td>...</td>\n",
       "      <td>...</td>\n",
       "      <td>...</td>\n",
       "      <td>...</td>\n",
       "    </tr>\n",
       "    <tr>\n",
       "      <th>5761</th>\n",
       "      <td>62</td>\n",
       "      <td>2014</td>\n",
       "      <td>Stories of Our Lives</td>\n",
       "      <td>15000.0</td>\n",
       "      <td>0.0</td>\n",
       "      <td>0.0</td>\n",
       "    </tr>\n",
       "    <tr>\n",
       "      <th>5764</th>\n",
       "      <td>65</td>\n",
       "      <td>2007</td>\n",
       "      <td>Tin Can Man</td>\n",
       "      <td>12000.0</td>\n",
       "      <td>0.0</td>\n",
       "      <td>0.0</td>\n",
       "    </tr>\n",
       "    <tr>\n",
       "      <th>5771</th>\n",
       "      <td>72</td>\n",
       "      <td>2015</td>\n",
       "      <td>Family Motocross</td>\n",
       "      <td>10000.0</td>\n",
       "      <td>0.0</td>\n",
       "      <td>0.0</td>\n",
       "    </tr>\n",
       "    <tr>\n",
       "      <th>5777</th>\n",
       "      <td>78</td>\n",
       "      <td>2018</td>\n",
       "      <td>Red 11</td>\n",
       "      <td>7000.0</td>\n",
       "      <td>0.0</td>\n",
       "      <td>0.0</td>\n",
       "    </tr>\n",
       "    <tr>\n",
       "      <th>5780</th>\n",
       "      <td>81</td>\n",
       "      <td>2015</td>\n",
       "      <td>A Plague So Pleasant</td>\n",
       "      <td>1400.0</td>\n",
       "      <td>0.0</td>\n",
       "      <td>0.0</td>\n",
       "    </tr>\n",
       "  </tbody>\n",
       "</table>\n",
       "<p>548 rows × 6 columns</p>\n",
       "</div>"
      ],
      "text/plain": [
       "      id  release_date                                           movie  \\\n",
       "194   95          2020                                        Moonfall   \n",
       "479   80          2017                                          Bright   \n",
       "480   81          2019                                Army of the Dead   \n",
       "535   36          2020                                Call of the Wild   \n",
       "617   18          2012  AstÃ©rix et ObÃ©lix: Au service de Sa MajestÃ©   \n",
       "...   ..           ...                                             ...   \n",
       "5761  62          2014                            Stories of Our Lives   \n",
       "5764  65          2007                                     Tin Can Man   \n",
       "5771  72          2015                                Family Motocross   \n",
       "5777  78          2018                                          Red 11   \n",
       "5780  81          2015                            A Plague So Pleasant   \n",
       "\n",
       "      production_budget  domestic_gross  worldwide_gross  \n",
       "194         150000000.0             0.0              0.0  \n",
       "479          90000000.0             0.0              0.0  \n",
       "480          90000000.0             0.0              0.0  \n",
       "535          82000000.0             0.0              0.0  \n",
       "617          77600000.0             0.0       60680125.0  \n",
       "...                 ...             ...              ...  \n",
       "5761            15000.0             0.0              0.0  \n",
       "5764            12000.0             0.0              0.0  \n",
       "5771            10000.0             0.0              0.0  \n",
       "5777             7000.0             0.0              0.0  \n",
       "5780             1400.0             0.0              0.0  \n",
       "\n",
       "[548 rows x 6 columns]"
      ]
     },
     "execution_count": 62,
     "metadata": {},
     "output_type": "execute_result"
    }
   ],
   "source": [
    "# Lets see if any of the gross values are equal to 0, a number that does not make sense in this context\n",
    "budget_df[budget_df['domestic_gross'] == 0]"
   ]
  },
  {
   "cell_type": "code",
   "execution_count": 63,
   "metadata": {},
   "outputs": [
    {
     "data": {
      "text/html": [
       "<div>\n",
       "<style scoped>\n",
       "    .dataframe tbody tr th:only-of-type {\n",
       "        vertical-align: middle;\n",
       "    }\n",
       "\n",
       "    .dataframe tbody tr th {\n",
       "        vertical-align: top;\n",
       "    }\n",
       "\n",
       "    .dataframe thead th {\n",
       "        text-align: right;\n",
       "    }\n",
       "</style>\n",
       "<table border=\"1\" class=\"dataframe\">\n",
       "  <thead>\n",
       "    <tr style=\"text-align: right;\">\n",
       "      <th></th>\n",
       "      <th>id</th>\n",
       "      <th>release_date</th>\n",
       "      <th>movie</th>\n",
       "      <th>production_budget</th>\n",
       "      <th>domestic_gross</th>\n",
       "      <th>worldwide_gross</th>\n",
       "    </tr>\n",
       "  </thead>\n",
       "  <tbody>\n",
       "  </tbody>\n",
       "</table>\n",
       "</div>"
      ],
      "text/plain": [
       "Empty DataFrame\n",
       "Columns: [id, release_date, movie, production_budget, domestic_gross, worldwide_gross]\n",
       "Index: []"
      ]
     },
     "execution_count": 63,
     "metadata": {},
     "output_type": "execute_result"
    }
   ],
   "source": [
    "# Lets see if any of the production values are equal to 0, a number that does not make sense in this context\n",
    "budget_df[budget_df['production_budget'] == 0]"
   ]
  },
  {
   "cell_type": "markdown",
   "metadata": {},
   "source": [
    "We see that there are indeed values that can be considered corrupted in the gross columns, but not in the production column. What we can do with this is see what percentage of data is 0 from the domestic_gross and worldwide_gross. If it is a small percentage, we can just drop the values but if it is a large percentage we can find a way to impute it. "
   ]
  },
  {
   "cell_type": "code",
   "execution_count": 67,
   "metadata": {},
   "outputs": [
    {
     "name": "stdout",
     "output_type": "stream",
     "text": [
      "Number of missing gross values from either column 548\n",
      "Number of missing gross values from both columns 367\n",
      "Number of missing gross values from just domestic 548\n",
      "Number of missing gross values from just worldwide 367\n",
      "Number of items in the entire dataset 5782\n"
     ]
    }
   ],
   "source": [
    "# Lets see the profile of our \"missing\" gross values\n",
    "either_miss = len(budget_df[(budget_df['domestic_gross'] == 0) | (budget_df['worldwide_gross'] == 0)])\n",
    "both_miss = len(budget_df[(budget_df['domestic_gross'] == 0) & (budget_df['worldwide_gross'] == 0)])\n",
    "just_dom = len(budget_df[budget_df['domestic_gross'] == 0])\n",
    "just_world = len(budget_df[budget_df['worldwide_gross'] == 0])\n",
    "len_dataset = len(budget_df['domestic_gross'])\n",
    "print(f'Number of missing gross values from either column {either_miss}')\n",
    "print(f'Number of missing gross values from both columns {both_miss}')\n",
    "print(f'Number of missing gross values from just domestic {just_dom}')\n",
    "print(f'Number of missing gross values from just worldwide {just_world}')\n",
    "print(f'Number of items in the entire dataset {len_dataset}')"
   ]
  },
  {
   "cell_type": "code",
   "execution_count": 68,
   "metadata": {},
   "outputs": [
    {
     "name": "stdout",
     "output_type": "stream",
     "text": [
      "Percentage of the data that is missing from the domestic column 9.47768938083708\n",
      "Percentage of the data that is missing from the domestic column6.347284676582497\n"
     ]
    }
   ],
   "source": [
    "# Because there are numbers with 0 domestic and worldwide gross, lets see what fraction of the dataset it is\n",
    "pct_0_dom = just_dom/len_dataset\n",
    "print(f'Percentage of the data that is missing from the domestic column {pct_0_dom*100}')\n",
    "pct_0_world = just_world/len_dataset\n",
    "print(f'Percentage of the data that is missing from the domestic column{pct_0_world*100}')"
   ]
  },
  {
   "cell_type": "code",
   "execution_count": 69,
   "metadata": {},
   "outputs": [],
   "source": [
    "# Both values are < 10% of the data, which for now we will consider as small enough to just drop\n",
    "budget_df = budget_df[budget_df['domestic_gross'] != 0]"
   ]
  },
  {
   "cell_type": "code",
   "execution_count": 70,
   "metadata": {},
   "outputs": [],
   "source": [
    "# Test to make sure we dropped correctly\n",
    "assert len(budget_df[budget_df['domestic_gross'] == 0]) == 0\n",
    "assert len(budget_df[budget_df['worldwide_gross'] == 0]) == 0"
   ]
  },
  {
   "cell_type": "code",
   "execution_count": 71,
   "metadata": {},
   "outputs": [],
   "source": [
    "# Finally, we can normalize monetary columns to the millions \n",
    "budget_df['production_budget'] = budget_df['production_budget']/1000000\n",
    "budget_df['domestic_gross'] = budget_df['domestic_gross']/1000000\n",
    "budget_df['worldwide_gross'] = budget_df['worldwide_gross']/1000000"
   ]
  },
  {
   "cell_type": "markdown",
   "metadata": {},
   "source": [
    "## Data Exploration\n",
    "\n",
    "Now that all of the data types are what we expect, we will explore the data. First, we look at the `id` column to see what relevance it has to the dataset. Then, we will create some features to explore the relationship between a movies budget and how much it grosses both domestically and worldwide. Finally, we will look at the data over time to see if older movies would give our clients outdated information. "
   ]
  },
  {
   "cell_type": "markdown",
   "metadata": {},
   "source": [
    "## Step 1: What do the ID's mean?"
   ]
  },
  {
   "cell_type": "code",
   "execution_count": 72,
   "metadata": {},
   "outputs": [
    {
     "data": {
      "text/plain": [
       "79    56\n",
       "77    55\n",
       "47    55\n",
       "78    55\n",
       "37    55\n",
       "      ..\n",
       "63    49\n",
       "55    49\n",
       "62    49\n",
       "95    49\n",
       "56    47\n",
       "Name: id, Length: 100, dtype: int64"
      ]
     },
     "execution_count": 72,
     "metadata": {},
     "output_type": "execute_result"
    }
   ],
   "source": [
    "# Lets look at the value counts for the id's \n",
    "budget_df['id'].value_counts()"
   ]
  },
  {
   "cell_type": "markdown",
   "metadata": {},
   "source": [
    "It looks like each of the ID's have the same number of entries meaning that there could be something more to them than it seems. Lets take a quick look at some of the respective index values to see if maybe groups have something in common"
   ]
  },
  {
   "cell_type": "code",
   "execution_count": 73,
   "metadata": {},
   "outputs": [
    {
     "data": {
      "text/html": [
       "<div>\n",
       "<style scoped>\n",
       "    .dataframe tbody tr th:only-of-type {\n",
       "        vertical-align: middle;\n",
       "    }\n",
       "\n",
       "    .dataframe tbody tr th {\n",
       "        vertical-align: top;\n",
       "    }\n",
       "\n",
       "    .dataframe thead th {\n",
       "        text-align: right;\n",
       "    }\n",
       "</style>\n",
       "<table border=\"1\" class=\"dataframe\">\n",
       "  <thead>\n",
       "    <tr style=\"text-align: right;\">\n",
       "      <th></th>\n",
       "      <th>id</th>\n",
       "      <th>release_date</th>\n",
       "      <th>movie</th>\n",
       "      <th>production_budget</th>\n",
       "      <th>domestic_gross</th>\n",
       "      <th>worldwide_gross</th>\n",
       "    </tr>\n",
       "  </thead>\n",
       "  <tbody>\n",
       "    <tr>\n",
       "      <th>3</th>\n",
       "      <td>4</td>\n",
       "      <td>2015</td>\n",
       "      <td>Avengers: Age of Ultron</td>\n",
       "      <td>330.6</td>\n",
       "      <td>459.005868</td>\n",
       "      <td>1403.013963</td>\n",
       "    </tr>\n",
       "    <tr>\n",
       "      <th>103</th>\n",
       "      <td>4</td>\n",
       "      <td>2009</td>\n",
       "      <td>Monsters vs. Aliens</td>\n",
       "      <td>175.0</td>\n",
       "      <td>198.351526</td>\n",
       "      <td>381.687380</td>\n",
       "    </tr>\n",
       "    <tr>\n",
       "      <th>203</th>\n",
       "      <td>4</td>\n",
       "      <td>2016</td>\n",
       "      <td>Ghostbusters</td>\n",
       "      <td>144.0</td>\n",
       "      <td>128.350574</td>\n",
       "      <td>229.008658</td>\n",
       "    </tr>\n",
       "    <tr>\n",
       "      <th>303</th>\n",
       "      <td>4</td>\n",
       "      <td>1999</td>\n",
       "      <td>Star Wars Ep. I: The Phantom Menace</td>\n",
       "      <td>115.0</td>\n",
       "      <td>474.544677</td>\n",
       "      <td>1027.044677</td>\n",
       "    </tr>\n",
       "    <tr>\n",
       "      <th>403</th>\n",
       "      <td>4</td>\n",
       "      <td>2018</td>\n",
       "      <td>Mortal Engines</td>\n",
       "      <td>100.0</td>\n",
       "      <td>15.951040</td>\n",
       "      <td>85.287417</td>\n",
       "    </tr>\n",
       "    <tr>\n",
       "      <th>503</th>\n",
       "      <td>4</td>\n",
       "      <td>2006</td>\n",
       "      <td>Open Season</td>\n",
       "      <td>85.0</td>\n",
       "      <td>85.105259</td>\n",
       "      <td>191.932158</td>\n",
       "    </tr>\n",
       "    <tr>\n",
       "      <th>603</th>\n",
       "      <td>4</td>\n",
       "      <td>1997</td>\n",
       "      <td>The Postman</td>\n",
       "      <td>80.0</td>\n",
       "      <td>17.650704</td>\n",
       "      <td>20.841123</td>\n",
       "    </tr>\n",
       "    <tr>\n",
       "      <th>703</th>\n",
       "      <td>4</td>\n",
       "      <td>2003</td>\n",
       "      <td>S.W.A.T.</td>\n",
       "      <td>70.0</td>\n",
       "      <td>116.877597</td>\n",
       "      <td>207.154748</td>\n",
       "    </tr>\n",
       "    <tr>\n",
       "      <th>803</th>\n",
       "      <td>4</td>\n",
       "      <td>2012</td>\n",
       "      <td>Resident Evil: Retribution</td>\n",
       "      <td>65.0</td>\n",
       "      <td>42.345531</td>\n",
       "      <td>240.647629</td>\n",
       "    </tr>\n",
       "    <tr>\n",
       "      <th>903</th>\n",
       "      <td>4</td>\n",
       "      <td>2013</td>\n",
       "      <td>Gangster Squad</td>\n",
       "      <td>60.0</td>\n",
       "      <td>46.000903</td>\n",
       "      <td>104.100903</td>\n",
       "    </tr>\n",
       "  </tbody>\n",
       "</table>\n",
       "</div>"
      ],
      "text/plain": [
       "     id  release_date                                movie  production_budget  \\\n",
       "3     4          2015              Avengers: Age of Ultron              330.6   \n",
       "103   4          2009                  Monsters vs. Aliens              175.0   \n",
       "203   4          2016                         Ghostbusters              144.0   \n",
       "303   4          1999  Star Wars Ep. I: The Phantom Menace              115.0   \n",
       "403   4          2018                       Mortal Engines              100.0   \n",
       "503   4          2006                          Open Season               85.0   \n",
       "603   4          1997                          The Postman               80.0   \n",
       "703   4          2003                             S.W.A.T.               70.0   \n",
       "803   4          2012           Resident Evil: Retribution               65.0   \n",
       "903   4          2013                       Gangster Squad               60.0   \n",
       "\n",
       "     domestic_gross  worldwide_gross  \n",
       "3        459.005868      1403.013963  \n",
       "103      198.351526       381.687380  \n",
       "203      128.350574       229.008658  \n",
       "303      474.544677      1027.044677  \n",
       "403       15.951040        85.287417  \n",
       "503       85.105259       191.932158  \n",
       "603       17.650704        20.841123  \n",
       "703      116.877597       207.154748  \n",
       "803       42.345531       240.647629  \n",
       "903       46.000903       104.100903  "
      ]
     },
     "execution_count": 73,
     "metadata": {},
     "output_type": "execute_result"
    }
   ],
   "source": [
    "# Investigate group 4\n",
    "budget_df[budget_df['id'] == 4].head(10)"
   ]
  },
  {
   "cell_type": "code",
   "execution_count": 74,
   "metadata": {},
   "outputs": [
    {
     "data": {
      "text/html": [
       "<div>\n",
       "<style scoped>\n",
       "    .dataframe tbody tr th:only-of-type {\n",
       "        vertical-align: middle;\n",
       "    }\n",
       "\n",
       "    .dataframe tbody tr th {\n",
       "        vertical-align: top;\n",
       "    }\n",
       "\n",
       "    .dataframe thead th {\n",
       "        text-align: right;\n",
       "    }\n",
       "</style>\n",
       "<table border=\"1\" class=\"dataframe\">\n",
       "  <thead>\n",
       "    <tr style=\"text-align: right;\">\n",
       "      <th></th>\n",
       "      <th>id</th>\n",
       "      <th>release_date</th>\n",
       "      <th>movie</th>\n",
       "      <th>production_budget</th>\n",
       "      <th>domestic_gross</th>\n",
       "      <th>worldwide_gross</th>\n",
       "    </tr>\n",
       "  </thead>\n",
       "  <tbody>\n",
       "    <tr>\n",
       "      <th>7</th>\n",
       "      <td>8</td>\n",
       "      <td>2007</td>\n",
       "      <td>Pirates of the Caribbean: At Worldâs End</td>\n",
       "      <td>300.0</td>\n",
       "      <td>309.420425</td>\n",
       "      <td>963.420425</td>\n",
       "    </tr>\n",
       "    <tr>\n",
       "      <th>107</th>\n",
       "      <td>8</td>\n",
       "      <td>2008</td>\n",
       "      <td>The Mummy: Tomb of the Dragon Emperor</td>\n",
       "      <td>175.0</td>\n",
       "      <td>102.491776</td>\n",
       "      <td>405.760225</td>\n",
       "    </tr>\n",
       "    <tr>\n",
       "      <th>207</th>\n",
       "      <td>8</td>\n",
       "      <td>1998</td>\n",
       "      <td>Armageddon</td>\n",
       "      <td>140.0</td>\n",
       "      <td>201.578182</td>\n",
       "      <td>554.600000</td>\n",
       "    </tr>\n",
       "    <tr>\n",
       "      <th>307</th>\n",
       "      <td>8</td>\n",
       "      <td>2013</td>\n",
       "      <td>The Wolverine</td>\n",
       "      <td>115.0</td>\n",
       "      <td>132.556852</td>\n",
       "      <td>416.456852</td>\n",
       "    </tr>\n",
       "    <tr>\n",
       "      <th>407</th>\n",
       "      <td>8</td>\n",
       "      <td>2019</td>\n",
       "      <td>The LEGO Movie 2: The Second Part</td>\n",
       "      <td>99.0</td>\n",
       "      <td>105.806508</td>\n",
       "      <td>190.325698</td>\n",
       "    </tr>\n",
       "    <tr>\n",
       "      <th>507</th>\n",
       "      <td>8</td>\n",
       "      <td>2006</td>\n",
       "      <td>The Holiday</td>\n",
       "      <td>85.0</td>\n",
       "      <td>63.280000</td>\n",
       "      <td>205.190324</td>\n",
       "    </tr>\n",
       "    <tr>\n",
       "      <th>607</th>\n",
       "      <td>8</td>\n",
       "      <td>2005</td>\n",
       "      <td>A Sound of Thunder</td>\n",
       "      <td>80.0</td>\n",
       "      <td>1.900451</td>\n",
       "      <td>6.300451</td>\n",
       "    </tr>\n",
       "    <tr>\n",
       "      <th>707</th>\n",
       "      <td>8</td>\n",
       "      <td>1997</td>\n",
       "      <td>Hercules</td>\n",
       "      <td>70.0</td>\n",
       "      <td>99.112101</td>\n",
       "      <td>250.700000</td>\n",
       "    </tr>\n",
       "    <tr>\n",
       "      <th>807</th>\n",
       "      <td>8</td>\n",
       "      <td>1996</td>\n",
       "      <td>The Long Kiss Goodnight</td>\n",
       "      <td>65.0</td>\n",
       "      <td>33.447612</td>\n",
       "      <td>33.447612</td>\n",
       "    </tr>\n",
       "    <tr>\n",
       "      <th>907</th>\n",
       "      <td>8</td>\n",
       "      <td>2010</td>\n",
       "      <td>Edge of Darkness</td>\n",
       "      <td>60.0</td>\n",
       "      <td>43.313890</td>\n",
       "      <td>82.812456</td>\n",
       "    </tr>\n",
       "  </tbody>\n",
       "</table>\n",
       "</div>"
      ],
      "text/plain": [
       "     id  release_date                                       movie  \\\n",
       "7     8          2007  Pirates of the Caribbean: At Worldâs End   \n",
       "107   8          2008       The Mummy: Tomb of the Dragon Emperor   \n",
       "207   8          1998                                  Armageddon   \n",
       "307   8          2013                               The Wolverine   \n",
       "407   8          2019           The LEGO Movie 2: The Second Part   \n",
       "507   8          2006                                 The Holiday   \n",
       "607   8          2005                          A Sound of Thunder   \n",
       "707   8          1997                                    Hercules   \n",
       "807   8          1996                     The Long Kiss Goodnight   \n",
       "907   8          2010                            Edge of Darkness   \n",
       "\n",
       "     production_budget  domestic_gross  worldwide_gross  \n",
       "7                300.0      309.420425       963.420425  \n",
       "107              175.0      102.491776       405.760225  \n",
       "207              140.0      201.578182       554.600000  \n",
       "307              115.0      132.556852       416.456852  \n",
       "407               99.0      105.806508       190.325698  \n",
       "507               85.0       63.280000       205.190324  \n",
       "607               80.0        1.900451         6.300451  \n",
       "707               70.0       99.112101       250.700000  \n",
       "807               65.0       33.447612        33.447612  \n",
       "907               60.0       43.313890        82.812456  "
      ]
     },
     "execution_count": 74,
     "metadata": {},
     "output_type": "execute_result"
    }
   ],
   "source": [
    "# Investigate group 8\n",
    "budget_df[budget_df['id'] == 8].head(10)"
   ]
  },
  {
   "cell_type": "markdown",
   "metadata": {},
   "source": [
    "The only similarity between the two groups is that production budgets seem to line up in similar decreasing fashions. This most likely means all of this data was ordered by production_budget and each group was concatenated with each other to make one big dataset. Until we receive any new information, let us just not worry about the ID column. "
   ]
  },
  {
   "cell_type": "markdown",
   "metadata": {},
   "source": [
    "## Step 2: How do Old Movies Compare to Newer Movies?"
   ]
  },
  {
   "cell_type": "code",
   "execution_count": 75,
   "metadata": {},
   "outputs": [
    {
     "name": "stdout",
     "output_type": "stream",
     "text": [
      "id                         1\n",
      "release_date            2009\n",
      "movie                 Avatar\n",
      "production_budget        425\n",
      "domestic_gross       760.508\n",
      "worldwide_gross      2776.35\n",
      "Name: 0, dtype: object\n",
      "id                                                      6\n",
      "release_date                                         2015\n",
      "movie                Star Wars Ep. VII: The Force Awakens\n",
      "production_budget                                     306\n",
      "domestic_gross                                    936.662\n",
      "worldwide_gross                                   2053.31\n",
      "Name: 5, dtype: object\n"
     ]
    }
   ],
   "source": [
    "# First, lets look at the highest grossing films worldwide and domestic\n",
    "print(budget_df.loc[budget_df['worldwide_gross'].idxmax(), :])\n",
    "print(budget_df.loc[budget_df['domestic_gross'].idxmax(), :])"
   ]
  },
  {
   "cell_type": "code",
   "execution_count": 76,
   "metadata": {},
   "outputs": [
    {
     "data": {
      "text/plain": [
       "2019     44\n",
       "2018    137\n",
       "2017    149\n",
       "2016    192\n",
       "2015    208\n",
       "       ... \n",
       "1929      1\n",
       "1925      2\n",
       "1920      1\n",
       "1916      1\n",
       "1915      1\n",
       "Name: release_date, Length: 92, dtype: int64"
      ]
     },
     "execution_count": 76,
     "metadata": {},
     "output_type": "execute_result"
    }
   ],
   "source": [
    "# Lets look at the value count of all the years\n",
    "budget_df['release_date'].value_counts().sort_index(ascending=False)"
   ]
  },
  {
   "cell_type": "code",
   "execution_count": 77,
   "metadata": {},
   "outputs": [
    {
     "data": {
      "text/plain": [
       "<AxesSubplot:>"
      ]
     },
     "execution_count": 77,
     "metadata": {},
     "output_type": "execute_result"
    },
    {
     "data": {
      "image/png": "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",
      "text/plain": [
       "<Figure size 432x288 with 1 Axes>"
      ]
     },
     "metadata": {
      "needs_background": "light"
     },
     "output_type": "display_data"
    }
   ],
   "source": [
    "# Already we can see some years have very little movies. Let us filter the top 30 \n",
    "budget_df['release_date'].value_counts().sort_index(ascending=False)[:30].plot.bar()"
   ]
  },
  {
   "cell_type": "markdown",
   "metadata": {},
   "source": [
    "It seems like after 1997 there was a big boom in the number of movies that were made. From the standpoint of quantity of movies, there is no indication that we should only look at a more recent subset. Lets check out how much movies grossed based on year starting with the year that the boom happened"
   ]
  },
  {
   "cell_type": "code",
   "execution_count": 78,
   "metadata": {},
   "outputs": [],
   "source": [
    "# Lets filter out the older dates\n",
    "budget_df = budget_df[budget_df['release_date'] > 1997]"
   ]
  },
  {
   "cell_type": "code",
   "execution_count": 79,
   "metadata": {},
   "outputs": [
    {
     "data": {
      "text/plain": [
       "2006    247\n",
       "2010    246\n",
       "2008    239\n",
       "2011    227\n",
       "2005    214\n",
       "2002    209\n",
       "2015    208\n",
       "2009    205\n",
       "2007    203\n",
       "2004    200\n",
       "2012    200\n",
       "2003    195\n",
       "2013    193\n",
       "2016    192\n",
       "2014    191\n",
       "2000    189\n",
       "1999    181\n",
       "2001    177\n",
       "1998    151\n",
       "2017    149\n",
       "2018    137\n",
       "2019     44\n",
       "Name: release_date, dtype: int64"
      ]
     },
     "execution_count": 79,
     "metadata": {},
     "output_type": "execute_result"
    }
   ],
   "source": [
    "# Check our new filtered years\n",
    "budget_df['release_date'].value_counts()"
   ]
  },
  {
   "cell_type": "code",
   "execution_count": 80,
   "metadata": {},
   "outputs": [
    {
     "data": {
      "text/plain": [
       "<AxesSubplot:xlabel='release_date', ylabel='worldwide_gross'>"
      ]
     },
     "execution_count": 80,
     "metadata": {},
     "output_type": "execute_result"
    },
    {
     "data": {
      "image/png": "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",
      "text/plain": [
       "<Figure size 432x288 with 1 Axes>"
      ]
     },
     "metadata": {
      "needs_background": "light"
     },
     "output_type": "display_data"
    }
   ],
   "source": [
    "# Lets groupby the year and see the median amount movies grossed worldwide\n",
    "budget_df.groupby('release_date').mean().reset_index().plot.scatter('release_date', 'worldwide_gross')"
   ]
  },
  {
   "cell_type": "markdown",
   "metadata": {},
   "source": [
    "From the graph, it is obvious that there is an upward trend in worldwide gross over the years. Because we know our other dataset starts movie data at 2010 and after 2010 the worldwide gross is higher than the years prior by a substantial margin, we can consider deleting those years prior."
   ]
  },
  {
   "cell_type": "code",
   "execution_count": 81,
   "metadata": {},
   "outputs": [],
   "source": [
    "# Remove the years before 2010 where we saw a jump in worldwide gross\n",
    "budget_df = budget_df[budget_df['release_date'] >= 2010]"
   ]
  },
  {
   "cell_type": "markdown",
   "metadata": {},
   "source": [
    "## Step 3: How does Production Budget Affect Gross?"
   ]
  },
  {
   "cell_type": "code",
   "execution_count": 82,
   "metadata": {},
   "outputs": [
    {
     "data": {
      "text/plain": [
       "<AxesSubplot:xlabel='production_budget', ylabel='worldwide_gross'>"
      ]
     },
     "execution_count": 82,
     "metadata": {},
     "output_type": "execute_result"
    },
    {
     "data": {
      "image/png": "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",
      "text/plain": [
       "<Figure size 432x288 with 1 Axes>"
      ]
     },
     "metadata": {
      "needs_background": "light"
     },
     "output_type": "display_data"
    }
   ],
   "source": [
    "# Lets start off by checking the scatter plot of budget and worldwide gross to gain intuition\n",
    "budget_df.plot.scatter('production_budget', 'worldwide_gross')"
   ]
  },
  {
   "cell_type": "code",
   "execution_count": 85,
   "metadata": {},
   "outputs": [
    {
     "name": "stdout",
     "output_type": "stream",
     "text": [
      "The correlation between production budget and worldwide gross is 0.7872721892906527\n"
     ]
    }
   ],
   "source": [
    "# To be more concrete, lets also print out the correlation coefficient \n",
    "corr = np.corrcoef(budget_df['production_budget'], budget_df['worldwide_gross'])[0][1]\n",
    "print(f'The correlation between production budget and worldwide gross is {corr}')"
   ]
  },
  {
   "cell_type": "markdown",
   "metadata": {},
   "source": [
    "From the scatter plot, it looks like there is a positive correlation (.787) but not as much as we would expect. This indicates that spending more money on a film may not mean more gross "
   ]
  },
  {
   "cell_type": "code",
   "execution_count": 87,
   "metadata": {},
   "outputs": [
    {
     "data": {
      "text/plain": [
       "<AxesSubplot:ylabel='Frequency'>"
      ]
     },
     "execution_count": 87,
     "metadata": {},
     "output_type": "execute_result"
    },
    {
     "data": {
      "image/png": "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",
      "text/plain": [
       "<Figure size 432x288 with 1 Axes>"
      ]
     },
     "metadata": {
      "needs_background": "light"
     },
     "output_type": "display_data"
    }
   ],
   "source": [
    "# Lets look at the distribution of worldwide gross to see how it is shaped \n",
    "budget_df['worldwide_gross'].plot.hist(bins=20)"
   ]
  },
  {
   "cell_type": "code",
   "execution_count": 91,
   "metadata": {},
   "outputs": [
    {
     "data": {
      "text/plain": [
       "<AxesSubplot:>"
      ]
     },
     "execution_count": 91,
     "metadata": {},
     "output_type": "execute_result"
    },
    {
     "data": {
      "image/png": "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",
      "text/plain": [
       "<Figure size 432x288 with 1 Axes>"
      ]
     },
     "metadata": {
      "needs_background": "light"
     },
     "output_type": "display_data"
    }
   ],
   "source": [
    "# Lets also add a box and whisker because the data is heavily skewed \n",
    "budget_df['worldwide_gross'].plot.box()"
   ]
  },
  {
   "cell_type": "code",
   "execution_count": 95,
   "metadata": {},
   "outputs": [
    {
     "data": {
      "text/plain": [
       "<AxesSubplot:ylabel='Frequency'>"
      ]
     },
     "execution_count": 95,
     "metadata": {},
     "output_type": "execute_result"
    },
    {
     "data": {
      "image/png": "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",
      "text/plain": [
       "<Figure size 432x288 with 1 Axes>"
      ]
     },
     "metadata": {
      "needs_background": "light"
     },
     "output_type": "display_data"
    }
   ],
   "source": [
    "# Lets also redo this to exclude all of the outliers to get a better visualization \n",
    "budget_df[budget_df['worldwide_gross'] <= 250]['worldwide_gross'].plot.hist(bins=20)"
   ]
  },
  {
   "cell_type": "code",
   "execution_count": 96,
   "metadata": {},
   "outputs": [
    {
     "data": {
      "text/plain": [
       "<AxesSubplot:>"
      ]
     },
     "execution_count": 96,
     "metadata": {},
     "output_type": "execute_result"
    },
    {
     "data": {
      "image/png": "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",
      "text/plain": [
       "<Figure size 432x288 with 1 Axes>"
      ]
     },
     "metadata": {
      "needs_background": "light"
     },
     "output_type": "display_data"
    }
   ],
   "source": [
    "# Same with the box plot \n",
    "budget_df[budget_df['worldwide_gross'] <= 250]['worldwide_gross'].plot.box()"
   ]
  },
  {
   "cell_type": "markdown",
   "metadata": {},
   "source": [
    "It seems like a majority of films fall into the same bucket, but we want to give a suggestions that will get our movie studio into the tail end of the distribution. Lets see if the production budget can give us more information related to this"
   ]
  },
  {
   "cell_type": "code",
   "execution_count": 97,
   "metadata": {},
   "outputs": [
    {
     "data": {
      "text/plain": [
       "1    2.546673\n",
       "2    0.427892\n",
       "3    4.243841\n",
       "4    4.153696\n",
       "5    6.710167\n",
       "Name: bg_ratio, dtype: float64"
      ]
     },
     "execution_count": 97,
     "metadata": {},
     "output_type": "execute_result"
    }
   ],
   "source": [
    "# Lets define a feature called budget to gross ratio \n",
    "budget_df['bg_ratio'] = budget_df['worldwide_gross']/budget_df['production_budget']\n",
    "budget_df.bg_ratio.head()"
   ]
  },
  {
   "cell_type": "markdown",
   "metadata": {},
   "source": [
    "This ratio can be interpreted as \"for every dollar spent on production, how much did it gross worldwide?\""
   ]
  },
  {
   "cell_type": "code",
   "execution_count": 99,
   "metadata": {},
   "outputs": [
    {
     "data": {
      "text/plain": [
       "<AxesSubplot:ylabel='Frequency'>"
      ]
     },
     "execution_count": 99,
     "metadata": {},
     "output_type": "execute_result"
    },
    {
     "data": {
      "image/png": "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",
      "text/plain": [
       "<Figure size 432x288 with 1 Axes>"
      ]
     },
     "metadata": {
      "needs_background": "light"
     },
     "output_type": "display_data"
    }
   ],
   "source": [
    "# Lets look at the distribution of the bg ratio\n",
    "budget_df['bg_ratio'].plot.hist(bins=20)"
   ]
  },
  {
   "cell_type": "code",
   "execution_count": 100,
   "metadata": {},
   "outputs": [
    {
     "data": {
      "text/plain": [
       "<AxesSubplot:>"
      ]
     },
     "execution_count": 100,
     "metadata": {},
     "output_type": "execute_result"
    },
    {
     "data": {
      "image/png": "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",
      "text/plain": [
       "<Figure size 432x288 with 1 Axes>"
      ]
     },
     "metadata": {
      "needs_background": "light"
     },
     "output_type": "display_data"
    }
   ],
   "source": [
    "# Lets add the box plot as well \n",
    "budget_df['bg_ratio'].plot.box()"
   ]
  },
  {
   "cell_type": "code",
   "execution_count": 103,
   "metadata": {},
   "outputs": [
    {
     "data": {
      "text/plain": [
       "<AxesSubplot:>"
      ]
     },
     "execution_count": 103,
     "metadata": {},
     "output_type": "execute_result"
    },
    {
     "data": {
      "image/png": "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",
      "text/plain": [
       "<Figure size 432x288 with 1 Axes>"
      ]
     },
     "metadata": {
      "needs_background": "light"
     },
     "output_type": "display_data"
    }
   ],
   "source": [
    "# Again, lets filter out some of these outliers to get a better picture of the distribution\n",
    "budget_df[budget_df['bg_ratio'] < 10]['bg_ratio'].plot.box()"
   ]
  },
  {
   "cell_type": "code",
   "execution_count": 105,
   "metadata": {},
   "outputs": [
    {
     "data": {
      "text/plain": [
       "<AxesSubplot:ylabel='Frequency'>"
      ]
     },
     "execution_count": 105,
     "metadata": {},
     "output_type": "execute_result"
    },
    {
     "data": {
      "image/png": "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",
      "text/plain": [
       "<Figure size 432x288 with 1 Axes>"
      ]
     },
     "metadata": {
      "needs_background": "light"
     },
     "output_type": "display_data"
    }
   ],
   "source": [
    "# Same with the boxplot\n",
    "budget_df[budget_df['bg_ratio'] < 10]['bg_ratio'].plot.hist(bins=20)"
   ]
  },
  {
   "cell_type": "code",
   "execution_count": 118,
   "metadata": {},
   "outputs": [
    {
     "data": {
      "text/plain": [
       "<AxesSubplot:ylabel='movie'>"
      ]
     },
     "execution_count": 118,
     "metadata": {},
     "output_type": "execute_result"
    },
    {
     "data": {
      "image/png": "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",
      "text/plain": [
       "<Figure size 432x288 with 1 Axes>"
      ]
     },
     "metadata": {
      "needs_background": "light"
     },
     "output_type": "display_data"
    }
   ],
   "source": [
    "# Lets see the top 10 best films in terms of bg_ratio\n",
    "budget_df.sort_values(by='bg_ratio', ascending=False)[:10].plot.barh('movie', 'bg_ratio')"
   ]
  },
  {
   "cell_type": "markdown",
   "metadata": {},
   "source": [
    "Potential Recommendation: Look at these movies and see what makes them so profitable "
   ]
  },
  {
   "cell_type": "code",
   "execution_count": 120,
   "metadata": {},
   "outputs": [
    {
     "data": {
      "text/plain": [
       "42.87490355344152"
      ]
     },
     "execution_count": 120,
     "metadata": {},
     "output_type": "execute_result"
    }
   ],
   "source": [
    "# Lets give some ordinality to our budgets to define low budget and high budget movies\n",
    "avg_budget = budget_df['production_budget'].mean()\n",
    "avg_budget"
   ]
  },
  {
   "cell_type": "code",
   "execution_count": 121,
   "metadata": {},
   "outputs": [],
   "source": [
    "# Create a column that represents high budget and low budget movies\n",
    "budget_df['high_budget'] = (budget_df['production_budget'] > avg_budget).astype(int)"
   ]
  },
  {
   "cell_type": "code",
   "execution_count": 122,
   "metadata": {},
   "outputs": [
    {
     "data": {
      "text/plain": [
       "<AxesSubplot:xlabel='high_budget'>"
      ]
     },
     "execution_count": 122,
     "metadata": {},
     "output_type": "execute_result"
    },
    {
     "data": {
      "image/png": "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",
      "text/plain": [
       "<Figure size 432x288 with 1 Axes>"
      ]
     },
     "metadata": {
      "needs_background": "light"
     },
     "output_type": "display_data"
    }
   ],
   "source": [
    "# Lets see the average and median bg_ratio for high budget and low budget films\n",
    "budget_df.groupby('high_budget').median()['bg_ratio'].plot.bar()"
   ]
  },
  {
   "cell_type": "code",
   "execution_count": 123,
   "metadata": {},
   "outputs": [
    {
     "data": {
      "text/plain": [
       "<AxesSubplot:xlabel='high_budget'>"
      ]
     },
     "execution_count": 123,
     "metadata": {},
     "output_type": "execute_result"
    },
    {
     "data": {
      "image/png": "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",
      "text/plain": [
       "<Figure size 432x288 with 1 Axes>"
      ]
     },
     "metadata": {
      "needs_background": "light"
     },
     "output_type": "display_data"
    }
   ],
   "source": [
    "budget_df.groupby('high_budget').mean()['bg_ratio'].plot.bar()"
   ]
  },
  {
   "cell_type": "code",
   "execution_count": 125,
   "metadata": {},
   "outputs": [
    {
     "data": {
      "text/html": [
       "<div>\n",
       "<style scoped>\n",
       "    .dataframe tbody tr th:only-of-type {\n",
       "        vertical-align: middle;\n",
       "    }\n",
       "\n",
       "    .dataframe tbody tr th {\n",
       "        vertical-align: top;\n",
       "    }\n",
       "\n",
       "    .dataframe thead th {\n",
       "        text-align: right;\n",
       "    }\n",
       "</style>\n",
       "<table border=\"1\" class=\"dataframe\">\n",
       "  <thead>\n",
       "    <tr style=\"text-align: right;\">\n",
       "      <th></th>\n",
       "      <th>id</th>\n",
       "      <th>release_date</th>\n",
       "      <th>production_budget</th>\n",
       "      <th>domestic_gross</th>\n",
       "      <th>worldwide_gross</th>\n",
       "      <th>bg_ratio</th>\n",
       "    </tr>\n",
       "    <tr>\n",
       "      <th>high_budget</th>\n",
       "      <th></th>\n",
       "      <th></th>\n",
       "      <th></th>\n",
       "      <th></th>\n",
       "      <th></th>\n",
       "      <th></th>\n",
       "    </tr>\n",
       "  </thead>\n",
       "  <tbody>\n",
       "    <tr>\n",
       "      <th>0</th>\n",
       "      <td>28.111439</td>\n",
       "      <td>2.613051</td>\n",
       "      <td>12.233320</td>\n",
       "      <td>33.501665</td>\n",
       "      <td>68.331144</td>\n",
       "      <td>13.629455</td>\n",
       "    </tr>\n",
       "    <tr>\n",
       "      <th>1</th>\n",
       "      <td>29.039698</td>\n",
       "      <td>2.690428</td>\n",
       "      <td>59.838864</td>\n",
       "      <td>120.784789</td>\n",
       "      <td>324.756359</td>\n",
       "      <td>2.287961</td>\n",
       "    </tr>\n",
       "  </tbody>\n",
       "</table>\n",
       "</div>"
      ],
      "text/plain": [
       "                    id  release_date  production_budget  domestic_gross  \\\n",
       "high_budget                                                               \n",
       "0            28.111439      2.613051          12.233320       33.501665   \n",
       "1            29.039698      2.690428          59.838864      120.784789   \n",
       "\n",
       "             worldwide_gross   bg_ratio  \n",
       "high_budget                              \n",
       "0                  68.331144  13.629455  \n",
       "1                 324.756359   2.287961  "
      ]
     },
     "execution_count": 125,
     "metadata": {},
     "output_type": "execute_result"
    }
   ],
   "source": [
    "# Lets take a look at the variances\n",
    "budget_df.groupby('high_budget').std()"
   ]
  },
  {
   "cell_type": "markdown",
   "metadata": {},
   "source": [
    "Potential Recommendation: High budget movies have a very low bg_ratio standard deviation meaning that they are more consistent. It might be better to do a higher budget movie instead of lower budget because it is a lot more hit or miss "
   ]
  },
  {
   "cell_type": "code",
   "execution_count": 334,
   "metadata": {},
   "outputs": [],
   "source": [
    "# To be concrete in giving a number, lets look at the top 300 best bg_ratio films and see what their average budget is \n",
    "prod_bud_bg = budget_df.sort_values(by='bg_ratio', ascending=False)['production_budget'][:300].mean()"
   ]
  },
  {
   "cell_type": "code",
   "execution_count": 335,
   "metadata": {},
   "outputs": [],
   "source": [
    "# Next lets look at the top 300 best worldwide grossing films and see what that average is \n",
    "prod_bud_ww = budget_df.sort_values(by='worldwide_gross', ascending=False)['production_budget'][:300].mean()"
   ]
  },
  {
   "cell_type": "code",
   "execution_count": 337,
   "metadata": {},
   "outputs": [
    {
     "name": "stdout",
     "output_type": "stream",
     "text": [
      "The studio should spend 80.29773941666667 on the film\n"
     ]
    }
   ],
   "source": [
    "# To give a concrete number on how much to spend, lets average these two together\n",
    "print(f'The studio should spend {(prod_bud_bg + prod_bud_ww)/2} on the film')"
   ]
  },
  {
   "cell_type": "markdown",
   "metadata": {},
   "source": [
    "This gives us a budget that is not so small that it falls into the high variance range, but not so big that it risks not profiting from the film"
   ]
  },
  {
   "cell_type": "markdown",
   "metadata": {},
   "source": [
    "# IMDB Database"
   ]
  },
  {
   "cell_type": "code",
   "execution_count": 273,
   "metadata": {},
   "outputs": [],
   "source": [
    "# Connect to the database\n",
    "conn = sqlite3.connect('zippedData/im.db')"
   ]
  },
  {
   "cell_type": "code",
   "execution_count": 274,
   "metadata": {},
   "outputs": [
    {
     "data": {
      "text/html": [
       "<div>\n",
       "<style scoped>\n",
       "    .dataframe tbody tr th:only-of-type {\n",
       "        vertical-align: middle;\n",
       "    }\n",
       "\n",
       "    .dataframe tbody tr th {\n",
       "        vertical-align: top;\n",
       "    }\n",
       "\n",
       "    .dataframe thead th {\n",
       "        text-align: right;\n",
       "    }\n",
       "</style>\n",
       "<table border=\"1\" class=\"dataframe\">\n",
       "  <thead>\n",
       "    <tr style=\"text-align: right;\">\n",
       "      <th></th>\n",
       "      <th>name</th>\n",
       "    </tr>\n",
       "  </thead>\n",
       "  <tbody>\n",
       "    <tr>\n",
       "      <th>0</th>\n",
       "      <td>movie_basics</td>\n",
       "    </tr>\n",
       "    <tr>\n",
       "      <th>1</th>\n",
       "      <td>directors</td>\n",
       "    </tr>\n",
       "    <tr>\n",
       "      <th>2</th>\n",
       "      <td>known_for</td>\n",
       "    </tr>\n",
       "    <tr>\n",
       "      <th>3</th>\n",
       "      <td>movie_akas</td>\n",
       "    </tr>\n",
       "    <tr>\n",
       "      <th>4</th>\n",
       "      <td>movie_ratings</td>\n",
       "    </tr>\n",
       "    <tr>\n",
       "      <th>5</th>\n",
       "      <td>persons</td>\n",
       "    </tr>\n",
       "    <tr>\n",
       "      <th>6</th>\n",
       "      <td>principals</td>\n",
       "    </tr>\n",
       "    <tr>\n",
       "      <th>7</th>\n",
       "      <td>writers</td>\n",
       "    </tr>\n",
       "  </tbody>\n",
       "</table>\n",
       "</div>"
      ],
      "text/plain": [
       "            name\n",
       "0   movie_basics\n",
       "1      directors\n",
       "2      known_for\n",
       "3     movie_akas\n",
       "4  movie_ratings\n",
       "5        persons\n",
       "6     principals\n",
       "7        writers"
      ]
     },
     "execution_count": 274,
     "metadata": {},
     "output_type": "execute_result"
    }
   ],
   "source": [
    "# Lets look at all the tables\n",
    "q = '''\n",
    "SELECT \n",
    "    name\n",
    "FROM \n",
    "    sqlite_schema\n",
    "WHERE \n",
    "    type ='table'\n",
    "'''\n",
    "pd.read_sql(q,conn)"
   ]
  },
  {
   "cell_type": "code",
   "execution_count": 275,
   "metadata": {},
   "outputs": [
    {
     "data": {
      "text/html": [
       "<div>\n",
       "<style scoped>\n",
       "    .dataframe tbody tr th:only-of-type {\n",
       "        vertical-align: middle;\n",
       "    }\n",
       "\n",
       "    .dataframe tbody tr th {\n",
       "        vertical-align: top;\n",
       "    }\n",
       "\n",
       "    .dataframe thead th {\n",
       "        text-align: right;\n",
       "    }\n",
       "</style>\n",
       "<table border=\"1\" class=\"dataframe\">\n",
       "  <thead>\n",
       "    <tr style=\"text-align: right;\">\n",
       "      <th></th>\n",
       "      <th>movie_id</th>\n",
       "      <th>primary_title</th>\n",
       "      <th>original_title</th>\n",
       "      <th>start_year</th>\n",
       "      <th>runtime_minutes</th>\n",
       "      <th>genres</th>\n",
       "      <th>averagerating</th>\n",
       "      <th>numvotes</th>\n",
       "    </tr>\n",
       "  </thead>\n",
       "  <tbody>\n",
       "    <tr>\n",
       "      <th>0</th>\n",
       "      <td>tt0063540</td>\n",
       "      <td>Sunghursh</td>\n",
       "      <td>Sunghursh</td>\n",
       "      <td>2013</td>\n",
       "      <td>175.0</td>\n",
       "      <td>Action,Crime,Drama</td>\n",
       "      <td>7.0</td>\n",
       "      <td>77</td>\n",
       "    </tr>\n",
       "    <tr>\n",
       "      <th>1</th>\n",
       "      <td>tt0066787</td>\n",
       "      <td>One Day Before the Rainy Season</td>\n",
       "      <td>Ashad Ka Ek Din</td>\n",
       "      <td>2019</td>\n",
       "      <td>114.0</td>\n",
       "      <td>Biography,Drama</td>\n",
       "      <td>7.2</td>\n",
       "      <td>43</td>\n",
       "    </tr>\n",
       "    <tr>\n",
       "      <th>2</th>\n",
       "      <td>tt0069049</td>\n",
       "      <td>The Other Side of the Wind</td>\n",
       "      <td>The Other Side of the Wind</td>\n",
       "      <td>2018</td>\n",
       "      <td>122.0</td>\n",
       "      <td>Drama</td>\n",
       "      <td>6.9</td>\n",
       "      <td>4517</td>\n",
       "    </tr>\n",
       "    <tr>\n",
       "      <th>3</th>\n",
       "      <td>tt0069204</td>\n",
       "      <td>Sabse Bada Sukh</td>\n",
       "      <td>Sabse Bada Sukh</td>\n",
       "      <td>2018</td>\n",
       "      <td>NaN</td>\n",
       "      <td>Comedy,Drama</td>\n",
       "      <td>6.1</td>\n",
       "      <td>13</td>\n",
       "    </tr>\n",
       "    <tr>\n",
       "      <th>4</th>\n",
       "      <td>tt0100275</td>\n",
       "      <td>The Wandering Soap Opera</td>\n",
       "      <td>La Telenovela Errante</td>\n",
       "      <td>2017</td>\n",
       "      <td>80.0</td>\n",
       "      <td>Comedy,Drama,Fantasy</td>\n",
       "      <td>6.5</td>\n",
       "      <td>119</td>\n",
       "    </tr>\n",
       "  </tbody>\n",
       "</table>\n",
       "</div>"
      ],
      "text/plain": [
       "    movie_id                    primary_title              original_title  \\\n",
       "0  tt0063540                        Sunghursh                   Sunghursh   \n",
       "1  tt0066787  One Day Before the Rainy Season             Ashad Ka Ek Din   \n",
       "2  tt0069049       The Other Side of the Wind  The Other Side of the Wind   \n",
       "3  tt0069204                  Sabse Bada Sukh             Sabse Bada Sukh   \n",
       "4  tt0100275         The Wandering Soap Opera       La Telenovela Errante   \n",
       "\n",
       "   start_year  runtime_minutes                genres  averagerating  numvotes  \n",
       "0        2013            175.0    Action,Crime,Drama            7.0        77  \n",
       "1        2019            114.0       Biography,Drama            7.2        43  \n",
       "2        2018            122.0                 Drama            6.9      4517  \n",
       "3        2018              NaN          Comedy,Drama            6.1        13  \n",
       "4        2017             80.0  Comedy,Drama,Fantasy            6.5       119  "
      ]
     },
     "execution_count": 275,
     "metadata": {},
     "output_type": "execute_result"
    }
   ],
   "source": [
    "# Define a query to view data in the database and store it as a df\n",
    "q = '''\n",
    "select *\n",
    "from movie_basics\n",
    "join movie_ratings\n",
    "using(movie_id)\n",
    "where movie_basics.start_year > 2009\n",
    "'''\n",
    "\n",
    "rate_genre_df = pd.read_sql(q,conn)\n",
    "rate_genre_df.head()"
   ]
  },
  {
   "cell_type": "code",
   "execution_count": 276,
   "metadata": {},
   "outputs": [
    {
     "name": "stdout",
     "output_type": "stream",
     "text": [
      "<class 'pandas.core.frame.DataFrame'>\n",
      "RangeIndex: 73856 entries, 0 to 73855\n",
      "Data columns (total 8 columns):\n",
      " #   Column           Non-Null Count  Dtype  \n",
      "---  ------           --------------  -----  \n",
      " 0   movie_id         73856 non-null  object \n",
      " 1   primary_title    73856 non-null  object \n",
      " 2   original_title   73856 non-null  object \n",
      " 3   start_year       73856 non-null  int64  \n",
      " 4   runtime_minutes  66236 non-null  float64\n",
      " 5   genres           73052 non-null  object \n",
      " 6   averagerating    73856 non-null  float64\n",
      " 7   numvotes         73856 non-null  int64  \n",
      "dtypes: float64(2), int64(2), object(4)\n",
      "memory usage: 4.5+ MB\n"
     ]
    }
   ],
   "source": [
    "# Lets check out the info associated with this dataframe\n",
    "rate_genre_df.info()"
   ]
  },
  {
   "cell_type": "code",
   "execution_count": 277,
   "metadata": {},
   "outputs": [],
   "source": [
    "# The main reason we want this dataset is for the genres, titles, averagerating, and numvotes. Lets drop everything else\n",
    "to_drop = ['movie_id', 'original_title', 'start_year', 'runtime_minutes']\n",
    "rate_genre_df = rate_genre_df.drop(labels=to_drop, axis=1)"
   ]
  },
  {
   "cell_type": "code",
   "execution_count": 278,
   "metadata": {},
   "outputs": [
    {
     "data": {
      "text/html": [
       "<div>\n",
       "<style scoped>\n",
       "    .dataframe tbody tr th:only-of-type {\n",
       "        vertical-align: middle;\n",
       "    }\n",
       "\n",
       "    .dataframe tbody tr th {\n",
       "        vertical-align: top;\n",
       "    }\n",
       "\n",
       "    .dataframe thead th {\n",
       "        text-align: right;\n",
       "    }\n",
       "</style>\n",
       "<table border=\"1\" class=\"dataframe\">\n",
       "  <thead>\n",
       "    <tr style=\"text-align: right;\">\n",
       "      <th></th>\n",
       "      <th>title</th>\n",
       "      <th>studio</th>\n",
       "      <th>domestic_gross</th>\n",
       "      <th>foreign_gross</th>\n",
       "      <th>year</th>\n",
       "      <th>total_gross</th>\n",
       "    </tr>\n",
       "  </thead>\n",
       "  <tbody>\n",
       "    <tr>\n",
       "      <th>0</th>\n",
       "      <td>toystory3</td>\n",
       "      <td>BV</td>\n",
       "      <td>415.0</td>\n",
       "      <td>652.0</td>\n",
       "      <td>2010-01-01</td>\n",
       "      <td>1067.0</td>\n",
       "    </tr>\n",
       "    <tr>\n",
       "      <th>1</th>\n",
       "      <td>aliceinwonderland(2010)</td>\n",
       "      <td>BV</td>\n",
       "      <td>334.2</td>\n",
       "      <td>691.3</td>\n",
       "      <td>2010-01-01</td>\n",
       "      <td>1025.5</td>\n",
       "    </tr>\n",
       "    <tr>\n",
       "      <th>2</th>\n",
       "      <td>harrypotterandthedeathlyhallowspart1</td>\n",
       "      <td>WB</td>\n",
       "      <td>296.0</td>\n",
       "      <td>664.3</td>\n",
       "      <td>2010-01-01</td>\n",
       "      <td>960.3</td>\n",
       "    </tr>\n",
       "    <tr>\n",
       "      <th>3</th>\n",
       "      <td>inception</td>\n",
       "      <td>WB</td>\n",
       "      <td>292.6</td>\n",
       "      <td>535.7</td>\n",
       "      <td>2010-01-01</td>\n",
       "      <td>828.3</td>\n",
       "    </tr>\n",
       "    <tr>\n",
       "      <th>4</th>\n",
       "      <td>shrekforeverafter</td>\n",
       "      <td>P/DW</td>\n",
       "      <td>238.7</td>\n",
       "      <td>513.9</td>\n",
       "      <td>2010-01-01</td>\n",
       "      <td>752.6</td>\n",
       "    </tr>\n",
       "  </tbody>\n",
       "</table>\n",
       "</div>"
      ],
      "text/plain": [
       "                                  title studio  domestic_gross  foreign_gross  \\\n",
       "0                             toystory3     BV           415.0          652.0   \n",
       "1               aliceinwonderland(2010)     BV           334.2          691.3   \n",
       "2  harrypotterandthedeathlyhallowspart1     WB           296.0          664.3   \n",
       "3                             inception     WB           292.6          535.7   \n",
       "4                     shrekforeverafter   P/DW           238.7          513.9   \n",
       "\n",
       "        year  total_gross  \n",
       "0 2010-01-01       1067.0  \n",
       "1 2010-01-01       1025.5  \n",
       "2 2010-01-01        960.3  \n",
       "3 2010-01-01        828.3  \n",
       "4 2010-01-01        752.6  "
      ]
     },
     "execution_count": 278,
     "metadata": {},
     "output_type": "execute_result"
    }
   ],
   "source": [
    "movie_gross_df.head()"
   ]
  },
  {
   "cell_type": "code",
   "execution_count": 279,
   "metadata": {},
   "outputs": [],
   "source": [
    "# Lets change the titles of both this df and gross df \n",
    "rate_genre_df['primary_title'] = rate_genre_df['primary_title'].map(lambda x: x.strip().lower().replace(\" \", \"\"))\n",
    "movie_gross_df['title'] = movie_gross_df['title'].map(lambda x: x.strip().lower().replace(\" \", \"\"))"
   ]
  },
  {
   "cell_type": "code",
   "execution_count": 280,
   "metadata": {},
   "outputs": [
    {
     "data": {
      "text/html": [
       "<div>\n",
       "<style scoped>\n",
       "    .dataframe tbody tr th:only-of-type {\n",
       "        vertical-align: middle;\n",
       "    }\n",
       "\n",
       "    .dataframe tbody tr th {\n",
       "        vertical-align: top;\n",
       "    }\n",
       "\n",
       "    .dataframe thead th {\n",
       "        text-align: right;\n",
       "    }\n",
       "</style>\n",
       "<table border=\"1\" class=\"dataframe\">\n",
       "  <thead>\n",
       "    <tr style=\"text-align: right;\">\n",
       "      <th></th>\n",
       "      <th>primary_title</th>\n",
       "      <th>genres</th>\n",
       "      <th>averagerating</th>\n",
       "      <th>numvotes</th>\n",
       "    </tr>\n",
       "  </thead>\n",
       "  <tbody>\n",
       "    <tr>\n",
       "      <th>0</th>\n",
       "      <td>sunghursh</td>\n",
       "      <td>Action,Crime,Drama</td>\n",
       "      <td>7.0</td>\n",
       "      <td>77</td>\n",
       "    </tr>\n",
       "    <tr>\n",
       "      <th>1</th>\n",
       "      <td>onedaybeforetherainyseason</td>\n",
       "      <td>Biography,Drama</td>\n",
       "      <td>7.2</td>\n",
       "      <td>43</td>\n",
       "    </tr>\n",
       "    <tr>\n",
       "      <th>2</th>\n",
       "      <td>theothersideofthewind</td>\n",
       "      <td>Drama</td>\n",
       "      <td>6.9</td>\n",
       "      <td>4517</td>\n",
       "    </tr>\n",
       "    <tr>\n",
       "      <th>3</th>\n",
       "      <td>sabsebadasukh</td>\n",
       "      <td>Comedy,Drama</td>\n",
       "      <td>6.1</td>\n",
       "      <td>13</td>\n",
       "    </tr>\n",
       "    <tr>\n",
       "      <th>4</th>\n",
       "      <td>thewanderingsoapopera</td>\n",
       "      <td>Comedy,Drama,Fantasy</td>\n",
       "      <td>6.5</td>\n",
       "      <td>119</td>\n",
       "    </tr>\n",
       "  </tbody>\n",
       "</table>\n",
       "</div>"
      ],
      "text/plain": [
       "                primary_title                genres  averagerating  numvotes\n",
       "0                   sunghursh    Action,Crime,Drama            7.0        77\n",
       "1  onedaybeforetherainyseason       Biography,Drama            7.2        43\n",
       "2       theothersideofthewind                 Drama            6.9      4517\n",
       "3               sabsebadasukh          Comedy,Drama            6.1        13\n",
       "4       thewanderingsoapopera  Comedy,Drama,Fantasy            6.5       119"
      ]
     },
     "execution_count": 280,
     "metadata": {},
     "output_type": "execute_result"
    }
   ],
   "source": [
    "rate_genre_df.head()"
   ]
  },
  {
   "cell_type": "code",
   "execution_count": 281,
   "metadata": {},
   "outputs": [
    {
     "data": {
      "text/html": [
       "<div>\n",
       "<style scoped>\n",
       "    .dataframe tbody tr th:only-of-type {\n",
       "        vertical-align: middle;\n",
       "    }\n",
       "\n",
       "    .dataframe tbody tr th {\n",
       "        vertical-align: top;\n",
       "    }\n",
       "\n",
       "    .dataframe thead th {\n",
       "        text-align: right;\n",
       "    }\n",
       "</style>\n",
       "<table border=\"1\" class=\"dataframe\">\n",
       "  <thead>\n",
       "    <tr style=\"text-align: right;\">\n",
       "      <th></th>\n",
       "      <th>title</th>\n",
       "      <th>studio</th>\n",
       "      <th>domestic_gross</th>\n",
       "      <th>foreign_gross</th>\n",
       "      <th>year</th>\n",
       "      <th>total_gross</th>\n",
       "    </tr>\n",
       "  </thead>\n",
       "  <tbody>\n",
       "    <tr>\n",
       "      <th>0</th>\n",
       "      <td>toystory3</td>\n",
       "      <td>BV</td>\n",
       "      <td>415.0</td>\n",
       "      <td>652.0</td>\n",
       "      <td>2010-01-01</td>\n",
       "      <td>1067.0</td>\n",
       "    </tr>\n",
       "    <tr>\n",
       "      <th>1</th>\n",
       "      <td>aliceinwonderland(2010)</td>\n",
       "      <td>BV</td>\n",
       "      <td>334.2</td>\n",
       "      <td>691.3</td>\n",
       "      <td>2010-01-01</td>\n",
       "      <td>1025.5</td>\n",
       "    </tr>\n",
       "    <tr>\n",
       "      <th>2</th>\n",
       "      <td>harrypotterandthedeathlyhallowspart1</td>\n",
       "      <td>WB</td>\n",
       "      <td>296.0</td>\n",
       "      <td>664.3</td>\n",
       "      <td>2010-01-01</td>\n",
       "      <td>960.3</td>\n",
       "    </tr>\n",
       "    <tr>\n",
       "      <th>3</th>\n",
       "      <td>inception</td>\n",
       "      <td>WB</td>\n",
       "      <td>292.6</td>\n",
       "      <td>535.7</td>\n",
       "      <td>2010-01-01</td>\n",
       "      <td>828.3</td>\n",
       "    </tr>\n",
       "    <tr>\n",
       "      <th>4</th>\n",
       "      <td>shrekforeverafter</td>\n",
       "      <td>P/DW</td>\n",
       "      <td>238.7</td>\n",
       "      <td>513.9</td>\n",
       "      <td>2010-01-01</td>\n",
       "      <td>752.6</td>\n",
       "    </tr>\n",
       "  </tbody>\n",
       "</table>\n",
       "</div>"
      ],
      "text/plain": [
       "                                  title studio  domestic_gross  foreign_gross  \\\n",
       "0                             toystory3     BV           415.0          652.0   \n",
       "1               aliceinwonderland(2010)     BV           334.2          691.3   \n",
       "2  harrypotterandthedeathlyhallowspart1     WB           296.0          664.3   \n",
       "3                             inception     WB           292.6          535.7   \n",
       "4                     shrekforeverafter   P/DW           238.7          513.9   \n",
       "\n",
       "        year  total_gross  \n",
       "0 2010-01-01       1067.0  \n",
       "1 2010-01-01       1025.5  \n",
       "2 2010-01-01        960.3  \n",
       "3 2010-01-01        828.3  \n",
       "4 2010-01-01        752.6  "
      ]
     },
     "execution_count": 281,
     "metadata": {},
     "output_type": "execute_result"
    }
   ],
   "source": [
    "movie_gross_df.head()"
   ]
  },
  {
   "cell_type": "code",
   "execution_count": 282,
   "metadata": {},
   "outputs": [],
   "source": [
    "# Lets rename the the primary_title column to be consistent with the title column\n",
    "rate_genre_df = rate_genre_df.rename({'primary_title':'title'}, axis=1)"
   ]
  },
  {
   "cell_type": "code",
   "execution_count": 283,
   "metadata": {},
   "outputs": [
    {
     "data": {
      "text/html": [
       "<div>\n",
       "<style scoped>\n",
       "    .dataframe tbody tr th:only-of-type {\n",
       "        vertical-align: middle;\n",
       "    }\n",
       "\n",
       "    .dataframe tbody tr th {\n",
       "        vertical-align: top;\n",
       "    }\n",
       "\n",
       "    .dataframe thead th {\n",
       "        text-align: right;\n",
       "    }\n",
       "</style>\n",
       "<table border=\"1\" class=\"dataframe\">\n",
       "  <thead>\n",
       "    <tr style=\"text-align: right;\">\n",
       "      <th></th>\n",
       "      <th>title</th>\n",
       "      <th>genres</th>\n",
       "      <th>averagerating</th>\n",
       "      <th>numvotes</th>\n",
       "    </tr>\n",
       "  </thead>\n",
       "  <tbody>\n",
       "    <tr>\n",
       "      <th>0</th>\n",
       "      <td>sunghursh</td>\n",
       "      <td>Action,Crime,Drama</td>\n",
       "      <td>7.0</td>\n",
       "      <td>77</td>\n",
       "    </tr>\n",
       "    <tr>\n",
       "      <th>1</th>\n",
       "      <td>onedaybeforetherainyseason</td>\n",
       "      <td>Biography,Drama</td>\n",
       "      <td>7.2</td>\n",
       "      <td>43</td>\n",
       "    </tr>\n",
       "    <tr>\n",
       "      <th>2</th>\n",
       "      <td>theothersideofthewind</td>\n",
       "      <td>Drama</td>\n",
       "      <td>6.9</td>\n",
       "      <td>4517</td>\n",
       "    </tr>\n",
       "    <tr>\n",
       "      <th>3</th>\n",
       "      <td>sabsebadasukh</td>\n",
       "      <td>Comedy,Drama</td>\n",
       "      <td>6.1</td>\n",
       "      <td>13</td>\n",
       "    </tr>\n",
       "    <tr>\n",
       "      <th>4</th>\n",
       "      <td>thewanderingsoapopera</td>\n",
       "      <td>Comedy,Drama,Fantasy</td>\n",
       "      <td>6.5</td>\n",
       "      <td>119</td>\n",
       "    </tr>\n",
       "  </tbody>\n",
       "</table>\n",
       "</div>"
      ],
      "text/plain": [
       "                        title                genres  averagerating  numvotes\n",
       "0                   sunghursh    Action,Crime,Drama            7.0        77\n",
       "1  onedaybeforetherainyseason       Biography,Drama            7.2        43\n",
       "2       theothersideofthewind                 Drama            6.9      4517\n",
       "3               sabsebadasukh          Comedy,Drama            6.1        13\n",
       "4       thewanderingsoapopera  Comedy,Drama,Fantasy            6.5       119"
      ]
     },
     "execution_count": 283,
     "metadata": {},
     "output_type": "execute_result"
    }
   ],
   "source": [
    "rate_genre_df.head()"
   ]
  },
  {
   "cell_type": "markdown",
   "metadata": {},
   "source": [
    "Before we merge the two DataFrames, we should look at the statistics of the rate_genre_df because it has a lot more data than the movie_gross_df dataset"
   ]
  },
  {
   "cell_type": "code",
   "execution_count": 284,
   "metadata": {},
   "outputs": [
    {
     "data": {
      "text/plain": [
       "count       923.000000\n",
       "mean       4378.464914\n",
       "std       13265.696554\n",
       "min           5.000000\n",
       "25%          62.250000\n",
       "50%         322.200000\n",
       "75%        2469.010861\n",
       "max      181285.417323\n",
       "Name: numvotes, dtype: float64"
      ]
     },
     "execution_count": 284,
     "metadata": {},
     "output_type": "execute_result"
    }
   ],
   "source": [
    "# Lets sort the data by average ratings and throw out any ratings that have less than the mean\n",
    "sorted_by_avg = rate_genre_df.groupby('genres').mean().sort_values(by='averagerating', ascending=False)\n",
    "sorted_by_avg['numvotes'].describe()"
   ]
  },
  {
   "cell_type": "code",
   "execution_count": 285,
   "metadata": {},
   "outputs": [],
   "source": [
    "# 15 highest-rated movie genres with more than 62 total votes\n",
    "sorted_avg_higher_votes = sorted_by_avg[sorted_by_avg['numvotes'] >= 62].head(15)\n",
    "sorted_avg_higher_votes.reset_index(inplace=True)"
   ]
  },
  {
   "cell_type": "code",
   "execution_count": 287,
   "metadata": {},
   "outputs": [
    {
     "data": {
      "text/plain": [
       "<AxesSubplot:xlabel='averagerating', ylabel='genres'>"
      ]
     },
     "execution_count": 287,
     "metadata": {},
     "output_type": "execute_result"
    },
    {
     "data": {
      "image/png": "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",
      "text/plain": [
       "<Figure size 432x288 with 1 Axes>"
      ]
     },
     "metadata": {},
     "output_type": "display_data"
    }
   ],
   "source": [
    "# Lets see what the average rating looks like for each genre\n",
    "sns.barplot(x = 'averagerating', y = 'genres', data=sorted_avg_higher_votes)"
   ]
  },
  {
   "cell_type": "code",
   "execution_count": 292,
   "metadata": {},
   "outputs": [
    {
     "name": "stdout",
     "output_type": "stream",
     "text": [
      "{'Mystery': 3, 'News': 1, 'Thriller': 3, 'Documentary': 8, 'Music': 1, 'War': 3, 'Comedy': 3, 'History': 1, 'Musical': 3, 'Animation': 4, 'Crime': 2, 'Romance': 2, 'Western': 1, 'Fantasy': 1, 'Horror': 2, 'Drama': 1, 'Sport': 3, 'Action': 2, 'Adventure': 1}\n"
     ]
    },
    {
     "data": {
      "text/plain": [
       "'Documentary'"
      ]
     },
     "execution_count": 292,
     "metadata": {},
     "output_type": "execute_result"
    }
   ],
   "source": [
    "# Out of these top 15 rated movies, which genre is most highly represented?\n",
    "genre_list = list(sorted_avg_higher_votes['genres'])\n",
    "genre_count = {}\n",
    "for genre in genre_list:\n",
    "    split = genre.split(',')\n",
    "    for word in split:\n",
    "        if word in genre_count:\n",
    "            genre_count[word] += 1\n",
    "        else:\n",
    "            genre_count[word] = 1\n",
    "\n",
    "print(genre_count)\n",
    "max(genre_count, key=genre_count.get)"
   ]
  },
  {
   "cell_type": "markdown",
   "metadata": {},
   "source": [
    "It looks like documentary is the one that is represented the most, with the second being animation. With that in mind, we can merge the datasets"
   ]
  },
  {
   "cell_type": "code",
   "execution_count": 293,
   "metadata": {},
   "outputs": [
    {
     "data": {
      "text/html": [
       "<div>\n",
       "<style scoped>\n",
       "    .dataframe tbody tr th:only-of-type {\n",
       "        vertical-align: middle;\n",
       "    }\n",
       "\n",
       "    .dataframe tbody tr th {\n",
       "        vertical-align: top;\n",
       "    }\n",
       "\n",
       "    .dataframe thead th {\n",
       "        text-align: right;\n",
       "    }\n",
       "</style>\n",
       "<table border=\"1\" class=\"dataframe\">\n",
       "  <thead>\n",
       "    <tr style=\"text-align: right;\">\n",
       "      <th></th>\n",
       "      <th>title</th>\n",
       "      <th>studio</th>\n",
       "      <th>domestic_gross</th>\n",
       "      <th>foreign_gross</th>\n",
       "      <th>year</th>\n",
       "      <th>total_gross</th>\n",
       "      <th>genres</th>\n",
       "      <th>averagerating</th>\n",
       "      <th>numvotes</th>\n",
       "    </tr>\n",
       "  </thead>\n",
       "  <tbody>\n",
       "    <tr>\n",
       "      <th>0</th>\n",
       "      <td>toystory3</td>\n",
       "      <td>BV</td>\n",
       "      <td>415.0</td>\n",
       "      <td>652.0</td>\n",
       "      <td>2010-01-01</td>\n",
       "      <td>1067.0</td>\n",
       "      <td>Adventure,Animation,Comedy</td>\n",
       "      <td>8.3</td>\n",
       "      <td>682218</td>\n",
       "    </tr>\n",
       "    <tr>\n",
       "      <th>1</th>\n",
       "      <td>inception</td>\n",
       "      <td>WB</td>\n",
       "      <td>292.6</td>\n",
       "      <td>535.7</td>\n",
       "      <td>2010-01-01</td>\n",
       "      <td>828.3</td>\n",
       "      <td>Action,Adventure,Sci-Fi</td>\n",
       "      <td>8.8</td>\n",
       "      <td>1841066</td>\n",
       "    </tr>\n",
       "    <tr>\n",
       "      <th>2</th>\n",
       "      <td>shrekforeverafter</td>\n",
       "      <td>P/DW</td>\n",
       "      <td>238.7</td>\n",
       "      <td>513.9</td>\n",
       "      <td>2010-01-01</td>\n",
       "      <td>752.6</td>\n",
       "      <td>Adventure,Animation,Comedy</td>\n",
       "      <td>6.3</td>\n",
       "      <td>167532</td>\n",
       "    </tr>\n",
       "    <tr>\n",
       "      <th>3</th>\n",
       "      <td>thetwilightsaga:eclipse</td>\n",
       "      <td>Sum.</td>\n",
       "      <td>300.5</td>\n",
       "      <td>398.0</td>\n",
       "      <td>2010-01-01</td>\n",
       "      <td>698.5</td>\n",
       "      <td>Adventure,Drama,Fantasy</td>\n",
       "      <td>5.0</td>\n",
       "      <td>211733</td>\n",
       "    </tr>\n",
       "    <tr>\n",
       "      <th>4</th>\n",
       "      <td>ironman2</td>\n",
       "      <td>Par.</td>\n",
       "      <td>312.4</td>\n",
       "      <td>311.5</td>\n",
       "      <td>2010-01-01</td>\n",
       "      <td>623.9</td>\n",
       "      <td>Action,Adventure,Sci-Fi</td>\n",
       "      <td>7.0</td>\n",
       "      <td>657690</td>\n",
       "    </tr>\n",
       "  </tbody>\n",
       "</table>\n",
       "</div>"
      ],
      "text/plain": [
       "                     title studio  domestic_gross  foreign_gross       year  \\\n",
       "0                toystory3     BV           415.0          652.0 2010-01-01   \n",
       "1                inception     WB           292.6          535.7 2010-01-01   \n",
       "2        shrekforeverafter   P/DW           238.7          513.9 2010-01-01   \n",
       "3  thetwilightsaga:eclipse   Sum.           300.5          398.0 2010-01-01   \n",
       "4                 ironman2   Par.           312.4          311.5 2010-01-01   \n",
       "\n",
       "   total_gross                      genres  averagerating  numvotes  \n",
       "0       1067.0  Adventure,Animation,Comedy            8.3    682218  \n",
       "1        828.3     Action,Adventure,Sci-Fi            8.8   1841066  \n",
       "2        752.6  Adventure,Animation,Comedy            6.3    167532  \n",
       "3        698.5     Adventure,Drama,Fantasy            5.0    211733  \n",
       "4        623.9     Action,Adventure,Sci-Fi            7.0    657690  "
      ]
     },
     "execution_count": 293,
     "metadata": {},
     "output_type": "execute_result"
    }
   ],
   "source": [
    "# Lets try and join the two together \n",
    "combined = pd.merge(movie_gross_df, rate_genre_df, on=\"title\")\n",
    "combined.head()"
   ]
  },
  {
   "cell_type": "code",
   "execution_count": 294,
   "metadata": {},
   "outputs": [
    {
     "name": "stdout",
     "output_type": "stream",
     "text": [
      "<class 'pandas.core.frame.DataFrame'>\n",
      "Int64Index: 3135 entries, 0 to 3134\n",
      "Data columns (total 9 columns):\n",
      " #   Column          Non-Null Count  Dtype         \n",
      "---  ------          --------------  -----         \n",
      " 0   title           3135 non-null   object        \n",
      " 1   studio          3135 non-null   object        \n",
      " 2   domestic_gross  3135 non-null   float64       \n",
      " 3   foreign_gross   3135 non-null   float64       \n",
      " 4   year            3135 non-null   datetime64[ns]\n",
      " 5   total_gross     3135 non-null   float64       \n",
      " 6   genres          3127 non-null   object        \n",
      " 7   averagerating   3135 non-null   float64       \n",
      " 8   numvotes        3135 non-null   int64         \n",
      "dtypes: datetime64[ns](1), float64(4), int64(1), object(3)\n",
      "memory usage: 244.9+ KB\n"
     ]
    }
   ],
   "source": [
    "# Now that they are combined, we can do some data cleaning \n",
    "combined.info()"
   ]
  },
  {
   "cell_type": "code",
   "execution_count": 295,
   "metadata": {},
   "outputs": [
    {
     "name": "stdout",
     "output_type": "stream",
     "text": [
      "<class 'pandas.core.frame.DataFrame'>\n",
      "Int64Index: 3127 entries, 0 to 3134\n",
      "Data columns (total 9 columns):\n",
      " #   Column          Non-Null Count  Dtype         \n",
      "---  ------          --------------  -----         \n",
      " 0   title           3127 non-null   object        \n",
      " 1   studio          3127 non-null   object        \n",
      " 2   domestic_gross  3127 non-null   float64       \n",
      " 3   foreign_gross   3127 non-null   float64       \n",
      " 4   year            3127 non-null   datetime64[ns]\n",
      " 5   total_gross     3127 non-null   float64       \n",
      " 6   genres          3127 non-null   object        \n",
      " 7   averagerating   3127 non-null   float64       \n",
      " 8   numvotes        3127 non-null   int64         \n",
      "dtypes: datetime64[ns](1), float64(4), int64(1), object(3)\n",
      "memory usage: 244.3+ KB\n"
     ]
    }
   ],
   "source": [
    "# A very small percentage is missing from genres, lets just drop it \n",
    "combined = combined.dropna()\n",
    "combined.info()"
   ]
  },
  {
   "cell_type": "code",
   "execution_count": 296,
   "metadata": {},
   "outputs": [
    {
     "data": {
      "text/plain": [
       "Drama                             333\n",
       "Comedy,Drama                      142\n",
       "Comedy,Drama,Romance              136\n",
       "Drama,Romance                     118\n",
       "Documentary                       115\n",
       "                                 ... \n",
       "Biography,Documentary,Thriller      1\n",
       "Adventure,Thriller                  1\n",
       "Adventure,Fantasy,Horror            1\n",
       "Adventure,Western                   1\n",
       "Biography,Comedy                    1\n",
       "Name: genres, Length: 323, dtype: int64"
      ]
     },
     "execution_count": 296,
     "metadata": {},
     "output_type": "execute_result"
    }
   ],
   "source": [
    "# Lets take a look at this genre column, which seems messy \n",
    "combined['genres'].value_counts()"
   ]
  },
  {
   "cell_type": "code",
   "execution_count": 297,
   "metadata": {},
   "outputs": [
    {
     "data": {
      "text/plain": [
       "0       Adventure\n",
       "1          Action\n",
       "2       Adventure\n",
       "3       Adventure\n",
       "4          Action\n",
       "          ...    \n",
       "3130        Drama\n",
       "3131       Comedy\n",
       "3132        Crime\n",
       "3133       Action\n",
       "3134       Comedy\n",
       "Name: genres, Length: 3127, dtype: object"
      ]
     },
     "execution_count": 297,
     "metadata": {},
     "output_type": "execute_result"
    }
   ],
   "source": [
    "# One consideration for fixing the genre column\n",
    "combined['genres'].map(lambda x: x.split(',')[0])"
   ]
  },
  {
   "cell_type": "code",
   "execution_count": 298,
   "metadata": {},
   "outputs": [
    {
     "data": {
      "text/plain": [
       "0       Adventure,Animation,Comedy\n",
       "1          Action,Adventure,Sci-Fi\n",
       "2       Adventure,Animation,Comedy\n",
       "3          Adventure,Drama,Fantasy\n",
       "4          Action,Adventure,Sci-Fi\n",
       "                   ...            \n",
       "3130           Drama,Music,Romance\n",
       "3131                Comedy,Romance\n",
       "3132          Crime,Drama,Thriller\n",
       "3133         Action,Drama,Thriller\n",
       "3134                        Comedy\n",
       "Name: genres, Length: 3127, dtype: object"
      ]
     },
     "execution_count": 298,
     "metadata": {},
     "output_type": "execute_result"
    }
   ],
   "source": [
    "# Another consideration\n",
    "combined['genres'].map(lambda x: ','.join(sorted(x.split(','))))"
   ]
  },
  {
   "cell_type": "markdown",
   "metadata": {},
   "source": [
    "Uncomment for code\n",
    "Maybe it would be better to just take the first genre description\n",
    "combined['genres'] = combined['genres'].map(lambda x: x.split(',')[0])"
   ]
  },
  {
   "cell_type": "code",
   "execution_count": 299,
   "metadata": {},
   "outputs": [],
   "source": [
    "# Another consideration is to keep the multiple genres but order them \n",
    "combined['genres'] = combined['genres'].map(lambda x: ','.join(sorted(x.split(','))))"
   ]
  },
  {
   "cell_type": "code",
   "execution_count": 300,
   "metadata": {},
   "outputs": [
    {
     "data": {
      "text/plain": [
       "Drama                         333\n",
       "Comedy,Drama                  142\n",
       "Comedy,Drama,Romance          136\n",
       "Drama,Romance                 118\n",
       "Documentary                   115\n",
       "Comedy                        101\n",
       "Adventure,Animation,Comedy     77\n",
       "Comedy,Romance                 76\n",
       "Drama,Thriller                 56\n",
       "Action,Adventure,Sci-Fi        48\n",
       "Action,Crime,Drama             46\n",
       "Biography,Drama,History        44\n",
       "Action,Comedy,Crime            44\n",
       "Action,Crime,Thriller          39\n",
       "Biography,Drama                39\n",
       "Crime,Drama,Thriller           39\n",
       "Action,Adventure,Drama         39\n",
       "Horror,Mystery,Thriller        34\n",
       "Crime,Drama                    33\n",
       "Action,Adventure,Comedy        33\n",
       "Name: genres, dtype: int64"
      ]
     },
     "execution_count": 300,
     "metadata": {},
     "output_type": "execute_result"
    }
   ],
   "source": [
    "# Lets take a look at the value counts again \n",
    "combined['genres'].value_counts().head(20)"
   ]
  },
  {
   "cell_type": "code",
   "execution_count": 301,
   "metadata": {},
   "outputs": [],
   "source": [
    "# To not skew our groupbys with genres represented a small amount of times, lets filter those out\n",
    "combined_100 = combined.groupby(\"genres\").filter(lambda x: len(x) > 30)"
   ]
  },
  {
   "cell_type": "code",
   "execution_count": 302,
   "metadata": {},
   "outputs": [],
   "source": [
    "# Lets save the medians \n",
    "medians = combined_100.groupby('genres').median()"
   ]
  },
  {
   "cell_type": "code",
   "execution_count": 303,
   "metadata": {},
   "outputs": [
    {
     "data": {
      "text/html": [
       "<div>\n",
       "<style scoped>\n",
       "    .dataframe tbody tr th:only-of-type {\n",
       "        vertical-align: middle;\n",
       "    }\n",
       "\n",
       "    .dataframe tbody tr th {\n",
       "        vertical-align: top;\n",
       "    }\n",
       "\n",
       "    .dataframe thead th {\n",
       "        text-align: right;\n",
       "    }\n",
       "</style>\n",
       "<table border=\"1\" class=\"dataframe\">\n",
       "  <thead>\n",
       "    <tr style=\"text-align: right;\">\n",
       "      <th></th>\n",
       "      <th>domestic_gross</th>\n",
       "      <th>foreign_gross</th>\n",
       "      <th>total_gross</th>\n",
       "      <th>averagerating</th>\n",
       "      <th>numvotes</th>\n",
       "    </tr>\n",
       "    <tr>\n",
       "      <th>genres</th>\n",
       "      <th></th>\n",
       "      <th></th>\n",
       "      <th></th>\n",
       "      <th></th>\n",
       "      <th></th>\n",
       "    </tr>\n",
       "  </thead>\n",
       "  <tbody>\n",
       "    <tr>\n",
       "      <th>Action,Adventure,Comedy</th>\n",
       "      <td>33.6000</td>\n",
       "      <td>163.600000</td>\n",
       "      <td>205.618100</td>\n",
       "      <td>6.20</td>\n",
       "      <td>77234.0</td>\n",
       "    </tr>\n",
       "    <tr>\n",
       "      <th>Action,Adventure,Drama</th>\n",
       "      <td>34.9000</td>\n",
       "      <td>62.300000</td>\n",
       "      <td>77.900000</td>\n",
       "      <td>6.10</td>\n",
       "      <td>63787.0</td>\n",
       "    </tr>\n",
       "    <tr>\n",
       "      <th>Action,Adventure,Fantasy</th>\n",
       "      <td>61.7000</td>\n",
       "      <td>221.600000</td>\n",
       "      <td>334.900000</td>\n",
       "      <td>6.50</td>\n",
       "      <td>218371.0</td>\n",
       "    </tr>\n",
       "    <tr>\n",
       "      <th>Action,Adventure,Sci-Fi</th>\n",
       "      <td>167.7500</td>\n",
       "      <td>297.850000</td>\n",
       "      <td>563.400000</td>\n",
       "      <td>6.90</td>\n",
       "      <td>383706.5</td>\n",
       "    </tr>\n",
       "    <tr>\n",
       "      <th>Action,Comedy,Crime</th>\n",
       "      <td>27.6000</td>\n",
       "      <td>25.800000</td>\n",
       "      <td>52.954724</td>\n",
       "      <td>6.15</td>\n",
       "      <td>40016.5</td>\n",
       "    </tr>\n",
       "    <tr>\n",
       "      <th>Action,Crime,Drama</th>\n",
       "      <td>9.8000</td>\n",
       "      <td>11.400000</td>\n",
       "      <td>19.938000</td>\n",
       "      <td>6.55</td>\n",
       "      <td>38314.5</td>\n",
       "    </tr>\n",
       "    <tr>\n",
       "      <th>Action,Crime,Thriller</th>\n",
       "      <td>17.6000</td>\n",
       "      <td>10.800000</td>\n",
       "      <td>24.999503</td>\n",
       "      <td>6.50</td>\n",
       "      <td>48427.0</td>\n",
       "    </tr>\n",
       "    <tr>\n",
       "      <th>Adventure,Animation,Comedy</th>\n",
       "      <td>90.3000</td>\n",
       "      <td>152.200000</td>\n",
       "      <td>246.299999</td>\n",
       "      <td>6.50</td>\n",
       "      <td>47294.0</td>\n",
       "    </tr>\n",
       "    <tr>\n",
       "      <th>Biography,Drama</th>\n",
       "      <td>3.0000</td>\n",
       "      <td>4.405122</td>\n",
       "      <td>8.157732</td>\n",
       "      <td>6.90</td>\n",
       "      <td>16593.0</td>\n",
       "    </tr>\n",
       "    <tr>\n",
       "      <th>Biography,Drama,History</th>\n",
       "      <td>5.1000</td>\n",
       "      <td>8.320786</td>\n",
       "      <td>14.710393</td>\n",
       "      <td>6.90</td>\n",
       "      <td>23146.5</td>\n",
       "    </tr>\n",
       "    <tr>\n",
       "      <th>Comedy</th>\n",
       "      <td>1.7000</td>\n",
       "      <td>5.100000</td>\n",
       "      <td>10.852000</td>\n",
       "      <td>5.90</td>\n",
       "      <td>7966.0</td>\n",
       "    </tr>\n",
       "    <tr>\n",
       "      <th>Comedy,Drama</th>\n",
       "      <td>0.6700</td>\n",
       "      <td>2.373645</td>\n",
       "      <td>4.668374</td>\n",
       "      <td>6.60</td>\n",
       "      <td>10363.0</td>\n",
       "    </tr>\n",
       "    <tr>\n",
       "      <th>Comedy,Drama,Romance</th>\n",
       "      <td>2.2000</td>\n",
       "      <td>4.149999</td>\n",
       "      <td>7.403637</td>\n",
       "      <td>6.35</td>\n",
       "      <td>16094.0</td>\n",
       "    </tr>\n",
       "    <tr>\n",
       "      <th>Comedy,Romance</th>\n",
       "      <td>2.5000</td>\n",
       "      <td>4.784137</td>\n",
       "      <td>21.600000</td>\n",
       "      <td>6.20</td>\n",
       "      <td>19178.5</td>\n",
       "    </tr>\n",
       "    <tr>\n",
       "      <th>Crime,Drama</th>\n",
       "      <td>0.3020</td>\n",
       "      <td>1.900000</td>\n",
       "      <td>3.622100</td>\n",
       "      <td>7.20</td>\n",
       "      <td>15214.0</td>\n",
       "    </tr>\n",
       "    <tr>\n",
       "      <th>Crime,Drama,Thriller</th>\n",
       "      <td>2.0000</td>\n",
       "      <td>3.263053</td>\n",
       "      <td>6.052511</td>\n",
       "      <td>6.50</td>\n",
       "      <td>17511.0</td>\n",
       "    </tr>\n",
       "    <tr>\n",
       "      <th>Documentary</th>\n",
       "      <td>0.5340</td>\n",
       "      <td>0.686873</td>\n",
       "      <td>1.334184</td>\n",
       "      <td>7.20</td>\n",
       "      <td>1035.0</td>\n",
       "    </tr>\n",
       "    <tr>\n",
       "      <th>Drama</th>\n",
       "      <td>0.1870</td>\n",
       "      <td>0.614000</td>\n",
       "      <td>0.960507</td>\n",
       "      <td>6.70</td>\n",
       "      <td>2099.0</td>\n",
       "    </tr>\n",
       "    <tr>\n",
       "      <th>Drama,Romance</th>\n",
       "      <td>0.7445</td>\n",
       "      <td>2.868374</td>\n",
       "      <td>4.736748</td>\n",
       "      <td>6.70</td>\n",
       "      <td>12355.0</td>\n",
       "    </tr>\n",
       "    <tr>\n",
       "      <th>Drama,Thriller</th>\n",
       "      <td>1.5500</td>\n",
       "      <td>2.718374</td>\n",
       "      <td>4.310874</td>\n",
       "      <td>6.50</td>\n",
       "      <td>9066.5</td>\n",
       "    </tr>\n",
       "    <tr>\n",
       "      <th>Horror,Mystery,Thriller</th>\n",
       "      <td>31.5500</td>\n",
       "      <td>30.600000</td>\n",
       "      <td>70.900000</td>\n",
       "      <td>5.40</td>\n",
       "      <td>48851.5</td>\n",
       "    </tr>\n",
       "    <tr>\n",
       "      <th>Horror,Thriller</th>\n",
       "      <td>2.8000</td>\n",
       "      <td>5.449901</td>\n",
       "      <td>8.600350</td>\n",
       "      <td>5.25</td>\n",
       "      <td>22794.5</td>\n",
       "    </tr>\n",
       "  </tbody>\n",
       "</table>\n",
       "</div>"
      ],
      "text/plain": [
       "                            domestic_gross  foreign_gross  total_gross  \\\n",
       "genres                                                                   \n",
       "Action,Adventure,Comedy            33.6000     163.600000   205.618100   \n",
       "Action,Adventure,Drama             34.9000      62.300000    77.900000   \n",
       "Action,Adventure,Fantasy           61.7000     221.600000   334.900000   \n",
       "Action,Adventure,Sci-Fi           167.7500     297.850000   563.400000   \n",
       "Action,Comedy,Crime                27.6000      25.800000    52.954724   \n",
       "Action,Crime,Drama                  9.8000      11.400000    19.938000   \n",
       "Action,Crime,Thriller              17.6000      10.800000    24.999503   \n",
       "Adventure,Animation,Comedy         90.3000     152.200000   246.299999   \n",
       "Biography,Drama                     3.0000       4.405122     8.157732   \n",
       "Biography,Drama,History             5.1000       8.320786    14.710393   \n",
       "Comedy                              1.7000       5.100000    10.852000   \n",
       "Comedy,Drama                        0.6700       2.373645     4.668374   \n",
       "Comedy,Drama,Romance                2.2000       4.149999     7.403637   \n",
       "Comedy,Romance                      2.5000       4.784137    21.600000   \n",
       "Crime,Drama                         0.3020       1.900000     3.622100   \n",
       "Crime,Drama,Thriller                2.0000       3.263053     6.052511   \n",
       "Documentary                         0.5340       0.686873     1.334184   \n",
       "Drama                               0.1870       0.614000     0.960507   \n",
       "Drama,Romance                       0.7445       2.868374     4.736748   \n",
       "Drama,Thriller                      1.5500       2.718374     4.310874   \n",
       "Horror,Mystery,Thriller            31.5500      30.600000    70.900000   \n",
       "Horror,Thriller                     2.8000       5.449901     8.600350   \n",
       "\n",
       "                            averagerating  numvotes  \n",
       "genres                                               \n",
       "Action,Adventure,Comedy              6.20   77234.0  \n",
       "Action,Adventure,Drama               6.10   63787.0  \n",
       "Action,Adventure,Fantasy             6.50  218371.0  \n",
       "Action,Adventure,Sci-Fi              6.90  383706.5  \n",
       "Action,Comedy,Crime                  6.15   40016.5  \n",
       "Action,Crime,Drama                   6.55   38314.5  \n",
       "Action,Crime,Thriller                6.50   48427.0  \n",
       "Adventure,Animation,Comedy           6.50   47294.0  \n",
       "Biography,Drama                      6.90   16593.0  \n",
       "Biography,Drama,History              6.90   23146.5  \n",
       "Comedy                               5.90    7966.0  \n",
       "Comedy,Drama                         6.60   10363.0  \n",
       "Comedy,Drama,Romance                 6.35   16094.0  \n",
       "Comedy,Romance                       6.20   19178.5  \n",
       "Crime,Drama                          7.20   15214.0  \n",
       "Crime,Drama,Thriller                 6.50   17511.0  \n",
       "Documentary                          7.20    1035.0  \n",
       "Drama                                6.70    2099.0  \n",
       "Drama,Romance                        6.70   12355.0  \n",
       "Drama,Thriller                       6.50    9066.5  \n",
       "Horror,Mystery,Thriller              5.40   48851.5  \n",
       "Horror,Thriller                      5.25   22794.5  "
      ]
     },
     "execution_count": 303,
     "metadata": {},
     "output_type": "execute_result"
    }
   ],
   "source": [
    "medians"
   ]
  },
  {
   "cell_type": "code",
   "execution_count": 307,
   "metadata": {},
   "outputs": [
    {
     "data": {
      "text/plain": [
       "<AxesSubplot:xlabel='genres'>"
      ]
     },
     "execution_count": 307,
     "metadata": {},
     "output_type": "execute_result"
    },
    {
     "data": {
      "image/png": "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",
      "text/plain": [
       "<Figure size 432x288 with 1 Axes>"
      ]
     },
     "metadata": {},
     "output_type": "display_data"
    }
   ],
   "source": [
    "# Lets plot the median gross per genre of movie\n",
    "medians.reset_index().sort_values(by='total_gross', ascending=False).plot.bar('genres', 'total_gross')"
   ]
  },
  {
   "cell_type": "code",
   "execution_count": 308,
   "metadata": {},
   "outputs": [
    {
     "data": {
      "text/plain": [
       "<AxesSubplot:xlabel='genres'>"
      ]
     },
     "execution_count": 308,
     "metadata": {},
     "output_type": "execute_result"
    },
    {
     "data": {
      "image/png": "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",
      "text/plain": [
       "<Figure size 432x288 with 1 Axes>"
      ]
     },
     "metadata": {},
     "output_type": "display_data"
    }
   ],
   "source": [
    "# Lets plot the median rating per genre of movie now that the data is combined for consistency\n",
    "medians.reset_index().sort_values(by='averagerating', ascending=False).plot.bar('genres', 'averagerating')"
   ]
  },
  {
   "cell_type": "code",
   "execution_count": 309,
   "metadata": {},
   "outputs": [],
   "source": [
    "# Lets also get the count of each genre now that the dataframes are merged\n",
    "genre_list = list(medians.sort_values(by='averagerating', ascending=False).index)\n",
    "genre_count = {}\n",
    "for genre in genre_list:\n",
    "    split = genre.split(',')\n",
    "    for word in split:\n",
    "        if word in genre_count:\n",
    "            genre_count[word] += 1\n",
    "        else:\n",
    "            genre_count[word] = 1"
   ]
  },
  {
   "cell_type": "code",
   "execution_count": 311,
   "metadata": {},
   "outputs": [
    {
     "name": "stdout",
     "output_type": "stream",
     "text": [
      "{'Documentary': 1, 'Crime': 5, 'Drama': 11, 'Action': 7, 'Adventure': 5, 'Sci-Fi': 1, 'Biography': 2, 'History': 1, 'Romance': 3, 'Comedy': 7, 'Thriller': 5, 'Fantasy': 1, 'Animation': 1, 'Horror': 2, 'Mystery': 1}\n"
     ]
    },
    {
     "data": {
      "text/plain": [
       "'Drama'"
      ]
     },
     "execution_count": 311,
     "metadata": {},
     "output_type": "execute_result"
    }
   ],
   "source": [
    "# Lets see which genre is most represented in this setting\n",
    "print(genre_count)\n",
    "max(genre_count, key=genre_count.get)"
   ]
  },
  {
   "cell_type": "code",
   "execution_count": 312,
   "metadata": {},
   "outputs": [],
   "source": [
    "# Lets combine our first analysis and only look at movies from the highest grossing studio BV\n",
    "best_studio = combined_100[combined_100['studio'] == 'BV']"
   ]
  },
  {
   "cell_type": "code",
   "execution_count": 320,
   "metadata": {},
   "outputs": [
    {
     "name": "stdout",
     "output_type": "stream",
     "text": [
      "Number of movies from this studio 56\n"
     ]
    },
    {
     "data": {
      "text/plain": [
       "Adventure,Animation,Comedy    19\n",
       "Action,Adventure,Sci-Fi        9\n",
       "Action,Adventure,Fantasy       7\n",
       "Documentary                    5\n",
       "Action,Adventure,Comedy        5\n",
       "Drama                          3\n",
       "Comedy,Drama                   3\n",
       "Action,Crime,Thriller          1\n",
       "Comedy,Romance                 1\n",
       "Drama,Romance                  1\n",
       "Crime,Drama                    1\n",
       "Biography,Drama,History        1\n",
       "Name: genres, dtype: int64"
      ]
     },
     "execution_count": 320,
     "metadata": {},
     "output_type": "execute_result"
    }
   ],
   "source": [
    "print(f'Number of movies from this studio {len(best_studio)}')\n",
    "best_studio['genres'].value_counts()"
   ]
  },
  {
   "cell_type": "code",
   "execution_count": 321,
   "metadata": {},
   "outputs": [
    {
     "data": {
      "text/plain": [
       "genres\n",
       "Action,Adventure,Sci-Fi       889.311263\n",
       "Crime,Drama                   857.600000\n",
       "Action,Adventure,Fantasy      746.414286\n",
       "Action,Adventure,Comedy       726.600000\n",
       "Adventure,Animation,Comedy    595.436842\n",
       "Biography,Drama,History       275.300000\n",
       "Action,Crime,Thriller         203.300000\n",
       "Drama                         142.276977\n",
       "Documentary                    61.502200\n",
       "Comedy,Drama                   57.143643\n",
       "Comedy,Romance                 43.100000\n",
       "Drama,Romance                  25.900000\n",
       "Name: total_gross, dtype: float64"
      ]
     },
     "execution_count": 321,
     "metadata": {},
     "output_type": "execute_result"
    }
   ],
   "source": [
    "# Lets see which genres in our best performing studio grossed the most on average\n",
    "best_studio.groupby('genres').mean()['total_gross'].sort_values(ascending=False)"
   ]
  },
  {
   "cell_type": "code",
   "execution_count": 322,
   "metadata": {},
   "outputs": [
    {
     "data": {
      "text/plain": [
       "<AxesSubplot:xlabel='genres'>"
      ]
     },
     "execution_count": 322,
     "metadata": {},
     "output_type": "execute_result"
    },
    {
     "data": {
      "image/png": "iVBORw0KGgoAAAANSUhEUgAAAXkAAAGUCAYAAADQ2VJhAAAAOXRFWHRTb2Z0d2FyZQBNYXRwbG90bGliIHZlcnNpb24zLjMuMSwgaHR0cHM6Ly9tYXRwbG90bGliLm9yZy/d3fzzAAAACXBIWXMAAAsTAAALEwEAmpwYAAB5sUlEQVR4nO3dd1gU1/s//DeCYiyJUQEVjR81KhFjiSVYArYginQrAhoVO37FhgqWiNhAMWo0mhh7Q6VrsKImgijGLmJvqICiBKTvnucPnp0fS9mdsgiu9+u6ckWGPTuzu8O9Z87c5z46jDEGQgghWqlKRR8AIYSQ8kNBnhBCtBgFeUII0WIU5AkhRItRkCeEEC1GQZ4QQrQYryB/+vRpODo6YsCAAVi6dCkAICYmBjY2NrC0tERgYCD32ISEBDg6OqJ///7w9vZGQUFB+Rw5IYQQtXTU5ck/e/YMzs7OOHjwIOrVq4dRo0ZhwoQJWLRoEXbt2oWGDRtiwoQJcHNzg4WFBQYNGoSlS5eiQ4cOmD9/Ptq2bQtnZ2e1ByKXy/H+/XtUrVoVOjo6GnuBhBCizRhjyM/PR82aNVGlSsl+u566Jzhx4gQGDhyIBg0aAAACAwPx5MkTNG3aFE2aNAEA2NjYICoqCl9//TVycnLQoUMHAICjoyPWrVvHK8i/f/8ed+/eFfLaCCGE/P9atWqF2rVrl9iuNsg/efIEVatWxcSJE/Hy5Uv06tULLVu2hIGBAfcYQ0NDJCcnIyUlRWm7gYEBkpOTeR1g1apVuQOtVq1aqY+5efMm2rZty+v5tKFtRe77Y2xbkfum1/xxtK3IfZdX27y8PNy9e5eLocWpDfIymQzx8fHYtWsXatSogUmTJqF69epKQyqMMejo6EAul5e6nQ/F49T15m/evMnr+bSlbUXu+2NsW5H7ptf8cbStyH2XZ9syYy1TIzAwkPn6+nI/7969m7m4uLBRo0Zx20JCQtjcuXPZ8+fPWb9+/bjtly5dYq6urup2wRhjLCcnh8XHx7OcnJwyHxMfH8/rubSlbUXu+2NsW5H7ptf8cbStyH2XV1t1sVNtdk3v3r3xzz//4L///oNMJsPff/8NKysrPHr0CE+ePIFMJkNkZCTMzc1hbGwMfX19XL58GQAQFhYGc3Nz4V9ZhBBCNELtcE379u0xbtw4ODs7Iz8/Hz169MCIESPQvHlzeHh4IDc3FxYWFrCysgIABAQEwMfHB5mZmTA1NYWbm1u5vwhCCCGlUxvkAWDw4MEYPHiw0rZu3bohPDy8xGNNTExw6NAhzRwdIYQQSWjGKyGEaDEK8oQQosUoyBNCiBar1EE+L1+m9HOnTp3K/B0hhJCSeN14rSjVqurCZmZYqb+LWG33gY+GEEI+PpW6J08IIUQaCvKEEKLFKMgTQogWoyBPCCFajII8IYRoMQryhBCixSjIE0KIFqMgTwghWoyCPCGEaDEK8oQQosUoyBNCiBajIE8IIVqMgjwhhGgxCvKEEKLFKMgTQogWoyBPCCFajII8IYRoMQryhBCixSjIE0KIFqMgTwghWoyCPCGEaDEK8oQQosX0+DzI1dUVaWlp0NMrfPiSJUvw/v17LF++HLm5uRgwYAA8PT0BAAkJCfD29sb79+/RuXNn/Pzzz1w7QgghH5ba6MsYw+PHjxEdHc0F65ycHFhZWWHXrl1o2LAhJkyYgLNnz8LCwgKzZ8/G0qVL0aFDB8yfPx9BQUFwdnYu9xdCCCGkJLXDNQ8fPgQAjBkzBra2tti9ezeuX7+Opk2bokmTJtDT04ONjQ2ioqKQlJSEnJwcdOjQAQDg6OiIqKiocn0BhBBCyqbDGGOqHnDlyhXs27cPCxYsQH5+Ptzc3DBu3Dj8888/CAgIAADExMTgjz/+gIeHB1atWoV9+/YBAJ48eYLx48fj2LFjag8kNzcXN2/eVNrWqVMn2MwMK/XxEavtcPnyZV4vkhBCtF3btm2hr69fYrva4ZqOHTuiY8eO3M+DBw/GunXr0KlTJ24bYww6OjqQy+XQ0dEpsV0TB1qaosegzuXLlwU9vjK0rch9f4xtK3Lf9Jo/jrYVue/yaltaB7kotcM18fHxiI2N5X5mjMHY2BipqancttTUVBgaGqJBgwZK21+/fg1DQ0NeL4IQQojmqQ3yGRkZWLVqFXJzc5GZmYmQkBDMmDEDjx49wpMnTyCTyRAZGQlzc3MYGxtDX1+fG0YJCwuDubl5ub8IQgghpVM7XNO7d29cu3YN9vb2kMvlcHZ2RseOHbFixQp4eHggNzcXFhYWsLKyAgAEBATAx8cHmZmZMDU1hZubW7m/CEIIIaXjlcA+ffp0TJ8+XWlbt27dEB4eXuKxJiYmOHTokEYOjhBCiDQ045UQQrQYBXlCCNFiFOQJIUSLUZAnhBAtRkGeEEK0GAV5QgjRYhTkCSFEi1GQJ4QQLUZBnhBCtBgFeUII0WIU5AkhRItRkCeEEC1GQZ4QQrQYBXlCCNFiFOQJIUSLUZAnhBAtRkGeEEK0GAV5QgjRYhTkCSFEi1GQJ4QQLaa1QT4vX6b0c6dOnVT+nhBCtJFeRR9AealWVRc2M8PK/H3EarsPeDSEEFIxtLYnTwghhII8IYRoNQryhBCixSjIE0KIFqMgTwghWox3kF+5ciXmzp0LAIiJiYGNjQ0sLS0RGBjIPSYhIQGOjo7o378/vL29UVBQoPkjJoQQwhuvIB8bG4uQkBAAQE5ODubPn4+NGzfi6NGjuHnzJs6ePQsAmD17NhYuXIhjx46BMYagoKDyO3JCCCFqqQ3y7969Q2BgICZOnAgAuH79Opo2bYomTZpAT08PNjY2iIqKQlJSEnJyctChQwcAgKOjI6Kiosr14AkhhKimdjLUwoUL4enpiZcvXwIAUlJSYGBgwP3e0NAQycnJJbYbGBggOTlZ8AHdvHmT+3fxWarFXb58uczfqWurrr2Ux2qybUXu+2NsW5H7ptf8cbStyH1XRFuVQf7gwYNo2LAhunXrhuDgYACAXC6Hjo4O9xjGGHR0dMrcLlTbtm2hr6/P67F8Arkm2l++fFn0vqS0rch9f4xtK3Lf9Jo/jrYVue/yapubm6vUOS5OZZA/evQoUlNTYWdnh/T0dGRlZSEpKQm6urrcY1JTU2FoaIgGDRogNTWV2/769WsYGhoKfS2EEEI0SGWQ37ZtG/fv4OBgXLx4ET///DMsLS3x5MkTNG7cGJGRkXBycoKxsTH09fW5b5ywsDCYm5uX+wsghBBSNsEFyvT19bFixQp4eHggNzcXFhYWsLKyAgAEBATAx8cHmZmZMDU1hZubm8YPmBBCCH+8g7yjoyMcHR0BAN26dUN4eHiJx5iYmODQoUOaOzpCCCGS0IxXQgjRYhTkCSFEi1GQJ4QQLUZBnhBCtBgFeUII0WIU5AkhRItRkCeEEC1GQZ4QQrQYBXlCCNFiFORLkZcvU/q5ePW34r8nhJDKSnDtmk9Btaq6sJkZVubvI1bbfcCjIYQQ8agnTwghWoyCPCGEaDEK8oQQosUoyBNCiBajIE8IIVqMgjwhhGgxCvKEEKLFKMgTQogWoyBPCCFajII8IYRoMQryhBCixSjIE0KIFqMgTwghWoyCPCGEaDEK8oQQosUoyBNCiBbjFeR/+eUXDBw4ENbW1ti2bRsAICYmBjY2NrC0tERgYCD32ISEBDg6OqJ///7w9vZGQUFB+Rw5IYQQtdQG+YsXL+LChQsIDw/H4cOHsWvXLty5cwfz58/Hxo0bcfToUdy8eRNnz54FAMyePRsLFy7EsWPHwBhDUFBQub8IQgghpVMb5Lt27YqdO3dCT08Pb968gUwmw3///YemTZuiSZMm0NPTg42NDaKiopCUlIScnBx06NABAODo6IioqKjyfg2EEELKwGuN16pVq2LdunX4888/YWVlhZSUFBgYGHC/NzQ0RHJycontBgYGSE5OFnRAN2/e5P5dfAHt4i5fvlzm79S1VdVeSlupj9V0+0+tbUXum17zx9G2IvddEW15L+Q9bdo0uLu7Y+LEiXj8+DF0dHS43zHGoKOjA7lcXup2Idq2bQt9fX1ej+UTjMurPd+2ly9flrQfKe0/tbYVuW96zR9H24rcd3m1zc3NVeocF6d2uObBgwdISEgAAHz22WewtLREXFwcUlNTucekpqbC0NAQDRo0UNr++vVrGBoa8n4h2iIvX8b9u/gHU/R3hBBS3tT25J8/f45169Zh3759AIBTp05h+PDhWLVqFZ48eYLGjRsjMjISTk5OMDY2hr6+PvetExYWBnNz83J/EZVNtaq6sJkZVurvIlbbfeCjIYR8ytQGeQsLC1y/fh329vbQ1dWFpaUlrK2tUbduXXh4eCA3NxcWFhawsrICAAQEBMDHxweZmZkwNTWFm5tbub8IQgghpeM1Ju/h4QEPDw+lbd26dUN4eHiJx5qYmODQoUOaOTpCCCGS0IxXQgjRYhTkCSFEi1GQJ4QQLUZBnhBCtBgFeUII0WIU5AkhRItRkCeEEC1GQZ4QQrQYBXlCCNFiFOQJIUSLUZAnhBAtRkGeEEK0GAV5QgjRYhTkCSFEi1GQJ4QQLUZBnhBCtBgFeUII0WIU5AkhRItRkCeEEC1GQZ4QQrQYBXlCCNFiFOQJIUSLUZAnhBAtRkGeEEK0GAV5QgjRYhTkCSFEi1GQJ4QQLcYryG/YsAHW1tawtrbGqlWrAAAxMTGwsbGBpaUlAgMDuccmJCTA0dER/fv3h7e3NwoKCsrnyAkhhKilNsjHxMTgn3/+QUhICEJDQ3Hr1i1ERkZi/vz52LhxI44ePYqbN2/i7NmzAIDZs2dj4cKFOHbsGBhjCAoKKvcXQQghpHRqg7yBgQHmzp2LatWqoWrVqmjRogUeP36Mpk2bokmTJtDT04ONjQ2ioqKQlJSEnJwcdOjQAQDg6OiIqKio8n4NhBBCyqCn7gEtW7bk/v348WP89ddfcHFxgYGBAbfd0NAQycnJSElJUdpuYGCA5ORkQQd08+ZN7t+dOnVS+djLly+X+Tt1bVW1l9KWT3tVbTXx+E+5bUXum17zx9G2IvddEW3VBnmFe/fuYcKECZgzZw50dXXx+PFj7neMMejo6EAul0NHR6fEdiHatm0LfX19Xo/lE4zLq/2Hanv58mXR+/rU2lbkvuk1fxxtK3Lf5dU2NzdXqXNcHK8br5cvX8bo0aMxc+ZMODg4oEGDBkhNTeV+n5qaCkNDwxLbX79+DUNDQ76vgxBCiIapDfIvX77ElClTEBAQAGtrawBA+/bt8ejRIzx58gQymQyRkZEwNzeHsbEx9PX1ucuKsLAwmJubl+8rIIQQUia1wzVbt25Fbm4uVqxYwW0bPnw4VqxYAQ8PD+Tm5sLCwgJWVlYAgICAAPj4+CAzMxOmpqZwc3Mrv6MnhBCiktog7+PjAx8fn1J/Fx4eXmKbiYkJDh06JP3ICCGESEYzXgkhRItRkCeEEC1GQZ4QQrQYBXlCCNFiFOQJIUSLUZAnhBAtRkGeEEK0GAV5QgjRYhTkCSFEi1GQJ4QQLUZBnhBCtBgFeUII0WIU5AkhRItRkCeEEC1GQZ4QQrQYBflKJi9fpvRz0XUdi/+OEELU4b2QN/kwqlXVhc3MsFJ/F7Ha7gMfDSHkY0c9eUII0WIU5AkhRItRkCeEEC1GQZ4QQrQYBXlCCNFiFOQJIUSLUZAnhBAtRkGeEEK0GAV5QgjRYhTkCSFEi/EK8pmZmRg0aBCeP38OAIiJiYGNjQ0sLS0RGBjIPS4hIQGOjo7o378/vL29UVBQUD5HTQghhBe1Qf7atWsYMWIEHj9+DADIycnB/PnzsXHjRhw9ehQ3b97E2bNnAQCzZ8/GwoULcezYMTDGEBQUVK4HTwghRDW1QT4oKAiLFi2CoaEhAOD69eto2rQpmjRpAj09PdjY2CAqKgpJSUnIyclBhw4dAACOjo6Iiooq14MnhBCimtoqlH5+fko/p6SkwMDAgPvZ0NAQycnJJbYbGBggOTlZ8AHdvHmT+3fRMruluXz5cpm/U9dWVXspbfm0L6+2Jt+YomaN6mU+1/usHNxJuKXy+fnuq7K2rch902v+ONpW5L4roq3gUsNyuRw6Ojrcz4wx6OjolLldqLZt20JfX5/XY/kE4/JqX1nbllWmGCgsVcx335cvXxZ9nBXVtiL3Ta/542hbkfsur7a5ublKnePiBGfXNGjQAKmpqdzPqampMDQ0LLH99evX3BAPIYSQiiE4yLdv3x6PHj3CkydPIJPJEBkZCXNzcxgbG0NfX5+7pAgLC4O5ubnGD5gQQgh/godr9PX1sWLFCnh4eCA3NxcWFhawsrICAAQEBMDHxweZmZkwNTWFm5ubxg+YlI+8fBmqVdXlfi5+aVj894SQjwPvIH/69Gnu3926dUN4eHiJx5iYmODQoUOaOTLyQaladhCgpQcJ+VjRjFcimarFx0v7PSHkw6GFvIlkdBVASOVFPXlCCNFiFOQJIUSLUZAnhBAtRkGeEEK0GAV5QgjRYhTkCSFEi1GQJ4QQLUZBnlS4opOlaCIVIZpFk6FIhVM1mUrdRCpVNXfU1duhej3kU0BBnnzUpHxB0Exd8img4RpCRJBSr4dq/ZAPiXryhIgg5SpA6hWElCEq8umhIE/IR0bKEBX59NBwDSGEaDEK8oQQosUoyBNCiBajIE/IJ6SisoIoo6ji0I1XQj4hFZUVRHMSKg715AkhlR6VvhCPevKEkErvYyx9UVnKZlCQJ4RotYoqfSGlrSa/ICjIE0JIJaPJexg0Jk8IIVqMgjwhhGgxCvKEEKLFyiXIR0REYODAgbC0tMSePXvKYxeEEEJ40PiN1+TkZAQGBiI4OBjVqlXD8OHD8f333+Prr7/W9K4IIYSoofEgHxMTAzMzM9SpUwcA0L9/f0RFRWHq1Kkq2zHGAAB5eXlK2+vULD1NKDc3V+2xlNWWT3spbVW1r6i2fNrT+yWsvba9X3zaa9tr1ob3SxEzFTG0OB1W1m9E2rx5M7KysuDp6QkAOHjwIK5fvw5fX1+V7TIyMnD37l1NHgohhHwyWrVqhdq1a5fYrvGevFwuh46ODvczY0zp57LUrFkTrVq1QtWqVXk9nhBCSGGMzc/PR82aNUv9vcaDfIMGDRAfH8/9nJqaCkNDQ7XtqlSpUuq3ECGEENWqV69e5u80nl3TvXt3xMbGIi0tDdnZ2Th+/DjMzc01vRtCCCE8aLwnb2RkBE9PT7i5uSE/Px+DBw9Gu3btNL0bQgghPGj8xishhJDKg2a8EkKIFqMgTwghWoyCPCGEaDEK8oQQosUoyBNCiBbT2iCfmpoquq27uzv++uuvEnV0+Lh+/bro/ZYlJydH489ZmsDAQNFtnz9/jjNnzkAmk+HZs2caPCpSmnfv3uHly5d48eIFnj17htjY2Io+JFJJVcogP2HCBABAnz590LdvX+4/xc98uLi4YPz48aKCtbu7O/7++29YWVnh559/FhS4/f39YWNjgz/++EPUF83p06dhY2ODfv36oW/fvujduzd69erFu/28efME71MhOjq6zCJHqhw9ehSTJk3C0qVL8e7dOwwfPhxhYWUvXVac2C9UhbFjx4puCwC3b99GfHw8Ll26hAsXLuDQoUOC2qenp0vav1Dr1q1D3759YWVlhREjRsDS0hJr1qzh3V7suakJZ86cEd328uXL2LdvH/Ly8nDp0iVBbdPS0kTvtzixna4PfZ4oVMo1XhXFzHbt2iX6OY4dO4b4+HiEhIQgICAAFhYWcHBwwLfffqu2bdeuXdG1a1fk5OQgKioK06ZNQ61atTB48GA4OzujWrVqZbbdtWsXkpKSEBYWhjFjxqBRo0ZwcHBA3759UbVqVbX7Xr58OXx9fbFt2zZMnDgRJ0+eRHZ2Nu/XfffuXbx//77MOhaq1KlTB1ZWVjA1NYW+vr7SMany+++/Y9++fXBxcUG9evUQEhKCn376CXZ2/NahPHfuHPz9/bnPSOjkuezsbLx8+RINGzYU1A4AfHx8cPHiRaSnp6N58+a4c+cOvvvuOwwePFht24SEBHh6eiInJwcHDhyAi4sL1q5dC1NTU7Vtra2t4eDgADs7OxgYGAg65tDQUJw9exZ+fn6YNGkSHj58iL179/Jun5OTA1dXV3z11VdwcHBAv379eJ2bQGGwDA8Px/v378EYg1wux/Pnz7Fq1Spe7f39/QV1WhR27NiBkydPIiUlBVZWVli4cCEGDx7M+wt+5MiR+OuvvwTv9/Tp0wgMDER2djb3erOzs3HhwgXezyH2PJH6XitUyiC/d+9eTJ8+HcbGxsjKykKNGjVEPU/nzp3Rtm1bREVFITAwEKdPn0bdunWxcOFCdOjQQWXbuLg4hIWF4fz58zA3N8fAgQMRExODSZMmYevWrSrbGhsbw97eHnp6eti/fz927dqFwMBAzJo1Cz/++KPKtrVr14aZmRn+/fdfZGRkYPbs2Rg4cCDv11ylShX07t0bzZo1UwrUO3fuVNvWwcGB936K77NWrVrcz4aGhqhShf9F4vLly5GTk4Njx45h/fr1ePPmDaytrWFvb4969eqpbf/27Vv06dMH9erVg76+PlcU79SpU2rbxsTE4NixY/D19YWbmxuys7OxYsUKXse9dOlS/Prrr5g5cyaMjIywePFiLFq0iNeVwJYtWxAaGgo3Nzc0adIEjo6OvDsChoaGqFWrFlq2bIk7d+7A0tISq1ev5nXMADB16lRMnToV8fHxiIyMxPr162FmZoYhQ4bgm2++Udl2+vTpaNiwIa5evYp+/frhzJkzvDpOCk2aNMG8efPQvn17pXor9vb2KtuFhIQgKCgIQ4cOxZdffolDhw5hyJAhvIO8iYkJQkND0a5dO6X9NmrUSGU7qZ0uQPx5IvW9VqiUQf7s2bOYPn06gMJv4JCQEMHPERsbi9DQUMTExMDCwgKBgYH47rvvkJiYCHd3d5w7d67Mtr1790bjxo3h5OSEhQsXcifF999/DycnJ5X7PXjwIMLCwpCamgp7e3vs3bsXDRo0QHJyMhwcHNQG+erVq+PRo0do0aIFLl68CDMzM+Tn5/N+3bNnz+b92OIcHBzw/Plz3L9/Hz179sTLly/RpEkTte1atmyJ3bt3o6CgAAkJCdi7dy9MTEwE7bt69eowNjZGw4YN8eTJEyQmJmL06NEYNmwYXFxcVLb9448/BO2rKENDQ1StWhUtWrRAYmIirK2tkZGRwattdnY2WrRowf3co0cPrFy5kldbY2NjTJkyBVOmTMGJEyewdOlSLFq0CLa2tpg8eTK+/PLLMtvWqlULoaGhMDU1xe7du2FoaCh4CCErKwvPnz/Hs2fPUKVKFXzxxRfw8/NDx44dMXPmzDLbpaSkYOfOnVi5ciUsLS0xbtw4jBo1ivd+Fa/r2rVrStvVBfkqVaooXUHr6+tDV7fseuvFXbt2rcQ++XQEpHa6APHnidT3WqFSBvmi48Jiqy5s2LABgwcPxuLFi/HZZ59x21u3bo0xY8aobLtjxw589dVXJbZXqVJF7RfOpUuX4OHhge+//15pu5GRERYtWqT2uKdPn461a9fC398fW7ZswYEDB9R+sRTVtWtXXL58GXfv3oWTkxOuXbuGLl268Gp79OhRbNq0CTk5Odi/fz+GDx+OOXPmqB12WbhwITZt2gR9fX3Mnz8fZmZm8PLy4n3MgYGBiIyM5L5Yvb29oa+vj8zMTPTt21dtkDc2NkZERATu37+PiRMn4tixY2qDhoKRkRE2b96Mbt26wd/fH0DJhWvKUqdOHdy5c4crjR0eHo4vvviCV9v379/j2LFjCAsLQ3JyMkaMGAFra2ucO3cOY8eORXBwcJlt/fz8cOTIEdjb2yM6OhoLFy7kOkV8zJo1CxcuXIC5uTkmTZqEzp07Ayh83T179lQZ5BWvr1mzZrhz5w7at2/Pe7/A/xv6S09P5/1eAYXn9cqVK5GdnY2TJ0/iwIEDMDMz493+9OnTgo5TQWqnCxB/nkh9rzmsErK3ty/130IlJyczxhi7dOkS2717N8vOzlb5eBcXF+bq6lrmf6pcvHhR5X9ivXv3TtDjt2/fzlxcXJilpSVLS0tjVlZW7I8//uDV1t7enmVkZDA7OzvGWOH7N3DgQKGHLNjixYvZ06dPS/3dtWvX1Lb39/dnM2fOZFZWViwjI4O5uLiw5cuX89p3RkYGi4yMZIwxtnPnTjZx4kQWGxvLq+2TJ0/Y8OHDmampKevUqRNzdHRkDx484NX2+++/Z3Pnzi1xbsjlcjZ58mRezyHWtm3b2Pv370v9XUpKisq2a9asYR4eHuz58+fM0tKSLViwgA0ZMoT3vhMSElj//v2ZhYUFe/XqFevXrx+7efOm2nYymYzt27ePeXh4sClTprDdu3ez/Px83vt99+4d8/b2Zq6uruzt27ds7ty5LD09XW27uLg4Nm3aNJabm8scHR1Z586deZ9bCmLPE6nvtUKlDPK9evViISEhLDg4mPt30f/4WLhwIZs3bx67d+8eMzc3Z/PmzWMzZ85U2SYuLo7FxcWxmTNnMm9vb3bp0iV25coV5uvry3x8fFS2dXFxYS4uLmzQoEGsffv2bPTo0WzMmDGsY8eObNiwYXxfOrt06RKbOnWqoC+Youzs7Fhubi4XqDMzM9mAAQN4tXV0dOSeQ2HQoEFq223bto116dKFmZiYMBMTE9a6dWtmYmLC+5itrKx4P7Y0dnZ2TC6Xc8edn5/P+zUzVhjok5KSlP7jKzU1lb1//55lZGSwx48fC9qnWMXfb8V/fEl9v588ecIYY+zmzZts27ZtXGeKD2dnZ3b//n3us/rnn3+Yk5OT2naZmZls9+7djDHGXr16xdauXcuysrJ479fDw4Pt37+f2djYsNzcXLZmzRrm7u7Ou72C0E6XgtjzRMp7rVAph2vMzMwQFxdX4t8KfC7Fb9y4gcOHD3PDNh4eHmqHPbp27QoAWLlyJQ4fPsxt79ChAxwdHVW2VWQCubu7Y8OGDWjatCkAICkpCQsXLlR7vApz587F1KlT1d4QKouUsUuxY+s7d+5EaGio6GMWe1NMQXGTV3E5nJeXx/vG78qVKxEUFMStScwE3LTduXMnQkJCEBISgqSkJEycOJG7j1CWPn36qFz5jO9+pbzfX3/9NTZs2FDi5iefYb28vDzcv38f//77L4DCoYiYmBjew2Nix6dnzpyJ1q1bAyhcRU4ul2POnDlYv349r/0+f/4cw4YNw759+1CtWjV4enrC1tZWbbv4+Hjs2LGjRPojn0SGoo8Vep4A0t9rhUoZ5EtL2UtNTRWUaiaTySCXy3Hq1Cn8/PPPyM7O5n1XPDc3F48ePUKzZs0AAImJiSgoKODV9sWLF1yABwoD1YsXL3gft5GRkeAPsSgpY5dix9abN2+O+vXriz5msTfFFKysrDB9+nSkp6dj+/btCA8Px6BBg3i1PXXqFM6dOycq5TQoKAhBQUEACu8LBAcHY+jQoSr/eHft2gXGGH799Vcuq0ZXVxcRERF4/vw5r/1Kfb/fvXuHuLg4pc6Tjo4Or8Dl7u4OxhiMjY2VtvM9Z8WOT7948QK//fYbgMIbz56enrxTdAFAV1cXGRkZ3H4fP37MqyMgtdMFiDtPAOnvtUKlDPKlGT9+vKAsG3t7e/Ts2RPfffcd2rdvj4EDB2Lo0KG82s6dOxeurq4wMjICYwxv3rzhnaJmamoKLy8vDBgwAIwxREREcDe2+HB1dcWsWbNgZmYGPb3/9/Hw/WDnzJmDoKAgtG7dGqGhobCwsMDw4cN5ta1RowZmzpyp8sZbadzc3GBjY4P27dsrXTWoy69XEHtTTGH8+PH4+++/0ahRI7x8+RIeHh7o3bs3r7atW7dGXl6eqCCfn5+vdNXEJ/1R8QebmJio9P6MGTNG7dWigtT3W8r8k7dv3yI8PFx0+8WLF8PLywv37t1D586d0bRpU+6Gtyo6OjpITEzkevMPHjxQ+vtQx8PDA66urnj58iUmT56Mq1evYtmyZWrbSe10AeLOE0D6e63w0SwaYm9vj9DQUEFt5HI5922dlpaGunXr8m6bl5eHu3fvQkdHB61bt+Z9QuXl5WH37t24ePEigMLlEJ2dnXm3d3d3R25ubolvb3V/wOquFlT1RExMTKCjo1Ni0XXFzwkJCSqf287ODj/++GOJY+abd5+WloYlS5YgNjYWMpkMZmZmWLx4sdreqrpZj3yGH06ePIl58+ahVatWSgGTT6/W398fV69exYABA6Cjo4Njx46hY8eO8PT0VNvW0dERs2fPRrdu3QAUpg1v2LABBw8eVNtW6vt99epVbN68GVlZWdwkmxcvXvD6sl22bBl69eoFMzMzQXMhisvKyoJcLleaX6FKTEwMZs+eDSMjIwCFAXDVqlW8M8eAwvPs+vXrkMlkaN++Pa+roaioKJw8eVJ0pwsQf55o6r3+aIL8+PHjsWXLFt6Pl3Iip6enw9/fH0+fPsW6deuwcuVKzJ07l3fKl5hccwUHBwdR8wL69OlTYlvRwM136EOMIUOG8ApOZZk6dSo6duyIYcOGQS6X48CBA4iPj8fmzZtVtnN1dS3zd3yHH6ytreHu7l7iS1Bxf0adqKgoXLp0CXp6eujSpQv69evHq93t27fh5eWFlJQUAIU9/FWrVuHrr79W21bq+z1w4ECMHTsWISEhcHV1xfHjx1GvXj3Mnz9fbdvt27djxYoVXGeAb0fA1dVV5b0IPp+VouOlp6eH5s2bq5x5rrBhwwaVv586darK34vtdBUn5jwR+14X99EM1wgJ8AAwf/78EidymzZteLVdsGABevTogevXr6NGjRowNDTE7NmzeR2D2FxzhXbt2iE6Ohrm5uaCJntIGfKQ+ofQqVMnrFixAubm5kqXonx7Wc+ePVM6Bnd3d16XqVKGHRRq164t6XK8RYsWqF+/Pjef49KlS7xed5s2bRAREYG3b99CR0eHu/HLh9T3u1q1anByckJSUhI+//xzrFq1CjY2NrzaBgUF4fTp04LHqD08PAQ9vrikpCTs3r0b6enpSnNnhAZboV6/fi2q01WcmPNE7HtdXKUM8orerGIYQUHIN5mUE1nsnXhAeh2XU6dO4cCBA0rb+LxmdYXJyvOP4datW0r/B/j3pBWPLVp75sWLF7yGtzTRO2zTpg08PDxKBEw+gf/nn39GdHS00pUa39edlJQEHx8fJCUlYc+ePXBzc8OyZcvQuHFjtW2lvt/6+vp49+4dmjVrhmvXrqFbt26QyWS82hoYGAj6Qip6fFJMnz4dnTt3RufOnQU9l7oOijpiO11FiT1PxL7XxVXKIK/45rxz5w63rfh4sTpSTmSxd+IB6XVc/vnnH96PLYrv8EJppP4hSO1R/9///R+GDRuG9u3bgzGGa9eucUXqVJHaOwQKU/pq1arFpakp8Any58+fR1RUlFIaIl8LFy7E2LFjERAQgPr162PQoEHw8vLCnj171LaV+n6PHj0anp6eWL9+PYYMGYKIiAi0bduWV9s6depg0KBB+O6775S+FNV1ItatW1fm7/gEvIKCAkGzqBWKdxQV+HYYxXa6ihJ7noh9r4urlEFeIS4uDoGBgdi/fz8ePXoEd3d3+Pv747vvvlPbVsqJPG3aNFF34gHpdVzEVp7r2bMnDAwMBKVrKoi9clqwYAF8fX3L7FHz7Vn27t0b7dq1w40bNyCXy/Hzzz+jdu3aatvVrFkTpqamgsvOFlXaHwzfOjBNmjQRXXbj7du36NmzJwICAqCjo4OhQ4fyCvCAtPtNQGEygJWVFXR0dHD48GE8fvyY1/sNAL169RJVRVLqF1OnTp1w+vRp9OzZk9dYvELRjqIYYjtdRYk9T8S+18VV6huvDg4OWLlyJVq1agWgMG1qzpw5ShOVypKeno7PP/8cOjo6yMrK4k5kvjdBxdyJBwqzBjZt2oSYmBjI5XKYmZlhypQpvLMI3NzcSq08p64y4oQJE7B582Zuso0iQAu58Xrnzh1BX0g3b95E27ZtERMTU+rwCt+ri2HDhin1luRyOezs7BAREaGyXdEvmeL4Dl+cPn0aa9euVQqYOTk5vBbhmDFjBq5evYqOHTsqBR4+PS1nZ2esWbMGkyZNQkhICOLj47Fy5UpeN1TF3jh9+fIlGGMYP348fv/9dy7wyGQyuLu7IyoqSu2+gcI8e0XpXZlMhufPn3NZQmWR2iHo2bMnXr9+rbSNT4/6wIEDGDZsWJn3ndRdxWqi3K+U80TMe11cpe7J5+bmcgEeKLx5oW5SUlkncu3atXmfyGlpaThy5Ag3y01xIvEZ1hCba64gtvKcIhNlwYIFvHPEi/P09BRUc1txZeTv7y/q5pSbmxuXalo0jVNPT6/UbKHiFEM6AwcOxIgRIwTvH5BWSvaHH37ADz/8IGq/8+bNw4QJE/D06VPY2dkhPT0da9eu5dVW7P2mdevWIS4uDikpKRg5ciS3XU9Pj3ePcf369di+fTsKCgrw5ZdfIjk5GW3btlX75aSY+DNp0iRB+e0KYnvUUvuwmij3K/Y8EfteF1epg3zz5s3h7+8POzs76OjoIDIyEv/73/9UttHEiezu7o5WrVqVSJviY/v27di4cSNXrlZo2pPUynMBAQGig7zY6e7169dHfHw82rVrJ+hSWtF7W7p0KXx8fEQdMwDs2bNHdJCXUkrWwcGh1J4WH99++y0OHTqEx48fQyaT8U4JBMTfb1L0HLds2YLx48fz2ldxISEhohYskdohENujVkwETEpKEpV8oIlyv2LPE7HvdXGVOsj7+fnhl19+wcyZM6Gnp4fOnTtj6dKlKtto4kQu+jxCSa0rYmZmhmnTpsHLywtjxozBrVu3BN2wEbsoAyB+uvuNGzfg4uIiOp93ypQpiImJQffu3bF582bcunULs2fP5j201qBBA7i5uaF9+/ZKC6XwufKSUkpWSk/r4cOHCAoKKlEThc9599NPP4m+3wQU9qr37NmDd+/eKfV0+bxfUhcsEdshkNqjFrtimibK/Yo9T6S+1wqVOsh/8cUXXHGvt2/fok6dOrwzbKScyP369cPBgwdhZmamlDbFJ3BLrSsyatQoZGZmwtjYGGvWrMGlS5cwZcoU3u3FLsoAiL85JmQptNLMmjUL3bt3B1A4aWTUqFGYP38+7+NRt8qXKp6eniXq9/NZ+g+Q1tOaOnUqBg4cyE3TF6J69er4888/lW6cCrmXMn36dNSuXRstW7YUnNoodcESRYegKD4dAqk9arErpkntdAHizxNNLA4DVNIgn5aWhsWLF2PkyJHo0qULpk2bhvPnz6NevXr47bffeM0KlHIiZ2VlYdmyZUqr8/C9eSm1rkjRtShNTU15rRdalJR8+OvXr+PPP//E27dvlb4YVf0hxMbGwtDQkKssuGvXLnz99deCbg6lp6dj7Nix8PX1hYODA+zt7QVV+ZOSAvrgwQP88ssvAIDDhw8LWsxCSk/r888/F33cRddJrVGjBu9JfgqvX7/Gtm3bRO1b6oIlYjsEUnvUYldMk9rpAsSfJ1Lfa4VKGeR9fX3Rtm1bbn3W27dv4++//8a9e/fg5+fH6wSVciJHR0cjNjZWVP7z6tWrYWNjI2o8H5BedvfMmTP49ddfSwRqPl9QXl5ecHFxwddff83ri/Ho0aNYu3Yt1qxZw22rV68eFixYgNmzZ6N///68jlkul+PmzZs4efIkdu/ejYSEBN5zGoDCJRfXrFmDd+/eARA2XLR7926lAm5CViuS0tNycHBAYGBgiZoofGatShmSA4BvvvlGcCaVwtq1a7mOxNy5cwW3T09Px5EjR0qcn+q+8KT2qLt27YoHDx6U2K86UjtdgPjzROp7rVApg/z9+/cRGBgIADh37hysrKxQq1YtdOzYkav1oY6UE9nY2Bjp6emigny1atUk9Syllt318/ODt7c370BdVPXq1ZVuVqvzxx9/YNeuXVzRKKAw06Vdu3aYNm0a7yA/e/ZsrFq1Cj/99BOaNGmCoUOHCjqpN23ahJ07d6Jly5a82yhIGc+X0tO6cuUK/v33X6VJWHzTPqUMyQHAvXv34ODgIGrhc7Fj2wpTpkxB3bp1BV9he3p64unTp0o9aiF/ZwsXLsTZs2eVlvXk835L7XQB4s8Tqe+1QqUM8kU//AsXLijdbOWb3iblRM7Pz4e1tTVatmypNNOMzx+g1LoiUsvu1q5dW/AECsUEqm+++Qbbt29H3759ed2LYIwpBXiFxo0bQy6X895/t27dlIZ3FLW3+apXr56oAA9IG883MjLi1gsW2tO6desWjh8/Lmq/UktUqKtVpIrYsW2F9PR07N69W/B+pS6gERMTgxMnTgi62QtI73QB4s+T4u+1IoYJGcoEKmmQb9SoEY4ePcot9KGYVBMWFsb7j1nKiTxx4kTRbaXUFXnw4AEOHTqEhw8fQl9fH19//TWGDBnC1XRRRTHr8+uvv8bSpUvRt29f3sMAiswYxhguXLigdKyqTmjGWKk9jczMTF4ZKlJrFClKTzdq1AiTJk0q8Zr5BICpU6ciLS0N1atXR40aNdQ+vqji6bIKfIaJFOOzQq80Dx8+jD179uDRo0fcOTJy5EgMGDCA93NIWfhc7Ni2QqtWrbhJdEJIXUCjYcOGyM3NFRzkpXa6APHnia2tLerXr4/q1asjLS1NUDXboirljNeXL19i4cKFePPmDWbMmIGePXti+fLliI6OxpYtW9TmygOF3/xnz57F+/fvAYDLTf2///s/Xsdw9uxZXLhwAQUFBfj+++95l5BVyMzMhFwux+eff87r8bGxsZg+fToGDhzIXcomJibi+PHjWLt2rdrZo1LK7r57905UIaRt27YhNjYWCxYs4E7AV69eYfHixWjbtq3kmjjqSCnKJpfLsX79euzfv58by2/QoAFGjhyJcePG8dp/nz59sHv3blHpsvb29khMTISBgQGqVq3K60pzz5492L9/PyZPnsxNEkxMTMTmzZsxYsQI3ovDBAQE4NWrV7h16xYOHjyISZMmwdTUlFcv8+7du3j48CGqV6+OFi1a8A48ipnYOTk5SEtLg5GREXR1dXlfYdva2opaQENxjjx58gSvXr1C586deSdESOl0FSX0PHnz5g2mTZuGe/fucbHu0aNH6NChA9asWcO7BIVCpQzypUlPT0ft2rV5F/uaOnUq0tPT8fTpU3Tu3BlxcXH47rvvVBZKUvj9999x/Phx2NjYcKs79e3bF5MmTVLb9tmzZ/D09MSzZ8/AGEOjRo2wdu1atV9MI0aMgLe3d4kezvXr17FixQq1KVd3795Vmh0shNga9gCwZs0a7Ny5E1WrVkW1atWQnZ0NFxcXTJ8+Xe1npW4RGHW9tPPnz6NHjx4Cj7jQhg0bcPnyZXh6eqJVq1bQ0dHBnTt3sG7dOnz33Xe8MijGjRuHjRs3Cu4dAoWTc0qj6oa9jY0Ndu7cqZT1BRSmF06YMIH3Z2hvb4+QkBA4ODggNDQUBQUFsLW1xdGjR8tsUzTwNG3aFDo6OoICT1mvV0FdooLYBTTUvSdlLbQitdNVlNDzZP78+ahfvz48PDy4Id+8vDysX78eqampakucFFcph2tKo8h6iI6ORpUqVdC9e3eVy2gpPhA/Pz84OTlh+vTpvG+KhYeH4+DBg9yNlqFDh8LR0ZFXkF+4cCHGjRsHKysrAIUZKAsWLFCb852ZmVnqJWy7du143Yfw8vISHailfM/PmDEDEydOxMOHD1GlShW0aNFCaaxWlaKTrk6fPl2ilIG6IB8QECA6yB89ehTBwcFKN9Pat2+PtWvXYuTIkbyCvJR02UaNGmHfvn3c1aKZmVmJ/PHiqlSpUiLAA4UpekKIWfh89erV6NSpE7Zv314i8Pj5+akNPCtWrOC96HZpGjVqhDFjxgiecKf4AhRq3bp12Lp1a4m/SUdHR16drqKEnidXrlwpUV6kWrVqmDFjhqB1bRU+miCvcOrUKVhYWODUqVNcIC1NvXr1oKOjg2bNmiExMRH29va8ZzIyxpT++PX19XnX23j79q3ScQ0cOBCbNm1S205MPY+ipATq169fq7yHoW7YpUaNGiX+GBQpbor8+dIUPcnt7e3LfQGIoqpWrVpq9lTt2rV51w2Xki67atUqPHnyBE5OTmCMITg4GM+ePYO3t3eZbaQsAVeUmIXPpQYevuUeyiJ2AY2oqChRQV5qp6sooedJWZ0kHR0dUefARxfk1ZU1UGjZsiV8fX0xYsQIzJo1CykpKbwDoZmZGTw8PLhLudDQUHz//fe82larVg23bt3i8mlv3ryJzz77TG279+/fIz4+vtRjzMrKUtv+5cuXKseoP2QABYBffvkF3bt3x+3bt3kVzxKzqMTjx4/h5uZW5u9V3YfQRMCUki57/vx5hIaGcsfRq1cvte9TampqmV/GqampvPctZuFzqYFH1fkNqM8+09QCGnxJ7XQVJfQ8UfW3IObvpFIH+by8PGzduhWPHj3CwoULsX37dowfP57X2NbixYtx5coVfP311/Dw8EBsbCzv2Yje3t7Yt28fQkNDwRiDmZkZV0VPnfnz58PDwwN16tQBYwzp6elczr8qRkZG3MzL4vhcjteoUUP0wiEGBgaSbpK6u7vD0dERffv25T4bocs1iiHluF+8eFHmlyLfmvxS0mVlMhkKCgq490smk6m9glB1Y5XvTVcFQ0NDpeExdcvRSQ08qampWLduXalBnk/2mdgFNBISEvDNN9+U2K5uuEdqp6sooefJvXv30Ldv31KPWciXuUKlDvJLlixB3bp1cfv2bejq6uLp06eYP38+AgICymyzd+9eODs7Q1dXF507dwYA9O3bt9Q3rTQymQx5eXlwdnaGs7Mz7t+/j6ZNm/L+Zu/QoQOOHTuGx48fQy6Xo1mzZry+lKQuqlCnTp0ybyKpI/Xeu7u7O0JDQ+Hv7w8LCws4ODigXbt2atsVXewjKyurxB+VumBZs2ZN0V9sqjJJ+D6nlHRZGxsbuLm5wdraGgBw5MgRtUMmmspW8vT0xO3bt5U6D+qOW2rgadq0qeD87qLELqChmMwklNROV1FCz5Njx44Jen51KnV2jSLrw97enutV29jYIDIyUm0boDD/W8jEi2fPnmHs2LGYNWsWLC0tAQA+Pj64dOkStm7dqnb9zcOHD6Nly5ZcgFu9ejX+97//wcnJifcxlIbPzeahQ4cKnkSkIDaFsricnBxERUVh7dq1qFWrFgYPHgxnZ+cyv+SkpH0ChUFPynwITRGaLpueng6ZTIabN28iNjYWcXFxcHNzk7Sg+Lp165Cfn4+RI0eiQYMGKh87YMAAREZGClqzVGp2jOJvWIq7d+/i4sWLXFpzaT308tivpgg9TzSGVWIODg4sNzeX2dvbM8YYe/PmDRs0aJDKNnZ2dqX+m48JEyaw8PDwEtsPHTrEJk2apLLtzp072eDBg9mDBw+4bRcvXmSOjo5sz549go6jOG9vb3b8+HH2119/SXoeMX755RcWEBDAXr58qfJxFy5cYPPmzWPm5ubMx8eHxcTEsICAADZmzJgPdKSa4+3tzRYvXswSExNVPu7p06fMycmJde3alXXp0oXZ2dmxR48eqWxz69Yt1qNHD3b27Flu2+rVq1nPnj1ZQkKC6GPet28fS0tLY5cuXVL7WC8vL6Xz9EP4+++/JbUPCQlhffv2ZcuXL2d+fn6sT58+7ODBg2rbbdq0SdJ+S3P69Gl25swZlpeXx+vxYs4TTarUQT4kJIQ5OzuzHj16sKVLl7JevXqp/WAVXwjF/82Hqi8FdV8utra2LCMjo8T2N2/eMBsbG0HHoWl8g1Zp+ASPXr16MRcXFxYSEsKys7O57TKZTPBnoCD0D6k4d3d35uPjwyvoFXfq1CmWl5enNuiOHj1a6Yv3yJEjzMXFRWUbNzc3duHChRLbz507x0aNGiX4WMUICQlh33zzDbOwsGB9+vRhvXv3Zn369BH9fHZ2dszb25udOHFCVHs+n7WtrS1LS0vjfn7z5g2ztrYWtT+FlJQUlpmZKbid0E6XmPNEkyp1kH/z5g27d+8e2717N9uxYwevns6PP/7ILl26xOLi4pilpSW7dOkSu3jxIvefKqpOGnVBXlUwE3JFkZubyzZu3Mhmz57NMjIy2Pr161lubi7v9teuXSuxjW/QEuvJkycaf04hf0jR0dEltt24cYMxxtRegSi8e/dO0PExVvrnKuU8sbW15bXf58+fs9GjR7Mff/yRJScnM1dXV/bs2TNebRljzMrKil28eJE9f/5c6T8+fv/9d5aSkqK0LTk5mTHGWFZWFu9jKIrPZ13a+6ruvVbHzs6OLV++nEVERJT5mIEDB5b6moXupzipxy5Epb7xqijzyad+vELRGyaGhoZKN0/UjfN+8803OHjwIIYMGaK0/fDhw2qnb+vq6uLNmzeoV6+e0vbXr18LKpsr5mZzUf7+/nj37h3s7OxgZ2cHAwMDLotCXZ2UpKQk+Pj4ICkpCbt378asWbOwbNmyMu9FlLUos4KUG218U2UB5frqCoocZ3Xj0wkJCfD09EROTg4OHDgAFxcXrF27lldJWTHpsgUFBZDL5SXSDuVyOe95HAsXLsTYsWOxevVqGBgYYNCgQfDy8sKePXt4tf/yyy/RuXNnUel4OTk5cHV1xVdffQUHBwf069ePuxHJJ1W4NHw+69atW8PPz49b0OXQoUOiKswWxWesfsuWLQgNDYWbmxuaNGnCZZGpmohZnNi0ak2p1DdePT09YWFhIanMpxCpqalwcXFB/fr10aZNG+jr6+PGjRt48eIFtm3bpvLGa2hoKHbu3Ik5c+YotV25ciXs7e15l/AVc7O5uKSkJISFheGvv/5Co0aN4OjoiD59+qg9MceOHYuffvoJq1evRnBwMA4ePIiwsLAyg4diEe6goCBUr14d9vb20NPTQ2RkJHJzc7mFttURu36nwsSJE/Hll1+Kqq8+cuRILFmyBDNnzkRoaCjOnz+PwMBAHDp0SG3bq1evYsaMGUrpsmvWrFFZ2XLJkiWoU6cOpk2bprR9w4YNePr0Ka/X7OjoiODgYKWbinZ2dggLC1PbFihM8713716JG/lCsnfi4+MRGRnJLZk4ZMgQXjdCxX7WOTk5WL9+PS5cuADGGL7//ntMnTpVUBne27dvIysrS2mdVb6rgAHAiRMnsHTpUuTk5MDW1haTJ08udQZycWLOE02q1D15TZT5LEpdloqBgQFCQ0Nx5MgRJCQkICcnBw4ODhgwYIDaqfr29vbIzc3FvHnz8OrVKwCFizuMGTNGUA6zjo4O8vLyuF7W27dvBfe4jI2NuYC7f/9+7Ny5E2vWrMGsWbPw448/ltnu7du36NmzJwICAqCjo4OhQ4eq7B0qUg1XrlyJw4cPc9s7dOgAR0dH3scrdf1OKfXVs7OzlWbl9ujRAytXruS139LSZfPy8lS2mTFjBsaPH4/Q0FCYmJhAX18ft2/fRt26dXnNjAYK6/6/evWKOy/i4+MF1c9p1KiRpI5SVlYWnj9/jmfPnqFKlSr44osv4Ofnh44dO2LmzJkq24r9rKtXr16iAmZkZKTatFMFHx8fXLx4Eenp6WjevDnu3LmD7777Tm2Qf//+PY4dO4awsDAkJydjxIgRsLa2xrlz5zB27FgEBwer3beY80SjPtjAUCXwobJU0tLSRI3xMibuZnNRQUFBbOTIkczS0pJt3LiRG5N+9eoV69atm8q2I0aMYC9fvuTGjS9dusQGDx6sdp/W1tbs4cOH3M937twRdLO5f//+jDHGVqxYwa5evcrS0tIE36zOy8tjiYmJ7Pbt2yw/P593u59++oklJCRwrzksLEztTbE3b96wgIAA9vvvv3P7kslkbM+ePWrfY8YYk8vlLCYmhm3dupVt27ZN8M3h69evM1tbW9ahQwdma2vLLCws2JUrVwQ9h1gzZ85k3bt3Z/PmzVM67tzcXNalSxe17YV+1idOnGDdu3dnAwcOZI8fP2aMMXb16lU2ePBgXu+1Qu/evVleXh5bsGABu3fvHrt+/TpzdnZW2+77779nc+fOLXE/Ty6Xs8mTJ6tsK/U80ZRK3ZMva0ai2Cn6QsZ5ixs/fjyMjIxgZ2fHTbIqS/FLOL5F1QDA3Nwcbdu2RVxcHGQyGTZt2iRo7PHChQvw8PAoUYbByMgIixYtUtl23rx5mDBhAp4+fQo7Ozukp6dj7dq1avc5d+5cuLq6wsjICIwxvHnzRtCq8lLX77x58yamTZuGOnXqQC6X4/Xr1/j11195Pc/ixYvh5eWFe/fuoXPnzmjatCn8/f1Vtpk1axZq1qyJt2/fIj8/Hz/++CNmzJiB9+/fqy1/DBRerRVfKEWIb7/9FocOHcLjx48hk8nQvHlzQT354vX7gcL7V2fPnlXb1szMDEuWLClRe79atWo4cuSI2vZCP2t/f3/8/PPPePHiBTZt2oT//e9/2Lx5M1xcXATVpDE0NETVqlXRokULJCYmwtraukR999KcPHkStWrVKrFdR0cHv/76q8q2Us8TTanUQb7ozMOCggKcOnUKzZs359VWSkmE0kybNg1t27blhmKE4FtUDRB3s7mohw8flllnR91yfGKDR8+ePXH69GncvXsXOjo6aN26taDaH1LX71y6dCkCAwO5gHH16lX4+vryGlf/6quvsG/fPmRlZUEul5f6B13c06dPcfLkSWRmZmL48OHYu3cvXF1dMXr0aNHnlxAPHz5EUFAQ0tPTlbbz7fzcuXOH+3d+fj5OnjyJq1ev8mr7448/IjQ0tNQ1Wg0MDNS2F/pZV6tWjVvLoWfPnnj+/DkiIiLUTkwszsjICJs3b0a3bt24L3FVQyaK+vdl4TNkXNHniUKlDvLFp+kPHjwYI0aM4NVWapZKcXyzNUoj5ApC6pqS9evXR3x8PNq1ayf4RBIbPNLT0+Hv74+nT59i3bp1WLBgAebOnct7UWyp63dmZWUp9Qg7dOiA3NxcXm3j4+OxY8eOEq9ZVWaQ4ougVq1aePfuHdavX4+OHTvyPl6ppk6dioEDB6J169aSn6tq1aoYMGAAfvvtN16PF7tGq4LQz7rorNzq1atj8+bNotY89fPzw9mzZ9GuXTtYWloiMjISixcvLvPxu3btAmMMv/76K5dVo6uri4iICN4VNSv6PFGo1EG+uAcPHvBeyPvWrVsICQnBuXPn8Nlnn2HlypW8qiECQHBwMFauXIn//vsPAP/a1YD0KwipN5tv3LjB1SVXLOnH99jFBo8FCxagR48euH79OmrUqAFDQ0PMnj2bd5Eyqet3fvHFFzh58iTX4zt58iTvMg1z587F1KlTBd2ILBrc6tev/8H/cD///HNJdWyKpg4yxnDv3j3eV15i12hVEPpZF32va9euLXpR61q1asHCwgIvXrzgVctKUaYhMTFRqZMzZswY3kkFFX2eKFTqIF907JAxhrp162LGjBm82krJUtm4cSN27dolaqUlqVcQUteUvHDhgui2YoPH8+fPMWzYMOzbtw/VqlWDp6cnbG1tebeXun6nr68vZs+ezdVib9KkidpxdQUjIyPBNWMUFQrlcjmys7MFF1aTysHBAYGBgTAzM+O9jm9RRRdrAQrvIfG59wKIX6NVQehnXbRaaGmVQ/kOUa1cuRJBQUHcl7+i88On8xQbG8vdPzl79izvmj8VfZ4oVOogX3TsUIFv6pGbmxt++uknpKamws/PDydPnuS12g9QeJNG7FJ6Uq4gAOk3m/Py8vDnn3/i0aNHWLBggaArCbHBQ1dXFxkZGdyX6OPHjwXVa3/79q2o9TsVLly4gIMHDwoaV1dwdXXFrFmzSrxmVYFfyoQ7Tbhy5Qr+/fdfrjcsdL/Lly/H7du30aZNG2RkZODmzZtqJ/sVXaP16NGjgtdoVRD6WRetFiq24ihQOIZ+7tw5wVcCS5cuhZeXFzeCYGxszHv+RkWfJwqVOsgPGzYMBw4c4H6Wy+VwcnJCRESE2rZSslRMTU0xbdo09OjRQyk/nk+PT2qeu5SbzcD/u5K4desWdHV18eTJE95XEmKDx7Rp0+Dq6oqXL19i8uTJuHr1KpYtW8b7mM3MzBATEyN4/U6F3bt3Y/jw4SUyPvg4fPgwcnNzcfnyZaXtqj5rqWWhpbp16xaOHz8uuv3q1atx69Yt/Pnnn8jOzsbGjRsRHx8PDw+PMtto6jUL/azFls8urnXr1sjLyxMc5Nu0aYOIiAju71hItdaKPk8UKmWQd3Nz42ZTFg3Menp6JdYBLYuULJXMzEzUrFmzRMYBnyAv5QoCkHazGSh5JbFq1SreVxJig8cPP/wAU1NTXL9+HTKZDEuWLEH9+vV5txe7fqdCgwYN4Obmhvbt2yt9KfMZenr9+rXotXFLIyRdVqyWLVvizp07oqf1R0dHc7NjDQ0NsW3bNjg4OKgM8orhlfz8fOzZswcXLlyAnp4eLCwsBM0alfpZF+Xj44OqVatixIgRaq+87ezsYGlpiVatWikNt6jrwBQt9bFnzx64ubmpLPXB14c4TxQqZZBXvPFLly6Fj4+PqOeQkqWyfPly5Ofn49GjR5DJZGjZsiXvG1NS89yLE3KzGZB2JSE2eKSlpeHIkSNchoriD5bv+L7Y9TsVpEwPb9euHaKjo2Fubi6ovnpZhKTLivXw4UM4ODjAwMAAVatWFTxkUlBQgJycHK5Xy7dmDlAYWHNycjB06FDI5XKEhYXh7t27KtemLUrqZ11Unz598MMPP+DBgwdqHxsYGAhvb2/B+1XUCQoICED9+vUF1wkqy4c4TxQqZZBX8PLywpkzZ/Du3Tul7Xx61FKyVKRMrpGa5y7lZjNQ+pXE5MmTebUVGzzc3d3RqlUrUQtaA9LX70xKShI9Qe7UqVNKQ4IAePcsra2t4eDgwBWCA6RNuONL3SQcdYYPH87VMwKAc+fO8a6tdO3aNURFRXE/9+nTh3dpAUCza7UqesF8OiW1a9cWtSiL0FIffH2I80ShUgf5WbNm4cWLF2jRooVSb5TPhyUlS0XK5Bqpee5SbjYDhe+N2CsJKcFDykLhYtfvVLh79y7ev38vKr3un3/+EdxGQRMVCoWIjo5G7969lZZNLIrvl+zo0aPRqVMnXLp0CVWrVoW/vz/atGnDq23jxo3x5MkTNG3aFEDhcJeRkRG/FwDxn/Xp06cRGBiI7OxsrrBZdnY272yyNm3awMPDo8Q6q+piidQ6QYD0AnxSVeogn5iYqNRrEEJKloqUyTVS89yl3GwGAA8PD6xfv17pSmLUqFHYsWNHmW2kBo9+/frh4MGDMDMzUxry4PvFJnb9ToUqVaqgd+/eaNasmdKYvKrx1gMHDmDYsGFlLh/IZ6jJ2NgYU6ZMwZQpU7gKhYsWLRJUoVCIGzduoHfv3iVSIBX49lQZY7hx4wauXLkCmUwGuVwOExMTXjdCCwoKuNIeurq6uHz5MgwNDeHm5gZA/Ri32M96+fLl8PX1xbZt2zBx4kScPHkS2dnZvNtnZ2ejVq1aSkkFgPr3TGypj6KkFuCTqlIH+RYtWiAlJUXwwrmAtCwVKZNrxF5BSL3ZPHXqVCQkJCA5OVlpokdBQQEaNmyosq3U4JGVlYVly5YpBTUhX2wODg549+4d10tTlIHlq3h1Qj6YBipsa6JCoRCK8sSGhobw9PQU/TyrVq3CkydP4OTkBMYYgoOD8ezZM173v4oP/Y0dO1bQvsV+1rVr14aZmRn+/fdfZGRkYPbs2Rg4cCDv/ZbWucvJyVHbTmqdIABISUnBzp07sXLlSlhaWmLcuHEYNWqUoOeQolIH+ZycHFhZWaFVq1ZKbyyf/FKpJRHmzJmjNLmG76WV2CsIqTebV6xYgXfv3sHPz0+pvZ6eXomFTIqTGjyio6MRGxsrqN5MUevXr8f27dtRUFCAL7/8EsnJyWjbti0OHjzIq33Xrl1x9uxZXLhwgVvkWfEFXRZF+Wcp4/l9+/ZF7969MXXqVKW5BM7OzoiJiRH1nHxER0dj+vTposoKAMD58+cRGhrK9dx79erFOwOra9eukuqyi/2sq1evjkePHqFFixZcDXshN4xPnz6NtWvXcsctl8uRk5OD2NhYle2k1gkCpBfgk6pSB3khVebUEZKl0qxZM9GTa6TmuYu92VyrVi3UqlULv/zyCx4+fAgTExNERETg9u3bcHd3R926ddXuW2zwMDY2Rnp6uuggHxISgrNnz8LPzw+TJk3Cw4cPsXfvXt7tf//9dxw/fhw2NjZgjOG3337DvXv3MGnSJLVtpYznS6lQKEWdOnVgZWUFU1NTpeEpvoFHJpOhoKCA6zjJZDLemUVi67IriP2sp0+fjrVr18Lf3x9btmzBgQMH4OTkxGufgPjhHk3UCZJagE+qSh3ku3btisuXL+Pu3btwcnLCtWvXeE8FFpOlsmDBAvj6+pa5rF15X0EA0m42A4VDF40bN0Zubi7Wr18POzs7zJs3D5s3b1bbVmzwyM/Ph7W1NVq2bKl0U4vvjD5DQ0PUqlWLS+G0tLQUVKo4PDwcBw8e5P5whg4dCkdHR15BXsx4viYqFEohdYKQjY0N3NzcYG1tDQA4cuQI7wyZmJgYHDt2DL6+vnBzc0N2djZWrFjBe99iP+uuXbtyHajDhw8jPT2ddwE8QPxwj9Q6QYD0AnxSVeogv2PHDpw8eRIpKSmwsrLCwoULMXjwYF7jgGKyVIYNGwYAKieFCCU0z13KzWagsI7ML7/8An9/fwwePBjjx4/n3eMRGzwmTpwoqp1CrVq1EBoaClNTU+zevRuGhoa8xksVGGNKPSN9fX1e8xrS09MxZswYbjhLUQtf3UQuTVQoFEsmk8HKyopbI/TBgwf46quvBGX09OnTBw0aNMCuXbvQqFEjTJo0CRYWFrzaiq3LriD2sxZTLbQoscM9UusEAdIL8ElVqYN8SEgIgoKCMHToUHz55Zc4dOgQhgwZwivIi8lSURRdOnbsGBYsWKD0Oy8vL161M6TmuUu52QwUBoG0tDScPHkS69evR2pqKq/MICnBQ8yYeFF+fn44cuQI7O3tER0djYULF2L69Om825uZmcHDw4P7kgoJCSmzpr7C7du3MX78eCxbtoz7XAMDAxEcHIzff/9dZVtNVCgU49mzZxg7dixmzZoFS0tLAMC2bdtw6dIl/Pnnn2qzoN68eYNp06bh/v37aNq0KXR1dXHhwgXk5OTgu+++Q+3atdUeg9C67MWJ/azFVAstytPTs8RwD58hJql1ggDpBfgkK++lp6RwcHBgjDFmZ2fHGGMsPz+fDRo0SGUbV1dX1rp16xL/mZqaMg8PD5Vt58+fz1xdXVnHjh2Zq6sr95+zs7Pa/aqSm5vL+7FjxoxhHTt2ZMOGDVM6Br4iIiJY3759mZ+fH2OMMUtLS3bkyBGVbZ4+fcp+/PFHduzYMW6bt7c3s7S0ZM+fP1e7zy1btrDBgwezHTt2sO3btzMnJye2ceNG3sc8d+5c3o8ty549e9i0adOYh4cH2717NysoKFD5eDc3N3bhwoUS28+dO8dGjRrFa58ODg4sJiaG+/nMmTO8lksUa8KECSw8PLzE9kOHDrFJkyapbT9v3jy2evVqlpeXx23Ly8tjAQEBzMvLi9cxZGRksMjISMYYYzt37mQTJ05ksbGxPF+B+M+az1J9quzbt0/pZ77Lc0r5u1cQupSlplXqIL98+XK2YsUKZmlpyU6cOMHGjRvHli5dyqutr6+v4P09e/aMXbhwgdnY2LC4uDjuv/j4ePb27VtezzF06FCln2UymaATpeh+i/7H19GjR5W+VNQFO8akB49Bgwax7Oxs7uesrCxmZWXF84gZc3R0ZJmZmbwfr9C6dWtmYmLC/Vf0S93ExERlW8WarqWxtbXltf9bt26xQYMGsa5du7KuXbsyBwcHdu/ePUGvQQhFZ6c0fM6xsj4TuVzOOxCNGTOG1+PKIvaz/uuvv9jMmTPZwYMHWUhICPcfX9bW1oL3yRhjnp6eLCEhQVRbBT8/P3b+/Hkmk8kkPY9YlXq4Zs6cOQgKCkLr1q0RGhoKCwsLLvVNHTFZKo0bN0bjxo0RHh5eIpc3ISFB5ZqcmiiqBki72QwUTlH39/eHhYUFHBwc0K5dO7VtXr16VWoKnZOTE7Zv3662PRM5Jq4g5uYnoHzfxd7eXmkxDHUKCgogl8tLTACSy+W8U/OkVCgUo6CgQFL7ou9tUTo6Oryrf2ZnZ+Ply5dq516Upfhnzf7/0hnqPmsx1UKLElvETmqdIECzRdnEqNRBfsWKFbC1teUd2IuSkqVSNJe3Tp06SElJUZvLq4miaoC0m81AYSZMdnY2jh8/jvXr1+PNmzewtraGvb19mfnyUoNH8THx0NBQtWPiRYmZzFSc0LTPLl26YMOGDdwcAYWNGzfyXhCjvCoUluWbb77BwYMHMWTIEKXthw8fVlsPHlD9HvF9/9LS0tCnTx/Uq1dPKUjzDXq2traoX78+qlevjrS0NF7HDUivFiq2iJ0mUmE1WZRNjEod5L/66iv4+fkhPT0dNjY2sLGx4f0HJCVLRUretpSiaop9i73ZrPDZZ5/B2NgYDRs2xJMnT5CYmIjRo0dj2LBh3NKARUkNHt7e3ti3bx9CQ0PBGIOZmRmXqcRHnTp18PDhQ1SvXh0tWrTg/YdfFBM4g3XGjBkYP348QkNDYWJiAn19fdy+fRt169bFpk2beD1HeVUoLMucOXPg4uKC0NBQtGnTBvr6+rhx4wZevHiBbdu2qW1/7969Upe9Y4whNTWV1zFs3bpV8HED/++m77179/C///0PAPDo0SN06NABa9asUdtearXQqVOnIi0tDdWrVxe07kCjRo2wb98+LqnAzMys1L8hVTRZlE2MSh3kXVxc4OLigpcvX+Lo0aOYMmUKatasySvgSslSkZK3LTXPvUqVKkqze/X19QWd1IGBgYiMjETjxo3h5OQEb29v6OvrIzMzE3379i31BJUSPGQyGfLy8uDs7AxnZ2cuc4PPcE3RP/ymTZtCR0dH6Q+fT7aHgtCefK1atbi66AkJCahSpQpGjhyJzp07836O8qpQWBYDAwOEhobiyJEjSEhIQE5ODhwcHDBgwIAyh2KKOnbsmORjKK2+UfXq1fH+/XuVNd1Xr16NTp06Yfv27VzGVl5eHtavXw8/Pz+1ufZiq4XK5XKsX78e+/fv5zpeDRo0wMiRIzFu3DiVbYGyS0DwLa0MSC/AJ1WlDvIAkJGRgfPnz+P8+fOQyWTo0aMHr3ZSSiJIyduWmufetWtXrFy5EtnZ2Th58iQOHDgAMzMz3u2rVKmC7du3l+gN16pVq8zUQLHBo7SUvu3bt+PSpUvYunWr2qsuqX/4RSclFa3Zw3cIQUdHB926dVN5r0UVTVQoFOqzzz4TtEhHUWJLQRd16tQp3L59m0uRPXPmDAwNDZGVlQUbGxuMHj261HZXrlzBX3/9pbStWrVqmDFjBuzs7NTuV2y10I0bN+Lq1avYvHkzWrVqBR0dHdy5cwfr1q1Dbm6u2gV9pJSAUJBagE8qHSb0OvcDmjhxIm7dugVLS0vY2toKqvmguAlaHJ9c9+TkZBw5cgRjxozBihUrEBMTgwkTJnAzBFWZMmUKFi1aJDrPXS6XIygoCDExMZDL5TAzM8Pw4cPV9ozLqiCpUB6LBk+cOBHW1tYlTvrDhw/j1KlT2Lhxo8r2AwYMKPGHDxQGaTs7O7VrgSYlJan8vSaCmio3btyAj48Pnj59iq+++oqrUChlEROxxo8fDyMjI65CZHkZPnw4tmzZgs8//xxA4SpqEydOxPbt2+Ho6FjmZ6bqxjifm+Ziy/UOHDgQwcHBJcoIZGRkYOTIkWrPMWtra4SEhHBf3rm5uXByckJkZKTKdsWVVpRNbOdCqErdkx86dCjMzc0FZWooSMlSMTIywpgxYwAoLyTMh5QrCED8zWZXV1fUq1cPLVq0AKA8Ri1l0WBVwUNqVo7UbI/yDuLqaKJCoaZMmzYNbdu2xatXr8p1P2/fvlWq86Ovr4/09HTo6emJvrHLZ6hNbLneqlWrllonpnbt2ryGQaWUgFCQWoBPqkoZ5ItWcjxx4kSJ3/MZy5KSpbJ9+3Zs3LixxHRtPilPUouqib3ZvGHDBvz111948uQJevfujYEDB6JZs2aSjgVQHTykZuVoItujImmiQqGmKDKCGjRoUK77sbS0xKhRozBgwADI5XIcP34cffv2RWhoKLc6Vmmk3vQVW65XzMLwCunp6Rg6dCjatGmD2NhYxMXFwc3NTfBMVakF+KSqlEFeMaQSHR2N9+/fw9bWFnp6ejh69Cjvm3FSslR27tyJ0NBQUSlPUvPcxd5s7tevH/r164fc3FxER0cjMDAQKSkp6NOnDwYOHCg6rU9V8JCalaOJbI+KpIkKhWIEBwdj5cqV+O+//wB82LzrmTNnIjo6GufPn4eenh7GjRsHCwsLXL16VWVygtSbvmLL9b548aLM8t8vXrwos13Rshfm5uYwNzfHmjVrsHr1apiYmAhaB1lqAT6pKmWQV+Rb7927FwcOHOC+jQcMGIChQ4fyeg4pWSrNmzdXW6SqLFLz3AHxN5uBwtdpZWUFKysrPHjwAN7e3ggMDOQVAIQGD6kpfZrI9qhImqhQKMbGjRuxa9culdks5alKlSrQ09ODTCbjJo6puw8hdWhNbLleVcOtqu7PrVy5EqtXr1aa7zFjxgx06dIFK1as4DUcqSC1AJ9UlTLIK2RkZODdu3dcLfTXr18jKyuLV1spWSpubm6wsbFB+/btlb4Y+FyGS81zL3qz+f/+7/8ELzCQlJSEqKgoHD9+HPn5+bCysuIKSakjNHhITemr6DF1qTRRoVAMQ0PDCgvwUmr3SzFq1ChkZmYqletVlxkDiK+s+t9//5U6oe+HH35AQECAoOeSWoBPqkod5CdOnAhbW1t89913YIzh6tWrvGeTSimJsHr1atjY2IgKQlLz3MXebN6yZQuOHz8OuVwOKysrBAQECJ5UJCZ4SEnpU0WxIHmvXr0EVbT8kDRRoVAMU1NTTJs2DT169FD6Mv0QVQ2l1O6XYuTIkVwmlqmpKUxNTSU/p4+PD6pWrYoRI0aUOO81UfZCYe3atVwHUWgihyZU6iBvb2+P7t2748qVK9DR0cHixYt5Zy9IKYlQrVo10ZfhYq8gpN5sXrNmDYyMjPDVV1/h77//LpFXzCfwaDJ4CEnp++OPP2BnZ6d0427Lli0wNDQUtFjzh3br1i0cP378g+83MzMTNWvWxNWrV5W2f4ggL7VOkVgmJiYIDQ1Fu3btlPYvpVRAnz598MMPP+DBgwclfqeJshcKUlYf04RKnSdf1PXr17Fv3z5ERUXhypUrah+/e/duHDlyRFRJBMUkHHNzc6UZanwuw8XmuSvqcpR1s1ndxKCy5gUo8JkfIHZ92tLcvHmTy8pRl/GxYcMGREZG4quvvoKDgwP69esnaBGMiqIojSDkJpym5Ofn49GjR5DJZGjZsuUHCbRAYW2m5ORkpTpFhoaGkuo18VFakT+hhcIA8F5RKjMzE+PHj8erV69KLXshpEzBkCFD8OTJE8FF2TSlUgf59+/fIyIiAvv27cP9+/dha2uL0aNHC8pmUGSphIeH8y6J4OrqWmIb3w9l2bJlsLW1FfxtrzBkyBClm81yuRxDhw7FoUOHRD2fUBUVPIDCGaORkZHcyj1DhgzBN99888H2L5S9vT0SExMlVSgU4+bNm5g2bRrq1KkDuVyO169f49dff/0gC0QzxrhaLkXrFH3I80SMhIQEeHp6IicnBwcOHICLiwvWrl2rctiHMaZU9qJt27aiJprt2rWr1KJsfDpemlApP5nbt29j//79+Ouvv/Dtt9/CxcUFGzduFNyjFJulsmvXLjGHDUBaUTVA2s3msvAdOhEbPDSR0peVlYXnz5/j2bNnqFKlCr744gv4+fmhY8eOmDlzJu/n+ZDKc7FuVZYuXYrAwEDuc7l69Sp8fX3LtSOQmpoKAwMDvHz5ssQ0/ZSUlHKtsPjgwQMcOnQIDx8+hL6+Pr7++msMGTJEULnjpUuX4tdff8XMmTNhZGSExYsXY9GiRSrfM6llL6QWZdOY8i5YL0br1q3Z9OnTWVJSEretT58+gp5jwoQJrGfPnmzJkiXs6tWrvNr4+PgwxhhzcXFRWpVJ6OpMjDH24sUL9scffzBbW1s2YsQI3u1CQkJYjx49mIeHB5s6dSrr2bMni4qK4t0+Ojq6xLYbN24wxhh7+fKlyrbDhg1Teq+uXLnCnJyc1O6zb9++LDExkfcxFjdz5kzWvXt3Nm/ePHbp0iVue25uLuvSpYvo5y1vcrmc7dmzh3l4eLBJkyaxHTt2fJCFIUpb4EMTKxipMn78eMYYY71792Z9+vQp8V95iYmJYV27dmWLFy9me/bsYXv37mWLFi1i3bp1E7SYTvFV5hgr/xWbSluJKzc3V9BKXJpQKXvyGzduREhICOzt7dGzZ08MHDhQcClZMVkqmlrIW0qeu5SbzQDg7+9fohgS39mQWVlZSr32Dh068FofVmpKn5mZGZYsWVKiBGy1atVw5MgR0c9b3jRRoVCML774AidPnuSyjk6ePFnupWw3b96MBw8eYP/+/TA0NMSWLVvw77//wtTUlFc1R7HWrVuHrVu3lhj+dHR0xIoVK3jPHK1Tpw7u3LnDzaQODw/nNTYvhdSibJpSqcfk3759i/DwcISEhODu3bsYNmwYnJ2d0bJlyzLblHXzUIHvkM+9e/eQnp6u9OXC58arlKJqxQm92azY/5dffon27dsrZSHwybxwdXXFqFGjlILHjh071A5f+fn5ITk5WXRWTnp6Oo4cOYK3b98qvd8VMdFICFtbW6UKhQUFBbCxsSm16JomPXr0CHPmzMHTp08BAE2aNMGqVavQvHnzctvnrl27sHXrVujq6qJr16549OgRBg4ciIsXL6JGjRpqC4WJZWNjg4iIiFJ/5+DgwHshkadPn8LLyws3btxA9erV0bRpU/j7+5freya1KJumVMqevMKXX36JUaNGYdSoUbh9+zYOHz4MNzc3xMbGltlGEyURlixZgtOnTyvlmfO98SqlqBpQ+s3m/fv3827/5ZdfAgCuXbumtJ1PwF2yZAnmzJnD9UQVwUMdqSl9U6ZMQd26ddGyZcuPomaNgkwmQ0FBAXelJZPJRC1oIVSzZs1w8OBBZGVlQS6Xo1atWuW+z/379+Po0aPIzs5Gv3798M8//6BmzZoYOXJkuaZuauqG7ldffYV9+/Z90PesstRmqtRBvqg2bdqgTZs2aicTaKIkwj///IOoqChe06YVpOa5a+pm8/Lly0VnyIgNHlL2CRT25Hfv3s378ZWFJioUCrFgwQL4+vrC1dW11CBRnil5enp6qFGjBmrUqIEmTZpwOd+6urrlmlnz/v17xMfHlzpcKyQhIT4+Hjt27ChRTK4837PKUpvpownyClOmTOGVKSIlS6VJkyaC7wFIvYJwdHTEgAEDEBYWxmUq/Pbbb4KOARCXISM1eEhN6WvVqhWXV/+x0FSFQiE0dc9IjKIzPz/E1YqCkZERfvnll1J/J2TNhrlz52Lq1KkfdJ3VylKb6aML8nzrZkspifDFF1/A2toaHTt2VLrpqapXLfUKQhM3mwFx6XVSg4fYlD7Fyk45OTk4evQojIyMoKur+8HyzcXSZIVCIRRfgseOHcOCBQuUfufl5VWuedePHz+Gm5tbiX8zxvDkyZNy26+UdOaijIyMPsiM4KIqS22mjy7I880UkZKl8sMPP+CHH35Q2sZ3DE3sFUSfPn3Qp08f7mbzhg0b8OrVK/z8889qbzYXJSZDRmrwEJuVo6k/4A9NkxUKhfD29sazZ89w8+ZN3Lt3j9teUFBQYu0DTdu8eXO5Pr8Y0dHRqFKlCrp37652hrSrqytmzZpVopjchw78FaFSB3mpk2wMDQ3Rv39/XL9+HQEBAbyzVIpXrrt48SIOHDjA64SQcgUBiLvZXJSY9DqpwUNsSp+ip5Ofn88tqq2npwcLC4tyKXqmKZqsUCjEpEmTkJSUBD8/P3h4eHBXerq6utyKYOXlQ83OFOLUqVOwsLDAqVOnYGVlpfKxhw8fRm5uLi5fvqy0/VMI8pU6hbJfv37YuHGjqBxsqSUR/vvvP4SEhODAgQNITU3F4MGD4eXlxattSkoKdwXRqVMnVKtWjXdmT2ny8/N513J5/PgxZs+erZRe5+/vr3KVqOfPn3PBY8GCBSWCh7qALTWlz8vLCzk5ObCzs4NcLkdYWBgaNGhQ7vnmYtnY2CAsLKzUCoWDBg3C0aNHy3X/mZmZCAsLw8iRI5GcnIz9+/dj/Pjx+Oyzz8p1vxXJ2toaDg4OJQrZ8SUk3VLrfLBpVyIImSmqcOvWLbZgwQLWuXNn9tNPP7GgoCDWq1cv3u2vXLnC5syZwzp06MCGDx/Ovv/+e5aRkSH4OBhj7Nq1a2zu3LmsQ4cOotoruLu7Mx8fH6XZoGXZt28fY4yx9+/fCz7ujIwMtnv3bsYYY69evWJr165lWVlZvNuL2SdjjPXv31/pZ5lMxgYMGCD4eT6Un3/+mf3yyy8ltq9fv57Nnj273Pc/YcIEtmbNGsZY4We2Zs0aNnXq1HLfb0V6/vw527BhA7OysmLu7u7sr7/+UppJqs7ChQvZ6dOnWUFBQTkeZeVUqXvyYibZmJiYYMCAAZg9ezZ3J71v3768buLZ2dmhRo0a6N+/P6ysrNCgQQP06dMHp0+f5n3MmiiqVpyQio6DBg0SvJK8wsSJE9G6dWt4enoiMzMTv//+Ox4+fIj169eX+nhNpfSNGzcOCxYsQNOmTQEUXgl5eXnxWl2qImiyQqEYtra2CA8PV9pmZ2eHsLCwct1vZXHixAksXboUOTk5sLW1xeTJk7n5IWXp2bMnXr9+rbTtQy2ZWNEq9Zi8mEk2UrJUvvrqKyQkJCAxMREtWrSAgYEB7xuumspzL42QRZobNGgANzc3tG/fXumLkc/s0RcvXnBpm7Vq1YKnp6fK6deaSukrKCjgUmJ1dXVx+fJlGBoachkcH6okK1+1atXi7iEoKhSOHDlSVIVCMXR0dJCYmMh1HB48eFDpq0BK9f79exw7dgxhYWFITk7GiBEjYG1tjXPnzmHs2LEIDg5W2b74+gqfkkrdkwfEl74VUxJB0S4iIgLBwcF49eoV8vPzsX37dnz77bcq20m5gihK6s3mDRs2lLqdT5C3s7PDqlWrlILHnDlzcPjwYZXtfH19S83KWblyJa9j1kQt/E9JTEwMZs+eDSMjI+jo6CAtLQ3+/v4f7EumIpiZmaF3795wdHRUKi/CGMPUqVPLrAh64MABDBs2TNLfxceuUgd5TdXNVmSpHD16lHeWClBYg/rw4cOIjIyEsbGxymB3+vRphISEIC4ujruCWLZsmaChHkDazWagcOat2KsHocGjaFZO0YlMiqycsmqOlOb27dvIysoCYwwymQzPnz+v1Bk2FS0vLw937tzBuXPn8Pfff+Pu3bu86xt9jDIzM0WVIti/fz+GDx9OQb6iD6Isw4cPx7x585Qm2SxdulR03WwhWSrF250+fRr9+/dX+1ixVxAKzs7OvCvrlcbJyQk7d+4UvdSYkOAhNStHwcfHBxcvXkR6ejqaN2+OO3fu4LvvvsPWrVtFvQZt9+zZMwQFBeHw4cP477//MHHiRDg7O3NzM7SJYsJcWfheKUvp/HzsKvVAnthJNmXhWxKhuKpVq+Lt27fYu3cvbGxsVKZDSs1zl7rOapUqVdC7d29uqTEFPuPapQWPTZs2lfn4xo0bo3Hjxti7d2+JlL42bdrwOl6g8Ari2LFj8PX1hZubG7Kzs9Uud/gpOnHiBPbv349bt27hxx9/hL+/PxYsWKDVvdFdu3aBMYZff/0VTZo0gaOjI3R1dREREYHnz5/zfp6KXme1IlXqIK/putl8SyKUJiUlBf369cO///4LCwsLXm34FlUrSmpFx9mzZ/Pel4LU4DFr1ixuHL9mzZqQy+WYM2dOmVk5xRkaGqJq1apo0aIFEhMTYW1tXe4zOD9GHh4eGDBgAA4cOMBlIn1MVTvFUEyYS0xMVOqJjxkzBo6OjryfR0rn52NXqYO82NK3ZRGSpVJc8VXbhRByBSG1omPXrl1x9uxZXLhwAQUFBfj++++5L8mySA0eQrNyijMyMsLmzZvRrVs3+Pv7AygcNiLKwsPDERwcDGdnZxgbG8Pa2hoymayiD+uDiY2N5ZbiO3v2LO9Caenp6RgzZgzq1asHoPBm7Zs3b1C/fv1yO9ZKpQJy8wUTM8nm8OHDrGvXrszExISZmJiw1q1bMxMTE15t3717x7y9vZmrqyt7+/Ytmzt3Lnv37p2YQ2eM8V9+T/HY3r17MwcHB2ZnZ8d69OjBe/lCxhjbsmULGzx4MNuxYwfbvn07c3JyYhs3blTZJjExkS1fvpx1796dDRkyhG3fvp1ZWFjw3qetrS27c+cO9/P9+/eZo6Mj7/YZGRksMjKSMcbYzp072cSJE1lsbCzv9p+a/Px8duLECTZp0iRmamrK3N3d2ZkzZyr6sMrVrVu32KBBg1jXrl1Z165dmYODA7t37x6vdj169GBnz57ltq1Zs4b17NmTJSQklOchVxqVMshrYq1VKeuOenh4sP379zMbGxuWm5vL1qxZw9zd3UU9l1Bi11lVGDRoEMvOzuZ+zsrKYlZWVrzaig0e58+fZ927d2cODg7M0dGR9erVi9fsXIUxY8bwfixR9ubNG7Z169ZyX6+0skhLS2Nv377l/Xg3Nzd24cKFEtvPnTvHRo0apbkDq8QqZZBX9Hzj4uJK/Y8PMSURFKQs+ivlCqKs/QhZpNna2lrpZ5lMJmqRZ6HBIzc3l127do2tX7+eDR06VFAphxEjRrAXL14IPkby6Xj+/DkbPXo0+/HHH1lKSgpzdXVlz549U9vO3t6+zN/Z2tpq8hArrUo5Jq+JutlSslR0dXWRkZHBjUs/fvy4RDGqsmzcuBG7du0Snecu9WazmZkZPDw8uEqaISEhpVZMVKdu3boYM2YMxowZo/axQrNyiktLS0OfPn1Qr1496OvrV/p68uTDW7hwIcaOHYuAgADUr18fgwYNgpeXF/bs2aOyXUFBAeRyeanF5PLz88vzkCuNShnkNVE3W0qWyrRp0+Dq6oqXL19i8uTJuHr1KpYtW8Zrv4aGhqIDPCD9ZrOPjw+X0sgYg5mZGYYPHy76eFTRVEof5cMTdd6+fYuePXsiICAAOjo6GDp0qNoADwBdunTBhg0bSiRObNy48aNaiUyKSjkZSlOTbMRmqdy5cweGhoa4fv06ZDIZ2rdvz/tOvJiiaqURus6qiYmJUkZM0Y+1vAoxKUo5TJ8+ncvKEVPKobRV66tXr47mzZtL+sIk2sPZ2Rlr1qzBpEmTEBISgvj4eKxcuRIHDx5U2a6ii8lVBpUyyCtIqZstpSTCgAED8Ndff4k65qILehelbradJhdptre3LzVwatrdu3cRHByMiIgILqVv27ZtOHPmjKDn8fDwwO3bt7khqjNnzsDQ0BBZWVmwsbHB6NGjNX/w5KNy48YN+Pj44OnTp/jqq6+Qnp6OtWvXokOHDmrbMsaUism1bdtWq+v8FFepg7zQ0rdFSSmJ4OHhgdatW6N9+/aoXr06t71oYSRVxFxBKOq/lFWsS0iRrg+9QEJBQQHOnDmD4OBgnDt3Dt27d8fIkSN5TxobPnw4tmzZgs8//xxA4Zf7xIkTsX37djg6OpYoq0s+Tfn5+Xj8+DFkMhmaN2/OeznPT12lHJNXkDLJRkpJhHfv3iEuLg5xcXHcNh0dHV69abFXEJpcpPlDf2/r6emhX79+6NevH9LS0hAaGorVq1fzDvJv375Vmm6ur6+P9PR06Onpaf2MTsLPw4cPERQUhPT0dKXtn2o9GiEqdZCXUjdbSpaKlAWmly5disDAQKUrCF9fX7VXEJpcpLkiA6OQrBwFS0tLjBo1CgMGDIBcLsfx48fRt29fhIaGilrqjWifqVOnYuDAgZIW3/lUVerhGil1s6WsOyplXLy0VXtsbGzUlt2VerO5aLW+5ORkGBkZAcBHk44YHR2N8+fPQ09PD926dYOFhQWuXr2KZs2a4YsvvqjowyMVbPjw4di/f39FH8ZHqVL35Lt3747o6Gil0rfu7u686mY3a9YMBw8eFJylAiivdFRQUIBTp05x48XqiL2CkFrRUcrVR2VQpUoV6OnpQSaTcfnLfG6qkU+Dg4MDAgMDYWZmpnQ1z/c+2aesUvfkxdTN1mSWSlFDhgxRm64FSLuCAKTdbP5Y/f777zh+/DhsbGzAGENERAT69u2LSZMmVfShkUpi7ty5+Pfff7krVID/fbJPXaUM8sUn2VhZWWHBggW8VlnSRJbKixcvuH8zxnD//n0sXboUJ06c4P0axFxBAJ/mIs02NjY4ePAgl8mUnZ0NR0dH0WmsRPvwGfIkpauUwzVSSt9qIkvFxcUFOjo63Hh23bp14ePjo7KNpq4gPsVFmhljSqmq+vr6Wv+aiTAtW7bEnTt3YGJiUtGH8tGplH9JUupmayJLJTg4uMQ4elJSkso2w4YNA6A8ni+Gl5cXxowZU+JmszYrXm8nNDRUVL0dor0ePnwIBwcHGBgYoGrVqh9NQkFlUCmHaxTETLKRkqXy8uVLMMYwfvx4/P7771xbmUwGd3d3REVFqT1mX1/fUq8gVq5cyeMVF/rUFmlmjGHfvn24cOECV29n2LBh1JsnnLI6WYqVo0jZKnWQL0oxySY0NJTXDEgxJRHmzZuHuLg4pKSkwNDQkNuup6eHXr16Yf78+WW2LXoFUbTwkeIKgu944qe0SHNqaioMDAyU7oEU1ahRow98RKSyKtoRKCgogJmZGVxcXHhXh/2UfTRBXigpWSpbtmzB+PHjBe1Pap67lJvNH6sJEyZg8+bNSjn+RdGlOFFYuXIlnjx5AicnJzDGEBwcDGNjY65aKymb1gZ5KVkq6enpiIyMxLt375RKBPApoSu2qJqmKjp+bB48eIDatWvD0NAQW7Zswb///gtTU1OMGzeOVyE68mmwtbVFaGgo13MvKCiAjY0NZWDxoLXXOoosFQUhWSrTp09HXFwc5HK54P3OmjULKSkpAICaNWtCLpdjzpw5atuFh4fDyMgIzs7OGDp0KHbs2KH1izTv2rULY8eOxYgRIzBv3jycPn0a3bt3R2JiIhYtWlTRh0cqEZlMhoKCAqWf+S7k/anT2p68lJIIUnJypea5S63o+DGxtrbGwYMHkZ2djX79+uGff/5BzZo1IZPJYG9vT3nRhPPbb7/hzJkzsLa2BgAcOXIEvXr1wsSJEyv4yCo/rU1fkFIS4ZtvvhGdkys1z11qRcePiZ6eHmrUqIEaNWqgSZMmXCVKXV1dyqwhnPT0dAwdOhRt2rRBbGws4uLi4ObmJnghnk+V1v4lSVl39N69e3BwcBC15qgm89zFVHT8mBTNjKBLb1Ka27dvY/z48Vi2bBnMzc1hbm6ONWvWYPXq1TAxMaHJUTxo3XCNJrJUpObkfmp57mJ17NgR3377LYDClX8U/2aM4datW/j3338r8vBIJTBq1ChMnjy5xOS4v//+G1u3bsX27dsr5sA+IlrXk5dSEkHB2NgYERERuH//PiZOnIhjx47xvjSUcgXxqdm8eXNFHwKp5P77779SZz//8MMPCAgIqIAj+vhoXZCXUhJBISAgAK9evcKtW7fg7u6Ow4cP486dO5g7d26ZbYpfQfj7+2PBggW80i4/VUJWuyKfpoKCAsjl8hKTnuRyOVeSmqimdSmUrVq1wty5c3H27FmMHz8ecXFxeP36NcaPH4+zZ8/yeo5//vkH/v7+0NfXR61atbBt2zacO3dOZRsPDw98/vnnOHDgAHx9fdGjRw9auo4Qibp06YINGzaU2L5x40almeWkbFrXk1eQkqWi6DUognReXp7a6dOauIIghCibMWMGxo8fj9DQUJiYmEBfXx+3b99G3bp1aRiUJ6278aoJW7Zswa1bt3Djxg24ubkhPDwclpaWvHJyP6U8d0I+BMYYLly4gISEBFSpUgVt27blNd+FFKIgX4a///4bMTExkMvlMDMzQ+/evQU/h9CiaoQQomkU5EsxZcoU2Nraonfv3qhWrVpFHw4hhIhGQb4U0dHROHLkCOLj49GzZ0/Y2tpSJggh5KNEQV6F3NxcREdHY8uWLXj79i2io6Mr+pAIIUQQrc2uker+/fs4cuQIoqKi0LBhQ7i5uVX0IRFCiGDUky+FjY0NdHV1YWNjAxsbG6VVoggh5GNCQb4URatIEkLIx4yGa4pwdXVVOUt1586dH/BoCCFEOgryRXh4eAAAgoKCUL16ddjb20NPTw+RkZHIzc2t4KMjhBDhaLimFE5OTjh8+LDSNkdHRwQHB1fQERFCiDhaV6BME3Jzc/Ho0SPu5zt37iitL0kIIR8LGq4pxdy5c+Hq6gojIyMwxvDmzRusXr26og+LEEIEo+GaMihWd4qJicHZs2dx584dWt2JEPLRoZ58KUpb3enXX3+t6MMihBDBqCdfhCbWhyWEkMqEevJFaGJ9WEIIqUwoyBdBqzsRQrQNDdeUglZ3IoRoCwryatDqToSQjxkFeUII0WI045UQQrQYBXlCCNFiFOQJIUSLUZAnhBAtRkGeEEK0GE2GIlpvy5YtOHToEGrWrInOnTvj1KlTiIqKQkBAAC5dugSZTIY2bdrAx8cHtWrVQp8+feDg4IDY2Fi8fPkSdnZ2mD59OuLi4uDn54caNWrg/fv3OHz4MP755x9s2rQJ+fn5qF69Ory8vNCxY0c8ePAA3t7eyMvLA2MMgwcPxsiRIyv6rSCfIOrJE632999/Izg4GIcOHUJwcDDev38PoDDw6+rqIjg4GOHh4TA0NERAQADXLisrC3v37sX+/fvx559/4tmzZwCAe/fuYfXq1YiIiMCLFy8QGBiILVu2IDQ0FL6+vvDw8EBWVha2bt2KPn36IDg4GFu2bEF8fDzkcnmFvAfk00Y9eaLVzp49CysrK3z++ecAgJEjR+LChQs4c+YMMjIyEBMTAwDIz89HvXr1uHZ9+/YFABgZGaFevXpIT08HADRs2BDGxsYAgPPnzyMlJQWjR4/m2uno6ODp06f48ccf4eXlhevXr6Nbt27w8fFBlSrUpyIfHgV5otX09PRQdL6frq4uAEAul2P+/PlcqYr3798rreOrr6/P/VtHR4d7jho1anDb5XI5unXrhrVr13LbXr58CUNDQ5iYmODYsWOIiYlBbGwsfv31VwQHB6NBgwbl8joJKQt1LYhWs7CwwPHjx5GRkQEAOHToEACgZ8+e2LNnD/Ly8iCXy7FgwQKsWbNG0HN369YN58+fx4MHDwAUXjXY2toiJycHM2fOxNGjR2FtbY1FixahVq1aePr0qWZfHCE8UE+eaLVu3bph6NChGDZsGKpXr46WLVvis88+w+TJk7Fy5Uo4ODhAJpPhm2++wdy5cwU999dff40lS5ZgxowZYIxBT08PmzZtQs2aNTF58mR4e3vjwIED0NXVRb9+/dClS5dyepWElI1q1xCtduPGDVy5cgVubm4AgG3btuHatWtKQyyEaDMK8kSrZWZmYv78+Xj48CF0dHTQsGFD+Pr6wsjIqKIPjZAPgoI8IYRoMbrxSgghWoyCPCGEaDEK8oQQosUoyBNCiBajIE8IIVqMgjwhhGix/w9fa60QPNr0YQAAAABJRU5ErkJggg==",
      "text/plain": [
       "<Figure size 432x288 with 1 Axes>"
      ]
     },
     "metadata": {},
     "output_type": "display_data"
    }
   ],
   "source": [
    "# Lets also look at which genre grosses the most on average across all studios\n",
    "combined_100.groupby('genres').mean()['total_gross'].sort_values(ascending=False).plot.bar()"
   ]
  },
  {
   "cell_type": "markdown",
   "metadata": {},
   "source": [
    "Potential Recommendation: If the company values only total gross, they should look into making an adventure or action movie. If they care about following a well credited studio they should look into making Crime or Horror"
   ]
  },
  {
   "cell_type": "markdown",
   "metadata": {},
   "source": [
    "## T-test\n",
    "We want to know if animation movies gross more internationally or domestically. We chose animation because it is the genre that is the 2nd most occurring in highest rated movies and is appears in highly grossing films from our best studio. Our Null Hypothesis would be that the animation genre grosses the same internationally and domestically while our alternative hypothesis would be that animation movies gross more internationally than domestically. Based on the results of this test we can advise our client where to focus their marketing efforts "
   ]
  },
  {
   "cell_type": "code",
   "execution_count": 239,
   "metadata": {},
   "outputs": [],
   "source": [
    "# First, lets get the dataframe of only animation movies \n",
    "genre_to_grab = \"Animation\"\n",
    "\n",
    "ttest_df = combined[combined['genres'].str.contains(genre_to_grab)][['domestic_gross', 'foreign_gross']]\n"
   ]
  },
  {
   "cell_type": "code",
   "execution_count": 323,
   "metadata": {},
   "outputs": [
    {
     "data": {
      "text/plain": [
       "159"
      ]
     },
     "execution_count": 323,
     "metadata": {},
     "output_type": "execute_result"
    }
   ],
   "source": [
    "# Lets check to see if we have enough samples\n",
    "len(ttest_df)"
   ]
  },
  {
   "cell_type": "code",
   "execution_count": 328,
   "metadata": {},
   "outputs": [
    {
     "data": {
      "text/html": [
       "<div>\n",
       "<style scoped>\n",
       "    .dataframe tbody tr th:only-of-type {\n",
       "        vertical-align: middle;\n",
       "    }\n",
       "\n",
       "    .dataframe tbody tr th {\n",
       "        vertical-align: top;\n",
       "    }\n",
       "\n",
       "    .dataframe thead th {\n",
       "        text-align: right;\n",
       "    }\n",
       "</style>\n",
       "<table border=\"1\" class=\"dataframe\">\n",
       "  <thead>\n",
       "    <tr style=\"text-align: right;\">\n",
       "      <th></th>\n",
       "      <th>domestic_gross</th>\n",
       "      <th>foreign_gross</th>\n",
       "    </tr>\n",
       "  </thead>\n",
       "  <tbody>\n",
       "    <tr>\n",
       "      <th>count</th>\n",
       "      <td>159.000000</td>\n",
       "      <td>159.000000</td>\n",
       "    </tr>\n",
       "    <tr>\n",
       "      <th>mean</th>\n",
       "      <td>89.131074</td>\n",
       "      <td>164.672467</td>\n",
       "    </tr>\n",
       "    <tr>\n",
       "      <th>std</th>\n",
       "      <td>111.552661</td>\n",
       "      <td>199.679024</td>\n",
       "    </tr>\n",
       "    <tr>\n",
       "      <th>min</th>\n",
       "      <td>0.000600</td>\n",
       "      <td>0.000979</td>\n",
       "    </tr>\n",
       "    <tr>\n",
       "      <th>25%</th>\n",
       "      <td>0.889000</td>\n",
       "      <td>9.781427</td>\n",
       "    </tr>\n",
       "    <tr>\n",
       "      <th>50%</th>\n",
       "      <td>48.000000</td>\n",
       "      <td>75.900000</td>\n",
       "    </tr>\n",
       "    <tr>\n",
       "      <th>75%</th>\n",
       "      <td>145.950000</td>\n",
       "      <td>276.900000</td>\n",
       "    </tr>\n",
       "    <tr>\n",
       "      <th>max</th>\n",
       "      <td>608.600000</td>\n",
       "      <td>875.700000</td>\n",
       "    </tr>\n",
       "  </tbody>\n",
       "</table>\n",
       "</div>"
      ],
      "text/plain": [
       "       domestic_gross  foreign_gross\n",
       "count      159.000000     159.000000\n",
       "mean        89.131074     164.672467\n",
       "std        111.552661     199.679024\n",
       "min          0.000600       0.000979\n",
       "25%          0.889000       9.781427\n",
       "50%         48.000000      75.900000\n",
       "75%        145.950000     276.900000\n",
       "max        608.600000     875.700000"
      ]
     },
     "execution_count": 328,
     "metadata": {},
     "output_type": "execute_result"
    }
   ],
   "source": [
    "# Lets look at the statistics to give us a basis for our intution\n",
    "ttest_df.describe()"
   ]
  },
  {
   "cell_type": "code",
   "execution_count": 326,
   "metadata": {},
   "outputs": [],
   "source": [
    "# Lets sample from our data\n",
    "domestic_sample = ttest_df['domestic_gross'].sample(100)\n",
    "foreign_sample = ttest_df['foreign_gross'].sample(100)"
   ]
  },
  {
   "cell_type": "code",
   "execution_count": 331,
   "metadata": {},
   "outputs": [
    {
     "name": "stdout",
     "output_type": "stream",
     "text": [
      "Reject null hypothesis\n"
     ]
    }
   ],
   "source": [
    "# Lets perform a one tailed two sample t test\n",
    "import scipy.stats as stats\n",
    "alpha = .05\n",
    "tstat, pvalue = stats.ttest_ind(domestic_sample, foreign_sample, equal_var=False)\n",
    "\n",
    "answer = 'Reject null hypothesis' if pvalue < alpha else 'Fail to reject null hypothesis'\n",
    "print(answer)"
   ]
  },
  {
   "cell_type": "markdown",
   "metadata": {},
   "source": [
    "After performing the hypothesis test, we can conclude that there is a significant difference between the mean of foreign and domestic gross in favor of foreign. Thus we can focus our marketing efforts there "
   ]
  },
  {
   "cell_type": "markdown",
   "metadata": {},
   "source": [
    "# Luis Estrada "
   ]
  },
  {
   "cell_type": "code",
   "execution_count": null,
   "metadata": {},
   "outputs": [],
   "source": []
  },
  {
   "cell_type": "markdown",
   "metadata": {},
   "source": [
    "# Kilmar Lazo "
   ]
  },
  {
   "cell_type": "code",
   "execution_count": null,
   "metadata": {},
   "outputs": [],
   "source": []
  },
  {
   "cell_type": "markdown",
   "metadata": {},
   "source": [
    "# Michael Eugene"
   ]
  },
  {
   "cell_type": "code",
   "execution_count": 80,
   "metadata": {
    "ExecuteTime": {
     "end_time": "2022-08-17T18:53:16.370141Z",
     "start_time": "2022-08-17T18:53:16.104320Z"
    }
   },
   "outputs": [],
   "source": [
    "import pandas as pd\n",
    "import sqlite3\n",
    "import matplotlib.pyplot as plt\n",
    "%matplotlib inline\n",
    "import seaborn as sns\n",
    "import numpy as np\n",
    "\n",
    "movie_gross_df = pd.read_csv('zippedData/bom.movie_gross.csv.gz')\n",
    "                              \n",
    "movie_info_df = pd.read_csv('zippedData/rt.movie_info.tsv.gz', delimiter= '\\t')\n",
    "                            \n",
    "reviews_df = pd.read_csv('zippedData/rt.reviews.tsv.gz', delimiter='\\t', encoding = 'latin')\n",
    "\n",
    "movies_df = pd.read_csv('zippedData/tmdb.movies.csv.gz')\n",
    "                            \n",
    "movie_budgets_df = pd.read_csv(\"zippedData/tn.movie_budgets.csv.gz\",index_col=0)\n",
    "\n",
    "conn = sqlite3.connect('zippedData/im.db')"
   ]
  },
  {
   "cell_type": "code",
   "execution_count": 81,
   "metadata": {
    "ExecuteTime": {
     "end_time": "2022-08-17T18:53:20.154551Z",
     "start_time": "2022-08-17T18:53:20.140306Z"
    }
   },
   "outputs": [],
   "source": [
    "df = movie_budgets_df"
   ]
  },
  {
   "cell_type": "code",
   "execution_count": 82,
   "metadata": {
    "ExecuteTime": {
     "end_time": "2022-08-17T18:53:20.884312Z",
     "start_time": "2022-08-17T18:53:20.875310Z"
    }
   },
   "outputs": [
    {
     "name": "stdout",
     "output_type": "stream",
     "text": [
      "<class 'pandas.core.frame.DataFrame'>\n",
      "Int64Index: 5782 entries, 1 to 82\n",
      "Data columns (total 5 columns):\n",
      " #   Column             Non-Null Count  Dtype \n",
      "---  ------             --------------  ----- \n",
      " 0   release_date       5782 non-null   object\n",
      " 1   movie              5782 non-null   object\n",
      " 2   production_budget  5782 non-null   object\n",
      " 3   domestic_gross     5782 non-null   object\n",
      " 4   worldwide_gross    5782 non-null   object\n",
      "dtypes: object(5)\n",
      "memory usage: 271.0+ KB\n"
     ]
    }
   ],
   "source": [
    "movie_budgets_df.info()"
   ]
  },
  {
   "cell_type": "markdown",
   "metadata": {},
   "source": [
    "## Data Cleaning"
   ]
  },
  {
   "cell_type": "markdown",
   "metadata": {},
   "source": [
    "removing the commas and dollar signs from the columns so that it would easier to do calculations."
   ]
  },
  {
   "cell_type": "code",
   "execution_count": 83,
   "metadata": {
    "ExecuteTime": {
     "end_time": "2022-08-17T18:54:40.865172Z",
     "start_time": "2022-08-17T18:54:40.834583Z"
    }
   },
   "outputs": [],
   "source": []
  }
 ],
 "metadata": {
  "kernelspec": {
   "display_name": "Python 3.8.5 ('PythonCPU')",
   "language": "python",
   "name": "python3"
  },
  {
   "cell_type": "code",
   "execution_count": 84,
   "metadata": {
    "ExecuteTime": {
     "end_time": "2022-08-17T18:54:42.092467Z",
     "start_time": "2022-08-17T18:54:42.075456Z"
    }
   },
   "outputs": [],
   "source": [
    "df['domestic_gross'] = df['domestic_gross'].replace(',', '')\n",
    "df['domestic_gross'] = df['domestic_gross'].replace('$', '')\n"
   ]
  },
  {
   "cell_type": "code",
   "execution_count": 85,
   "metadata": {
    "ExecuteTime": {
     "end_time": "2022-08-17T18:54:49.218563Z",
     "start_time": "2022-08-17T18:54:49.207556Z"
    }
   },
   "outputs": [],
   "source": [
    "df['production_budget'] = df['production_budget'].str.replace(',', '')\n",
    "df['production_budget'] = df['production_budget'].str.replace('$', '')\n"
   ]
  },
  {
   "cell_type": "code",
   "execution_count": 86,
   "metadata": {
    "ExecuteTime": {
     "end_time": "2022-08-17T18:54:50.025692Z",
     "start_time": "2022-08-17T18:54:50.017577Z"
    }
   },
   "outputs": [],
   "source": [
    "df = df.apply(lambda x: x.replace('$',''))\n",
    "df['production_budget'] = df['production_budget'].fillna(0.0).replace('[$,]', '').astype('float')"
   ]
  },
  {
   "cell_type": "code",
   "execution_count": 89,
   "metadata": {
    "ExecuteTime": {
     "end_time": "2022-08-17T18:54:55.132252Z",
     "start_time": "2022-08-17T18:54:55.123610Z"
    }
   },
   "outputs": [],
   "source": [
    "df = df.apply(lambda x: x.replace('$',''))\n",
    "df['worldwide_gross'] = df['worldwide_gross'].fillna(0.0).replace('[$,]', '').astype('float')"
   ]
  },
  {
   "cell_type": "code",
   "execution_count": 88,
   "metadata": {
    "ExecuteTime": {
     "end_time": "2022-08-17T18:54:53.354220Z",
     "start_time": "2022-08-17T18:54:53.334627Z"
    }
   },
   "outputs": [],
   "source": [
    "df['worldwide_gross'] = df['worldwide_gross'].str.replace(',', '')\n",
    "df['worldwide_gross'] = df['worldwide_gross'].str.replace('$', '')\n"
   ]
  },
  {
   "cell_type": "markdown",
   "metadata": {},
   "source": [
    "## Data exploration "
   ]
  },
  {
   "cell_type": "markdown",
   "metadata": {},
   "source": [
    "Taking a look at the top 15 movies with the highest production budget"
   ]
  },
  {
   "cell_type": "code",
   "execution_count": 90,
   "metadata": {
    "ExecuteTime": {
     "end_time": "2022-08-17T18:55:31.716928Z",
     "start_time": "2022-08-17T18:55:31.702912Z"
    }
   },
   "outputs": [
    {
     "data": {
      "text/html": [
       "<div>\n",
       "<style scoped>\n",
       "    .dataframe tbody tr th:only-of-type {\n",
       "        vertical-align: middle;\n",
       "    }\n",
       "\n",
       "    .dataframe tbody tr th {\n",
       "        vertical-align: top;\n",
       "    }\n",
       "\n",
       "    .dataframe thead th {\n",
       "        text-align: right;\n",
       "    }\n",
       "</style>\n",
       "<table border=\"1\" class=\"dataframe\">\n",
       "  <thead>\n",
       "    <tr style=\"text-align: right;\">\n",
       "      <th></th>\n",
       "      <th>release_date</th>\n",
       "      <th>movie</th>\n",
       "      <th>production_budget</th>\n",
       "      <th>domestic_gross</th>\n",
       "      <th>worldwide_gross</th>\n",
       "    </tr>\n",
       "    <tr>\n",
       "      <th>id</th>\n",
       "      <th></th>\n",
       "      <th></th>\n",
       "      <th></th>\n",
       "      <th></th>\n",
       "      <th></th>\n",
       "    </tr>\n",
       "  </thead>\n",
       "  <tbody>\n",
       "    <tr>\n",
       "      <th>1</th>\n",
       "      <td>Dec 18 2009</td>\n",
       "      <td>Avatar</td>\n",
       "      <td>425000000.0</td>\n",
       "      <td>760507625.0</td>\n",
       "      <td>2.776345e+09</td>\n",
       "    </tr>\n",
       "    <tr>\n",
       "      <th>2</th>\n",
       "      <td>May 20 2011</td>\n",
       "      <td>Pirates of the Caribbean: On Stranger Tides</td>\n",
       "      <td>410600000.0</td>\n",
       "      <td>241063875.0</td>\n",
       "      <td>1.045664e+09</td>\n",
       "    </tr>\n",
       "    <tr>\n",
       "      <th>3</th>\n",
       "      <td>Jun 7 2019</td>\n",
       "      <td>Dark Phoenix</td>\n",
       "      <td>350000000.0</td>\n",
       "      <td>42762350.0</td>\n",
       "      <td>1.497624e+08</td>\n",
       "    </tr>\n",
       "    <tr>\n",
       "      <th>4</th>\n",
       "      <td>May 1 2015</td>\n",
       "      <td>Avengers: Age of Ultron</td>\n",
       "      <td>330600000.0</td>\n",
       "      <td>459005868.0</td>\n",
       "      <td>1.403014e+09</td>\n",
       "    </tr>\n",
       "    <tr>\n",
       "      <th>5</th>\n",
       "      <td>Dec 15 2017</td>\n",
       "      <td>Star Wars Ep. VIII: The Last Jedi</td>\n",
       "      <td>317000000.0</td>\n",
       "      <td>620181382.0</td>\n",
       "      <td>1.316722e+09</td>\n",
       "    </tr>\n",
       "  </tbody>\n",
       "</table>\n",
       "</div>"
      ],
      "text/plain": [
       "   release_date                                        movie  \\\n",
       "id                                                             \n",
       "1   Dec 18 2009                                       Avatar   \n",
       "2   May 20 2011  Pirates of the Caribbean: On Stranger Tides   \n",
       "3    Jun 7 2019                                 Dark Phoenix   \n",
       "4    May 1 2015                      Avengers: Age of Ultron   \n",
       "5   Dec 15 2017            Star Wars Ep. VIII: The Last Jedi   \n",
       "\n",
       "    production_budget  domestic_gross  worldwide_gross  \n",
       "id                                                      \n",
       "1         425000000.0     760507625.0     2.776345e+09  \n",
       "2         410600000.0     241063875.0     1.045664e+09  \n",
       "3         350000000.0      42762350.0     1.497624e+08  \n",
       "4         330600000.0     459005868.0     1.403014e+09  \n",
       "5         317000000.0     620181382.0     1.316722e+09  "
      ]
     },
     "execution_count": 90,
     "metadata": {},
     "output_type": "execute_result"
    }
   ],
   "source": [
    "sorted_df=df.sort_values(by ='production_budget', ascending = False)\n",
    "sorted_df.head()"
   ]
  },
  {
   "cell_type": "code",
   "execution_count": 91,
   "metadata": {
    "ExecuteTime": {
     "end_time": "2022-08-17T18:55:37.530635Z",
     "start_time": "2022-08-17T18:55:37.519367Z"
    }
   },
   "outputs": [],
   "source": [
    "my_fn =lambda x:float(x.replace(',',''))"
   ]
  },
  {
   "cell_type": "markdown",
   "metadata": {},
   "source": [
    "Looking at the movies with the highest domestic_ gross"
   ]
  },
  {
   "cell_type": "code",
   "execution_count": 92,
   "metadata": {
    "ExecuteTime": {
     "end_time": "2022-08-17T18:55:51.633828Z",
     "start_time": "2022-08-17T18:55:51.620826Z"
    }
   },
   "outputs": [
    {
     "data": {
      "text/html": [
       "<div>\n",
       "<style scoped>\n",
       "    .dataframe tbody tr th:only-of-type {\n",
       "        vertical-align: middle;\n",
       "    }\n",
       "\n",
       "    .dataframe tbody tr th {\n",
       "        vertical-align: top;\n",
       "    }\n",
       "\n",
       "    .dataframe thead th {\n",
       "        text-align: right;\n",
       "    }\n",
       "</style>\n",
       "<table border=\"1\" class=\"dataframe\">\n",
       "  <thead>\n",
       "    <tr style=\"text-align: right;\">\n",
       "      <th></th>\n",
       "      <th>release_date</th>\n",
       "      <th>movie</th>\n",
       "      <th>production_budget</th>\n",
       "      <th>domestic_gross</th>\n",
       "      <th>worldwide_gross</th>\n",
       "    </tr>\n",
       "    <tr>\n",
       "      <th>id</th>\n",
       "      <th></th>\n",
       "      <th></th>\n",
       "      <th></th>\n",
       "      <th></th>\n",
       "      <th></th>\n",
       "    </tr>\n",
       "  </thead>\n",
       "  <tbody>\n",
       "    <tr>\n",
       "      <th>6</th>\n",
       "      <td>Dec 18 2015</td>\n",
       "      <td>Star Wars Ep. VII: The Force Awakens</td>\n",
       "      <td>306000000.0</td>\n",
       "      <td>936662225.0</td>\n",
       "      <td>2.053311e+09</td>\n",
       "    </tr>\n",
       "    <tr>\n",
       "      <th>1</th>\n",
       "      <td>Dec 18 2009</td>\n",
       "      <td>Avatar</td>\n",
       "      <td>425000000.0</td>\n",
       "      <td>760507625.0</td>\n",
       "      <td>2.776345e+09</td>\n",
       "    </tr>\n",
       "    <tr>\n",
       "      <th>42</th>\n",
       "      <td>Feb 16 2018</td>\n",
       "      <td>Black Panther</td>\n",
       "      <td>200000000.0</td>\n",
       "      <td>700059566.0</td>\n",
       "      <td>1.348258e+09</td>\n",
       "    </tr>\n",
       "    <tr>\n",
       "      <th>7</th>\n",
       "      <td>Apr 27 2018</td>\n",
       "      <td>Avengers: Infinity War</td>\n",
       "      <td>300000000.0</td>\n",
       "      <td>678815482.0</td>\n",
       "      <td>2.048134e+09</td>\n",
       "    </tr>\n",
       "    <tr>\n",
       "      <th>43</th>\n",
       "      <td>Dec 19 1997</td>\n",
       "      <td>Titanic</td>\n",
       "      <td>200000000.0</td>\n",
       "      <td>659363944.0</td>\n",
       "      <td>2.208208e+09</td>\n",
       "    </tr>\n",
       "  </tbody>\n",
       "</table>\n",
       "</div>"
      ],
      "text/plain": [
       "   release_date                                 movie  production_budget  \\\n",
       "id                                                                         \n",
       "6   Dec 18 2015  Star Wars Ep. VII: The Force Awakens        306000000.0   \n",
       "1   Dec 18 2009                                Avatar        425000000.0   \n",
       "42  Feb 16 2018                         Black Panther        200000000.0   \n",
       "7   Apr 27 2018                Avengers: Infinity War        300000000.0   \n",
       "43  Dec 19 1997                               Titanic        200000000.0   \n",
       "\n",
       "    domestic_gross  worldwide_gross  \n",
       "id                                   \n",
       "6      936662225.0     2.053311e+09  \n",
       "1      760507625.0     2.776345e+09  \n",
       "42     700059566.0     1.348258e+09  \n",
       "7      678815482.0     2.048134e+09  \n",
       "43     659363944.0     2.208208e+09  "
      ]
     },
     "execution_count": 92,
     "metadata": {},
     "output_type": "execute_result"
    }
   ],
   "source": [
    "sorted_df=df.sort_values(by ='domestic_gross', ascending = False)\n",
    "sorted_df.head()"
   ]
  },
  {
   "cell_type": "markdown",
   "metadata": {},
   "source": [
    "Looking the movies with highest worldwide_gross"
   ]
  },
  {
   "cell_type": "code",
   "execution_count": 93,
   "metadata": {
    "ExecuteTime": {
     "end_time": "2022-08-17T18:56:01.977342Z",
     "start_time": "2022-08-17T18:56:01.954337Z"
    }
   },
   "outputs": [
    {
     "data": {
      "text/html": [
       "<div>\n",
       "<style scoped>\n",
       "    .dataframe tbody tr th:only-of-type {\n",
       "        vertical-align: middle;\n",
       "    }\n",
       "\n",
       "    .dataframe tbody tr th {\n",
       "        vertical-align: top;\n",
       "    }\n",
       "\n",
       "    .dataframe thead th {\n",
       "        text-align: right;\n",
       "    }\n",
       "</style>\n",
       "<table border=\"1\" class=\"dataframe\">\n",
       "  <thead>\n",
       "    <tr style=\"text-align: right;\">\n",
       "      <th></th>\n",
       "      <th>release_date</th>\n",
       "      <th>movie</th>\n",
       "      <th>production_budget</th>\n",
       "      <th>domestic_gross</th>\n",
       "      <th>worldwide_gross</th>\n",
       "    </tr>\n",
       "    <tr>\n",
       "      <th>id</th>\n",
       "      <th></th>\n",
       "      <th></th>\n",
       "      <th></th>\n",
       "      <th></th>\n",
       "      <th></th>\n",
       "    </tr>\n",
       "  </thead>\n",
       "  <tbody>\n",
       "    <tr>\n",
       "      <th>1</th>\n",
       "      <td>Dec 18 2009</td>\n",
       "      <td>Avatar</td>\n",
       "      <td>425000000.0</td>\n",
       "      <td>760507625.0</td>\n",
       "      <td>2.776345e+09</td>\n",
       "    </tr>\n",
       "    <tr>\n",
       "      <th>43</th>\n",
       "      <td>Dec 19 1997</td>\n",
       "      <td>Titanic</td>\n",
       "      <td>200000000.0</td>\n",
       "      <td>659363944.0</td>\n",
       "      <td>2.208208e+09</td>\n",
       "    </tr>\n",
       "    <tr>\n",
       "      <th>6</th>\n",
       "      <td>Dec 18 2015</td>\n",
       "      <td>Star Wars Ep. VII: The Force Awakens</td>\n",
       "      <td>306000000.0</td>\n",
       "      <td>936662225.0</td>\n",
       "      <td>2.053311e+09</td>\n",
       "    </tr>\n",
       "    <tr>\n",
       "      <th>7</th>\n",
       "      <td>Apr 27 2018</td>\n",
       "      <td>Avengers: Infinity War</td>\n",
       "      <td>300000000.0</td>\n",
       "      <td>678815482.0</td>\n",
       "      <td>2.048134e+09</td>\n",
       "    </tr>\n",
       "    <tr>\n",
       "      <th>34</th>\n",
       "      <td>Jun 12 2015</td>\n",
       "      <td>Jurassic World</td>\n",
       "      <td>215000000.0</td>\n",
       "      <td>652270625.0</td>\n",
       "      <td>1.648855e+09</td>\n",
       "    </tr>\n",
       "  </tbody>\n",
       "</table>\n",
       "</div>"
      ],
      "text/plain": [
       "   release_date                                 movie  production_budget  \\\n",
       "id                                                                         \n",
       "1   Dec 18 2009                                Avatar        425000000.0   \n",
       "43  Dec 19 1997                               Titanic        200000000.0   \n",
       "6   Dec 18 2015  Star Wars Ep. VII: The Force Awakens        306000000.0   \n",
       "7   Apr 27 2018                Avengers: Infinity War        300000000.0   \n",
       "34  Jun 12 2015                        Jurassic World        215000000.0   \n",
       "\n",
       "    domestic_gross  worldwide_gross  \n",
       "id                                   \n",
       "1      760507625.0     2.776345e+09  \n",
       "43     659363944.0     2.208208e+09  \n",
       "6      936662225.0     2.053311e+09  \n",
       "7      678815482.0     2.048134e+09  \n",
       "34     652270625.0     1.648855e+09  "
      ]
     },
     "execution_count": 93,
     "metadata": {},
     "output_type": "execute_result"
    }
   ],
   "source": [
    "sorted_df=df.sort_values(by ='worldwide_gross', ascending = False)\n",
    "sorted_df.head()"
   ]
  },
  {
   "cell_type": "code",
   "execution_count": 94,
   "metadata": {
    "ExecuteTime": {
     "end_time": "2022-08-17T18:56:15.836491Z",
     "start_time": "2022-08-17T18:56:15.801331Z"
    }
   },
   "outputs": [
    {
     "data": {
      "text/plain": [
       "production_budget    3.158776e+07\n",
       "domestic_gross       4.187333e+07\n",
       "worldwide_gross      9.148746e+07\n",
       "dtype: float64"
      ]
     },
     "execution_count": 94,
     "metadata": {},
     "output_type": "execute_result"
    }
   ],
   "source": [
    "sorted_df=df.sort_values(by ='worldwide_gross', ascending = False).mean()\n",
    "sorted_df.head(10)"
   ]
  },
  {
   "cell_type": "code",
   "execution_count": 95,
   "metadata": {
    "ExecuteTime": {
     "end_time": "2022-08-17T18:56:16.826811Z",
     "start_time": "2022-08-17T18:56:16.808803Z"
    }
   },
   "outputs": [],
   "source": [
    "my_fn =lambda x:float(x)\n"
   ]
  },
  {
   "cell_type": "markdown",
   "metadata": {},
   "source": [
    "Ordering movies by the year "
   ]
  },
  {
   "cell_type": "code",
   "execution_count": 96,
   "metadata": {
    "ExecuteTime": {
     "end_time": "2022-08-17T18:56:22.407516Z",
     "start_time": "2022-08-17T18:56:21.999929Z"
    }
   },
   "outputs": [
    {
     "data": {
      "text/html": [
       "<div>\n",
       "<style scoped>\n",
       "    .dataframe tbody tr th:only-of-type {\n",
       "        vertical-align: middle;\n",
       "    }\n",
       "\n",
       "    .dataframe tbody tr th {\n",
       "        vertical-align: top;\n",
       "    }\n",
       "\n",
       "    .dataframe thead th {\n",
       "        text-align: right;\n",
       "    }\n",
       "</style>\n",
       "<table border=\"1\" class=\"dataframe\">\n",
       "  <thead>\n",
       "    <tr style=\"text-align: right;\">\n",
       "      <th></th>\n",
       "      <th>release_date</th>\n",
       "      <th>movie</th>\n",
       "      <th>production_budget</th>\n",
       "      <th>domestic_gross</th>\n",
       "      <th>worldwide_gross</th>\n",
       "    </tr>\n",
       "    <tr>\n",
       "      <th>id</th>\n",
       "      <th></th>\n",
       "      <th></th>\n",
       "      <th></th>\n",
       "      <th></th>\n",
       "      <th></th>\n",
       "    </tr>\n",
       "  </thead>\n",
       "  <tbody>\n",
       "    <tr>\n",
       "      <th>1</th>\n",
       "      <td>2009</td>\n",
       "      <td>Avatar</td>\n",
       "      <td>425000000.0</td>\n",
       "      <td>760507625.0</td>\n",
       "      <td>2.776345e+09</td>\n",
       "    </tr>\n",
       "    <tr>\n",
       "      <th>2</th>\n",
       "      <td>2011</td>\n",
       "      <td>Pirates of the Caribbean: On Stranger Tides</td>\n",
       "      <td>410600000.0</td>\n",
       "      <td>241063875.0</td>\n",
       "      <td>1.045664e+09</td>\n",
       "    </tr>\n",
       "    <tr>\n",
       "      <th>3</th>\n",
       "      <td>2019</td>\n",
       "      <td>Dark Phoenix</td>\n",
       "      <td>350000000.0</td>\n",
       "      <td>42762350.0</td>\n",
       "      <td>1.497624e+08</td>\n",
       "    </tr>\n",
       "    <tr>\n",
       "      <th>4</th>\n",
       "      <td>2015</td>\n",
       "      <td>Avengers: Age of Ultron</td>\n",
       "      <td>330600000.0</td>\n",
       "      <td>459005868.0</td>\n",
       "      <td>1.403014e+09</td>\n",
       "    </tr>\n",
       "    <tr>\n",
       "      <th>5</th>\n",
       "      <td>2017</td>\n",
       "      <td>Star Wars Ep. VIII: The Last Jedi</td>\n",
       "      <td>317000000.0</td>\n",
       "      <td>620181382.0</td>\n",
       "      <td>1.316722e+09</td>\n",
       "    </tr>\n",
       "  </tbody>\n",
       "</table>\n",
       "</div>"
      ],
      "text/plain": [
       "    release_date                                        movie  \\\n",
       "id                                                              \n",
       "1           2009                                       Avatar   \n",
       "2           2011  Pirates of the Caribbean: On Stranger Tides   \n",
       "3           2019                                 Dark Phoenix   \n",
       "4           2015                      Avengers: Age of Ultron   \n",
       "5           2017            Star Wars Ep. VIII: The Last Jedi   \n",
       "\n",
       "    production_budget  domestic_gross  worldwide_gross  \n",
       "id                                                      \n",
       "1         425000000.0     760507625.0     2.776345e+09  \n",
       "2         410600000.0     241063875.0     1.045664e+09  \n",
       "3         350000000.0      42762350.0     1.497624e+08  \n",
       "4         330600000.0     459005868.0     1.403014e+09  \n",
       "5         317000000.0     620181382.0     1.316722e+09  "
      ]
     },
     "execution_count": 96,
     "metadata": {},
     "output_type": "execute_result"
    }
   ],
   "source": [
    "df['release_date'] = pd.to_datetime(df['release_date']).dt.year\n",
    "df.head()"
   ]
  },
  {
   "cell_type": "code",
   "execution_count": 97,
   "metadata": {
    "ExecuteTime": {
     "end_time": "2022-08-17T18:56:30.890456Z",
     "start_time": "2022-08-17T18:56:30.873962Z"
    }
   },
   "outputs": [
    {
     "data": {
      "text/html": [
       "<div>\n",
       "<style scoped>\n",
       "    .dataframe tbody tr th:only-of-type {\n",
       "        vertical-align: middle;\n",
       "    }\n",
       "\n",
       "    .dataframe tbody tr th {\n",
       "        vertical-align: top;\n",
       "    }\n",
       "\n",
       "    .dataframe thead th {\n",
       "        text-align: right;\n",
       "    }\n",
       "</style>\n",
       "<table border=\"1\" class=\"dataframe\">\n",
       "  <thead>\n",
       "    <tr style=\"text-align: right;\">\n",
       "      <th></th>\n",
       "      <th>release_date</th>\n",
       "      <th>movie</th>\n",
       "      <th>production_budget</th>\n",
       "      <th>domestic_gross</th>\n",
       "      <th>worldwide_gross</th>\n",
       "    </tr>\n",
       "    <tr>\n",
       "      <th>id</th>\n",
       "      <th></th>\n",
       "      <th></th>\n",
       "      <th></th>\n",
       "      <th></th>\n",
       "      <th></th>\n",
       "    </tr>\n",
       "  </thead>\n",
       "  <tbody>\n",
       "    <tr>\n",
       "      <th>95</th>\n",
       "      <td>2020</td>\n",
       "      <td>Moonfall</td>\n",
       "      <td>150000000.0</td>\n",
       "      <td>0.0</td>\n",
       "      <td>0.0</td>\n",
       "    </tr>\n",
       "    <tr>\n",
       "      <th>36</th>\n",
       "      <td>2020</td>\n",
       "      <td>Call of the Wild</td>\n",
       "      <td>82000000.0</td>\n",
       "      <td>0.0</td>\n",
       "      <td>0.0</td>\n",
       "    </tr>\n",
       "    <tr>\n",
       "      <th>6</th>\n",
       "      <td>2020</td>\n",
       "      <td>Hannibal the Conqueror</td>\n",
       "      <td>50000000.0</td>\n",
       "      <td>0.0</td>\n",
       "      <td>0.0</td>\n",
       "    </tr>\n",
       "    <tr>\n",
       "      <th>30</th>\n",
       "      <td>2019</td>\n",
       "      <td>Unhinged</td>\n",
       "      <td>29000000.0</td>\n",
       "      <td>0.0</td>\n",
       "      <td>0.0</td>\n",
       "    </tr>\n",
       "    <tr>\n",
       "      <th>71</th>\n",
       "      <td>2019</td>\n",
       "      <td>PLAYMOBIL</td>\n",
       "      <td>75000000.0</td>\n",
       "      <td>0.0</td>\n",
       "      <td>0.0</td>\n",
       "    </tr>\n",
       "  </tbody>\n",
       "</table>\n",
       "</div>"
      ],
      "text/plain": [
       "    release_date                   movie  production_budget  domestic_gross  \\\n",
       "id                                                                            \n",
       "95          2020                Moonfall        150000000.0             0.0   \n",
       "36          2020        Call of the Wild         82000000.0             0.0   \n",
       "6           2020  Hannibal the Conqueror         50000000.0             0.0   \n",
       "30          2019                Unhinged         29000000.0             0.0   \n",
       "71          2019               PLAYMOBIL         75000000.0             0.0   \n",
       "\n",
       "    worldwide_gross  \n",
       "id                   \n",
       "95              0.0  \n",
       "36              0.0  \n",
       "6               0.0  \n",
       "30              0.0  \n",
       "71              0.0  "
      ]
     },
     "execution_count": 97,
     "metadata": {},
     "output_type": "execute_result"
    }
   ],
   "source": [
    "sorted_df=df.sort_values(by ='release_date', ascending = False)\n",
    "sorted_df.head()"
   ]
  },
  {
   "cell_type": "markdown",
   "metadata": {},
   "source": [
    "Mean of the top 300 grossing movies worldwide"
   ]
  },
  {
   "cell_type": "code",
   "execution_count": 98,
   "metadata": {
    "ExecuteTime": {
     "end_time": "2022-08-17T18:58:09.388881Z",
     "start_time": "2022-08-17T18:58:09.377498Z"
    }
   },
   "outputs": [
    {
     "data": {
      "text/plain": [
       "685175373.19"
      ]
     },
     "execution_count": 98,
     "metadata": {},
     "output_type": "execute_result"
    }
   ],
   "source": [
    "sorted_df.sort_values(by = 'worldwide_gross', ascending=False)['worldwide_gross'][:300].mean()"
   ]
  },
  {
   "cell_type": "markdown",
   "metadata": {},
   "source": [
    "Mean of the top 300 grossing movies production budget."
   ]
  },
  {
   "cell_type": "code",
   "execution_count": 74,
   "metadata": {
    "ExecuteTime": {
     "end_time": "2022-08-17T18:24:13.491943Z",
     "start_time": "2022-08-17T18:24:13.482940Z"
    }
   },
   "outputs": [
    {
     "data": {
      "text/plain": [
       "134329408.73"
      ]
     },
     "execution_count": 74,
     "metadata": {},
     "output_type": "execute_result"
    }
   ],
   "source": [
    "sorted_df.sort_values(by = 'worldwide_gross', ascending=False)['production_budget'][:300].mean()"
   ]
  },
  {
   "cell_type": "markdown",
   "metadata": {},
   "source": [
    "## Visualization "
   ]
  },
  {
   "cell_type": "code",
   "execution_count": 74,
   "metadata": {
    "ExecuteTime": {
     "end_time": "2022-08-16T20:54:25.499474Z",
     "start_time": "2022-08-16T20:54:25.378491Z"
    },
    "scrolled": true
   },
   "outputs": [
    {
     "data": {
      "image/png": "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\n",
      "text/plain": [
       "<Figure size 432x288 with 1 Axes>"
      ]
     },
     "metadata": {
      "needs_background": "light"
     },
     "output_type": "display_data"
    }
   ],
   "source": [
    "df.plot.scatter(x = 'production_budget', y = 'domestic_gross', s = 20);\n"
   ]
  },
  {
   "cell_type": "markdown",
   "metadata": {},
   "source": [
    "Looking at the correlation between budget and gross"
   ]
  },
  {
   "cell_type": "code",
   "execution_count": 99,
   "metadata": {
    "ExecuteTime": {
     "end_time": "2022-08-17T19:02:08.977781Z",
     "start_time": "2022-08-17T19:02:08.959938Z"
    }
   },
   "outputs": [
    {
     "data": {
      "text/plain": [
       "0.7483059765694757"
      ]
     },
     "execution_count": 99,
     "metadata": {},
     "output_type": "execute_result"
    }
   ],
   "source": [
    "np.corrcoef(sorted_df['production_budget'], sorted_df['worldwide_gross'])[0][1]"
   ]
  },
  {
   "cell_type": "markdown",
   "metadata": {},
   "source": [
    "Top 30 years that producted the most movies."
   ]
  },
  {
   "cell_type": "code",
   "execution_count": 100,
   "metadata": {
    "ExecuteTime": {
     "end_time": "2022-08-17T19:02:13.018065Z",
     "start_time": "2022-08-17T19:02:12.741727Z"
    }
   },
   "outputs": [
    {
     "data": {
      "text/plain": [
       "<AxesSubplot:>"
      ]
     },
     "execution_count": 100,
     "metadata": {},
     "output_type": "execute_result"
    },
    {
     "data": {
      "image/png": "iVBORw0KGgoAAAANSUhEUgAAAXcAAAEJCAYAAABv6GdPAAAAOXRFWHRTb2Z0d2FyZQBNYXRwbG90bGliIHZlcnNpb24zLjMuMSwgaHR0cHM6Ly9tYXRwbG90bGliLm9yZy/d3fzzAAAACXBIWXMAAAsTAAALEwEAmpwYAAAX6ElEQVR4nO3dfbAddX3H8ffHJCKCFQIXjHnwUo3V4EjQO6kOdgRByWg1MBYNUzEqNnaE+sRMDdYqOo2NT4jago01NVo1BB9KqlSN8Wm0QggQHpIQSSWGS9LkiqDSB2rCt3/sD13P3XPP3nvuudn7u5/XzM7d8zvf/Z3vOXvy3c3ub/coIjAzs7w86nAnYGZm48/F3cwsQy7uZmYZcnE3M8uQi7uZWYZc3M3MMtSxuEt6jKTNkm6VtE3Se1L7ZZLulbQ1TS8uLXOppF2Sdko6u5dvwMzMhlOnce6SBBwVEQ9KmgH8AHgzsBh4MCI+1BK/APgCsAh4IvAt4KkRcajdaxx//PHR39/fzfswM5tybrrppp9FRF/Vc9M7LRxF9X8wPZyRppG2CEuAdRHxEHC3pF0Uhf5H7Rbo7+9ny5YtnVIxM7MSST9t91ytY+6SpknaChwANkbEDempiyXdJmmNpGNT22zgntLig6nNzMwmSK3iHhGHImIhMAdYJOkZwFXAk4GFwD7gwylcVV20NkhaLmmLpC1DQ0NjSN3MzNoZ1WiZiHgA+C6wOCL2p6L/MPBJikMvUOypzy0tNgfYW9HX6ogYiIiBvr7KQ0ZmZjZGdUbL9Ek6Js0fCZwF3ClpVinsXOCONL8BWCrpCEknAfOBzeOatZmZjajjCVVgFrBW0jSKjcH6iPiqpM9KWkhxyGU38AaAiNgmaT2wHTgIXDTSSBkzMxt/HYdCToSBgYHwaBkzs9GRdFNEDFQ95ytUzcwy5OJuZpahOsfcbRz1r/jasLbdq15yGDIxs5x5z93MLEMu7mZmGXJxNzPLkIu7mVmGXNzNzDLk4m5mliEXdzOzDLm4m5llyMXdzCxDLu5mZhlycTczy5CLu5lZhlzczcwy5OJuZpYhF3czswy5uJuZZcjF3cwsQy7uZmYZcnE3M8tQx+Iu6TGSNku6VdI2Se9J7TMlbZR0V/p7bGmZSyXtkrRT0tm9fANmZjZcnT33h4AXRMQpwEJgsaTnACuATRExH9iUHiNpAbAUOBlYDFwpaVoPcjczszY6FvcoPJgezkhTAEuAtal9LXBOml8CrIuIhyLibmAXsGg8kzYzs5HVOuYuaZqkrcABYGNE3ACcGBH7ANLfE1L4bOCe0uKDqa21z+WStkjaMjQ01MVbMDOzVrWKe0QcioiFwBxgkaRnjBCuqi4q+lwdEQMRMdDX11crWTMzq2dUo2Ui4gHguxTH0vdLmgWQ/h5IYYPA3NJic4C93SZqZmb11Rkt0yfpmDR/JHAWcCewAViWwpYB16b5DcBSSUdIOgmYD2we57zNzGwE02vEzALWphEvjwLWR8RXJf0IWC/pQmAPcB5ARGyTtB7YDhwELoqIQ71J38zMqnQs7hFxG3BqRft9wJltllkJrOw6OzMzGxNfoWpmliEXdzOzDLm4m5llyMXdzCxDLu5mZhlycTczy5CLu5lZhlzczcwy5OJuZpYhF3czswzVubeMWW39K742rG33qpcchkzMpjbvuZuZZcjF3cwsQy7uZmYZcnE3M8uQi7uZWYZc3M3MMuShkDYpVA2xBA+zNGvHe+5mZhnynrtNaf4fgeXKe+5mZhnqWNwlzZX0HUk7JG2T9ObUfpmkeyVtTdOLS8tcKmmXpJ2Szu7lGzAzs+HqHJY5CFwSETdLehxwk6SN6bmPRMSHysGSFgBLgZOBJwLfkvTUiDg0nolPBT5kYGZj1bG4R8Q+YF+a/5WkHcDsERZZAqyLiIeAuyXtAhYBPxqHfO0w8M3AzCafUR1zl9QPnArckJoulnSbpDWSjk1ts4F7SosNMvLGwMzMxlnt4i7paOBLwFsi4pfAVcCTgYUUe/YffiS0YvGo6G+5pC2StgwNDY02bzMzG0Gt4i5pBkVh/1xEfBkgIvZHxKGIeBj4JMWhFyj21OeWFp8D7G3tMyJWR8RARAz09fV18x7MzKxFndEyAj4F7IiIy0vts0ph5wJ3pPkNwFJJR0g6CZgPbB6/lM3MrJM6o2VOAy4Abpe0NbW9Azhf0kKKQy67gTcARMQ2SeuB7RQjbS7ySBkzs4lVZ7TMD6g+jn7dCMusBFZ2kZeZmXXBV6iamWXIxd3MLEO+cVgmJuPVrL44yqx3vOduZpYh77lPQZNxL9/MRsd77mZmGXJxNzPLkIu7mVmGXNzNzDLk4m5mliEXdzOzDLm4m5llyOPczUbBV9XaZOE9dzOzDHnPfRx4b65ZfAWumffczcyy5OJuZpYhF3czswy5uJuZZcjF3cwsQx4tYzbJeDSQ1eE9dzOzDHXcc5c0F/gM8ATgYWB1RHxU0kzgaqAf2A28IiLuT8tcClwIHALeFBHf6En2Zg3m6x/scKqz534QuCQing48B7hI0gJgBbApIuYDm9Jj0nNLgZOBxcCVkqb1InkzM6vWsbhHxL6IuDnN/wrYAcwGlgBrU9ha4Jw0vwRYFxEPRcTdwC5g0TjnbWZmIxjVCVVJ/cCpwA3AiRGxD4oNgKQTUths4PrSYoOpzcza8CEcG2+1T6hKOhr4EvCWiPjlSKEVbVHR33JJWyRtGRoaqpuGmZnVUKu4S5pBUdg/FxFfTs37Jc1Kz88CDqT2QWBuafE5wN7WPiNidUQMRMRAX1/fWPM3M7MKHYu7JAGfAnZExOWlpzYAy9L8MuDaUvtSSUdIOgmYD2wev5TNzKyTOsfcTwMuAG6XtDW1vQNYBayXdCGwBzgPICK2SVoPbKcYaXNRRBwa78TNzKy9jsU9In5A9XF0gDPbLLMSWNlFXmZm1gVfoWpmliEXdzOzDPnGYWYG+IZkufGeu5lZhlzczcwy5OJuZpYhH3M3y1ivjqP7+Hzzec/dzCxDLu5mZhlycTczy5CLu5lZhlzczcwy5OJuZpYhF3czswx5nHsb/k1LM5vMvOduZpYhF3czswy5uJuZZcjF3cwsQy7uZmYZcnE3M8uQi7uZWYY6FndJayQdkHRHqe0ySfdK2pqmF5eeu1TSLkk7JZ3dq8TNzKy9OnvunwYWV7R/JCIWpuk6AEkLgKXAyWmZKyVNG69kzcysno7FPSK+D/y8Zn9LgHUR8VBE3A3sAhZ1kZ+ZmY1BN7cfuFjSq4EtwCURcT8wG7i+FDOY2oaRtBxYDjBv3rwu0jCzpvPtPCbeWE+oXgU8GVgI7AM+nNpVERtVHUTE6ogYiIiBvr6+MaZhZmZVxlTcI2J/RByKiIeBT/LbQy+DwNxS6Bxgb3cpmpnZaI2puEuaVXp4LvDISJoNwFJJR0g6CZgPbO4uRTMzG62Ox9wlfQE4HThe0iDwbuB0SQspDrnsBt4AEBHbJK0HtgMHgYsi4lBPMjczs7Y6FveIOL+i+VMjxK8EVnaTVC9UndABn9Qxszz5ClUzswy5uJuZZcjF3cwsQy7uZmYZcnE3M8uQi7uZWYZc3M3MMuTibmaWIRd3M7MMubibmWXIxd3MLEMu7mZmGXJxNzPLkIu7mVmGXNzNzDLk4m5mliEXdzOzDLm4m5llyMXdzCxDLu5mZhlycTczy1DH4i5pjaQDku4otc2UtFHSXenvsaXnLpW0S9JOSWf3KnEzM2uvzp77p4HFLW0rgE0RMR/YlB4jaQGwFDg5LXOlpGnjlq2ZmdUyvVNARHxfUn9L8xLg9DS/Fvgu8PbUvi4iHgLulrQLWAT8aJzyNTP7jf4VX6ts373qJROcSfN0LO5tnBgR+wAiYp+kE1L7bOD6UtxgajMzq6WqYLtYj954n1BVRVtUBkrLJW2RtGVoaGic0zAzm9rGWtz3S5oFkP4eSO2DwNxS3Bxgb1UHEbE6IgYiYqCvr2+MaZiZWZWxFvcNwLI0vwy4ttS+VNIRkk4C5gObu0vRzMxGq+Mxd0lfoDh5erykQeDdwCpgvaQLgT3AeQARsU3SemA7cBC4KCIO9Sh3MzNro85omfPbPHVmm/iVwMpukjIzs+74ClUzswy5uJuZZcjF3cwsQy7uZmYZcnE3M8uQi7uZWYZc3M3MMuTibmaWIRd3M7MMubibmWVorPdzNzObVKbaD3t4z93MLEMu7mZmGXJxNzPLkIu7mVmGJvUJ1al2gsTMrC7vuZuZZcjF3cwsQy7uZmYZcnE3M8uQi7uZWYZc3M3MMtTVUEhJu4FfAYeAgxExIGkmcDXQD+wGXhER93eXppnZxMlhmPV47LmfERELI2IgPV4BbIqI+cCm9NjMzCZQLw7LLAHWpvm1wDk9eA0zMxtBt8U9gG9KuknS8tR2YkTsA0h/T+jyNczMbJS6vf3AaRGxV9IJwEZJd9ZdMG0MlgPMmzevyzTMzA6Pph6f72rPPSL2pr8HgK8Ai4D9kmYBpL8H2iy7OiIGImKgr6+vmzTMzKzFmIu7pKMkPe6ReeBFwB3ABmBZClsGXNttkmZmNjrdHJY5EfiKpEf6+XxEfF3SjcB6SRcCe4Dzuk/TzMxGY8zFPSJ+ApxS0X4fcGY3SZmZWXd8haqZWYYm9Y91mJnlrGokTt1RON5zNzPLkPfczcwmUDd746PhPXczswy5uJuZZcjF3cwsQy7uZmYZcnE3M8uQi7uZWYZc3M3MMuTibmaWIRd3M7MMubibmWXIxd3MLEMu7mZmGXJxNzPLkIu7mVmGXNzNzDLk4m5mliEXdzOzDLm4m5llqGfFXdJiSTsl7ZK0olevY2Zmw/XkN1QlTQP+HnghMAjcKGlDRGzvtGzV7wtCb35j0MwsV73ac18E7IqIn0TE/wHrgCU9ei0zM2uhiBj/TqU/ARZHxOvT4wuAP4yIi0sxy4Hl6eEfADsrujoe+FnNl21CbFPyaEJsU/KYbLFNyaMJsU3Jowmx7eKfFBF9ldERMe4TcB7wj6XHFwAfH0M/WyZTbFPyaEJsU/KYbLFNyaMJsU3JowmxY4nv1WGZQWBu6fEcYG+PXsvMzFr0qrjfCMyXdJKkRwNLgQ09ei0zM2vRk9EyEXFQ0sXAN4BpwJqI2DaGrlZPstim5NGE2KbkMdlim5JHE2KbkkcTYkcd35MTqmZmdnj5ClUzswy5uJuZZcjF3cwsQy7uZmYZalRxl3S2pKskbZB0bZpf3Cb2DEl/l+K+JGmVpKdUxM2U9C5Jr1fhryR9VdIHJR3bEnu5pNNq5nqupJlpvk/SZyTdLulqSXNaYo9vefwqSR+TtFySar7et9u0S9IrJJ2X5s9Mfb9R0rD1mz7jCyX1t7S/rk4eKfZdbfod13WXYif9+huvdZeWOezrzyaHxoyWkXQF8FTgMxQXQUFx8dOrgbsi4s2l2FXAicAm4BzgbuDHwBuB90XENaXY64Dbgd8Dnp7m11Pc1OyUiFhSih0Cfgr0AVcDX4iIW9rkuz0iFqT5q4HrgWuAs4A/jYgXlmJvjohnpfl3An8EfB74Y2AwIt7a0vdtrS+XPpudABHxzFLslcAJwKOBXwJHAP8KvBjY3/K5vQ94HnAz8FLgioj4eGuOnUjaExHzSo+voAfrLsVPqvXXq3WX4g/7+kvxZwAvp7hQ8SBwF8UV6bsqXmsmcDHFRYyfAt4BPBfYQbG+7y/FXg58KSJ+WOM9nAt8LyJ+LqkP+DBwKrAduCQiBkuxx0fEz0qPX0Vx/6s7gE9GhyIo6dsR8YKKdlFcjR/AF4EXUNxD607gExHxcMUyZ1N8tpsiYnep/XURsabT+06x74qI93YMHM3lrL2cgB+3aRfFF6zcdntpfjrwwzR/LHBHS+zWUj/3Vj1XenxL+jsf+GtgW1pR7wae2hK7szR/U51+0/zNwFFpfkb5vZRiNgD/DDwNeBLQD9yT5p9U9Vmkvu4DHl36XG5vjQWmp/ljgOuAj7TmmB7/ss30K+DgRKy7ybj+erXuGrT+VgH/BLyKoqB9EPgz4BbgvIo+rgPeD1wFfBf4OMXG8b3AtS2xQ8AWig30B4BTq/JKsdtL81cDb6Uomq8BNrbE3lyafyfF9TfLKDbmH2mJva1luh146JHHLbFXps/gkXV+DcUGcR3w0Yqc3wd8H7gC+A/gL6py7DQBe2rF1e2w11P68BZVtC+q+Ad0KzAzzc8Dri89t62i32NT3C+A/tR+XPkL0u4DBp4J/C3FXS7L7f+QvqBHUuw1nJPaz6DYoyjH3kmxV/Fs4NaW57a2vmZqPzd9EV6WHv+kTdwtpfmvj9Q3sKPl8TSKvalrKj63PcCJbV7znolYd5N1/fVi3TVo/Xnj3PJZcJg3zu2mjgETNQHPAm6g+G/VN9O0I7U9uyX2lRRb92+mL/FLUnsf8PmW2POB/Wl6OfAtYCNwL7C83ZegRr4zgMvS6+8BHk4f/OeBeS2x32mZZqX24xjhZkDAUcDl6Qs32Cbm34CjK9qfAGxuafsq8PyK2L8BHq5oG/YPPj33/olYd5N5/Y33umvQ+vPGueL7xmHcOLf9jtf9xzBRU/piPxsYAJ4wQtzMFHNMjT6n8dst5vS03KyKuGH/0Grm/HjguDEsNw14bI24U4A/H2XfRwEntLQdCRzZJn52E9fdZF9/47XumrL+8Ma5HNOIjXO7qTEnVB8haUZE/Lql7XdOiHRY/mkRcWeOsU3Jo9vYdCJqETCb4mTUXop/DJVfxtHE5xzblDzSSdLfp9ibfqAqz5b4aRSDNw5Kmg4spDhEs68l7uiIeLBTfxX9P55i43/fKJebBhwREf89QswpwHMj4hOj6PcoikM/B1rajwSIiP+pWGZ2RNxbO/k6eTSluKcz8J+lGDFwC8VWfXd6bswjAXKKbUoe3cRKehHFiai7KPbeoDgR9hTgjRHxzZbla8fnHNukPNIyA5RGy3Ta2I8mPufYXvdd1pO7Qo7RB4CzI2Kbil9y2ijpgoi4nuJkzG9I+libPkRxomLSxjYljx6+v48CZ0VpGFjq4ySKE0xP7yI+59hG5CHp+RTHuB+gOITzQ+BYSb8GLoiIe1r6qB2fc2yv+67SpOL+6Ei3BY6IL0raAXxZ0gqK/yaWvRa4hGKIUqvzJ3lsU/LoVex0fjuWuuxeiuOorUYTn3NsU/K4AnhRRAyl4n95RJwm6YUUJwdf1EV8zrG97nuYJhX3X0t6QkT8J0Dagz+T4iTEk1tib6QYdvXvrZ1IumySxzYlj17FrgFulLSOYogZFP/tXErxpW01mvicY5uSx7SIGErzeyiGCBIRG1VcDNVqNPE5x/a672GadMz9LGAoIm5taT8GuCgiVpbaZgL/O9KJkMka25Q8evz+FgAvozh5J4q9xg0Rsb3b+Jxjm5CHpDUU/5PeRHE15r0R8TZJj6UYyvi0scbnHNvrvqs0pribWfNJmkFxReoCijHvayLikIqRICdExE/HGp9zbK/7rhRdjo0dr4lirPEqigsO7kvTjtR2zFSJbUoeTYhtSh5NiG1SHp4mx9Sku0KuB+4HTo+I4yLiOOCM1HbNFIptSh4THfvAKD+LqvicYxuRh6SjJb1X0h2SfiFpSNL1kl5Tke+o4nOO7XXflQ731uWRidK9Ijo9l3NsU/JoQmxT8mhCbFPyAK6luDnXHOBtFPeAmQ+spbjLY+vyteNzju1135Xrrk7QREwUlzP/JaX7KVDcGvbtwLemSmxT8mhCbFPyaEJsU/Jg+L1Zbkx/HwXcWZFz7ficY3vdd9XUpMMyr6S418P3JN0v6ecUtwidCbxiCsU2JY8mxDYljybENiWP/5L0PABJLwV+DhDFvcvFcKOJzzm2130PV2cLMFETxW02z6LlZjzA4qkU25Q8mhDblDyaENuEPCju0riZ4nj8D0i34qW4cdibKvqtHZ9zbK/7rvyu1AmaiAl4E8Wv1fwLsBtYUnru5qkS25Q8mhDblDyaENukPNpNwGvrxo42PufYXvVd+8V7PVHcyP7oNN9P8Yssb06Pb5kqsU3JowmxTcmjCbFNyqPdRM1fCBpLfM6xveq7SbcfmBbpdp8RsVvS6cAXJT2J4ceYco5tSh5NiG1KHk2IbUQeGv4bsb95iuIk7O82jiI+59he911pNFuXXk7At4GFLW3TKX6099BUiW1KHk2IbUoeTYhtSh4UP7qxkPSzc6WpH9hbkXPt+Jxje9131dQxYKImivGc7X795bSpEtuUPJoQ25Q8mhDblDwobiT2vDaxVb/EVDs+59he9101+d4yZmYZatI4dzMzGycu7mZmGXJxNzPLkIu7mVmGXNzNzDL0/yC1siqfn+SSAAAAAElFTkSuQmCC\n",
      "text/plain": [
       "<Figure size 432x288 with 1 Axes>"
      ]
     },
     "metadata": {
      "needs_background": "light"
     },
     "output_type": "display_data"
    }
   ],
   "source": [
    "sorted_df['release_date'].value_counts().sort_index(ascending=False)[:30].plot.bar()"
   ]
  },
  {
   "cell_type": "markdown",
   "metadata": {},
   "source": [
    "Looking at how many movies came per year since 2000"
   ]
  },
  {
   "cell_type": "code",
   "execution_count": 101,
   "metadata": {
    "ExecuteTime": {
     "end_time": "2022-08-17T19:02:18.235804Z",
     "start_time": "2022-08-17T19:02:18.223787Z"
    }
   },
   "outputs": [],
   "source": [
    "sorted_df = sorted_df[sorted_df['release_date'] > 2000]"
   ]
  },
  {
   "cell_type": "code",
   "execution_count": 103,
   "metadata": {
    "ExecuteTime": {
     "end_time": "2022-08-17T19:02:48.321883Z",
     "start_time": "2022-08-17T19:02:48.310881Z"
    }
   },
   "outputs": [
    {
     "data": {
      "text/html": [
       "<div>\n",
       "<style scoped>\n",
       "    .dataframe tbody tr th:only-of-type {\n",
       "        vertical-align: middle;\n",
       "    }\n",
       "\n",
       "    .dataframe tbody tr th {\n",
       "        vertical-align: top;\n",
       "    }\n",
       "\n",
       "    .dataframe thead th {\n",
       "        text-align: right;\n",
       "    }\n",
       "</style>\n",
       "<table border=\"1\" class=\"dataframe\">\n",
       "  <thead>\n",
       "    <tr style=\"text-align: right;\">\n",
       "      <th></th>\n",
       "      <th>release_date</th>\n",
       "      <th>movie</th>\n",
       "      <th>production_budget</th>\n",
       "      <th>domestic_gross</th>\n",
       "      <th>worldwide_gross</th>\n",
       "    </tr>\n",
       "    <tr>\n",
       "      <th>id</th>\n",
       "      <th></th>\n",
       "      <th></th>\n",
       "      <th></th>\n",
       "      <th></th>\n",
       "      <th></th>\n",
       "    </tr>\n",
       "  </thead>\n",
       "  <tbody>\n",
       "    <tr>\n",
       "      <th>1</th>\n",
       "      <td>2009</td>\n",
       "      <td>Avatar</td>\n",
       "      <td>425000000.0</td>\n",
       "      <td>760507625.0</td>\n",
       "      <td>2.776345e+09</td>\n",
       "    </tr>\n",
       "    <tr>\n",
       "      <th>2</th>\n",
       "      <td>2011</td>\n",
       "      <td>Pirates of the Caribbean: On Stranger Tides</td>\n",
       "      <td>410600000.0</td>\n",
       "      <td>241063875.0</td>\n",
       "      <td>1.045664e+09</td>\n",
       "    </tr>\n",
       "    <tr>\n",
       "      <th>3</th>\n",
       "      <td>2019</td>\n",
       "      <td>Dark Phoenix</td>\n",
       "      <td>350000000.0</td>\n",
       "      <td>42762350.0</td>\n",
       "      <td>1.497624e+08</td>\n",
       "    </tr>\n",
       "    <tr>\n",
       "      <th>4</th>\n",
       "      <td>2015</td>\n",
       "      <td>Avengers: Age of Ultron</td>\n",
       "      <td>330600000.0</td>\n",
       "      <td>459005868.0</td>\n",
       "      <td>1.403014e+09</td>\n",
       "    </tr>\n",
       "    <tr>\n",
       "      <th>5</th>\n",
       "      <td>2017</td>\n",
       "      <td>Star Wars Ep. VIII: The Last Jedi</td>\n",
       "      <td>317000000.0</td>\n",
       "      <td>620181382.0</td>\n",
       "      <td>1.316722e+09</td>\n",
       "    </tr>\n",
       "  </tbody>\n",
       "</table>\n",
       "</div>"
      ],
      "text/plain": [
       "    release_date                                        movie  \\\n",
       "id                                                              \n",
       "1           2009                                       Avatar   \n",
       "2           2011  Pirates of the Caribbean: On Stranger Tides   \n",
       "3           2019                                 Dark Phoenix   \n",
       "4           2015                      Avengers: Age of Ultron   \n",
       "5           2017            Star Wars Ep. VIII: The Last Jedi   \n",
       "\n",
       "    production_budget  domestic_gross  worldwide_gross  \n",
       "id                                                      \n",
       "1         425000000.0     760507625.0     2.776345e+09  \n",
       "2         410600000.0     241063875.0     1.045664e+09  \n",
       "3         350000000.0      42762350.0     1.497624e+08  \n",
       "4         330600000.0     459005868.0     1.403014e+09  \n",
       "5         317000000.0     620181382.0     1.316722e+09  "
      ]
     },
     "execution_count": 103,
     "metadata": {},
     "output_type": "execute_result"
    }
   ],
   "source": [
    "sorted_df['release_date'].value_counts()\n",
    "df.head()"
   ]
  },
  {
   "cell_type": "markdown",
   "metadata": {},
   "source": [
    "Taking a look at meadian movie gross "
   ]
  },
  {
   "cell_type": "code",
   "execution_count": 104,
   "metadata": {
    "ExecuteTime": {
     "end_time": "2022-08-17T19:03:06.198736Z",
     "start_time": "2022-08-17T19:03:05.916274Z"
    }
   },
   "outputs": [
    {
     "data": {
      "text/plain": [
       "<AxesSubplot:xlabel='release_date', ylabel='worldwide_gross'>"
      ]
     },
     "execution_count": 104,
     "metadata": {},
     "output_type": "execute_result"
    },
    {
     "data": {
      "image/png": "iVBORw0KGgoAAAANSUhEUgAAAYsAAAESCAYAAAAMifkAAAAAOXRFWHRTb2Z0d2FyZQBNYXRwbG90bGliIHZlcnNpb24zLjMuMSwgaHR0cHM6Ly9tYXRwbG90bGliLm9yZy/d3fzzAAAACXBIWXMAAAsTAAALEwEAmpwYAAAe+ElEQVR4nO3df5RcZZ3n8fenkzaJJJKYNMjkh0HNqsgJEVoyGAaJCgKjZNyMniA6s447OVHZcZxdAY8/2GF2HY2OZ1TATMYNUXcgM25EovIjHJAfIsykG5IYECQCDk0cE0KQBENI6O/+cW9L0amuW7erbtevz+ucOlX13Oep+nblpr51n/vc51FEYGZmVklXowMwM7Pm52RhZmaZnCzMzCyTk4WZmWVysjAzs0xOFmZmlqktk4WkNZJ2StpWRd05kn4k6V5JWyWdMxYxmpm1krZMFsBa4Kwq634a+JeIeCOwDLiiqKDMzFpVWyaLiLgdeLK0TNKrJd0gqV/SHZJeN1QdeFn6+EhgxxiGambWEsY3OoAxtBpYEREPSVpIcgTxVuB/Ahsl/TfgCODtjQvRzKw5dUSykDQZeDPwHUlDxRPS+/OAtRHxd5JOAb4t6fiIGGxAqGZmTakjkgVJd9tTEbGgzLYPkZ7fiIi7JE0EZgA7xy48M7Pm1pbnLIaLiKeBRyS9B0CJE9LN/w68LS1/PTAR2NWQQM3MmpTacdZZSVcDp5McIfwauAS4Bfg6cAzQDayLiEslHQf8IzCZ5GT3hRGxsRFxm5k1q7ZMFmZmVl8d0Q1lZma1aasT3DNmzIi5c+c2Ogwzs5bS39//RET0VKrTVsli7ty59PX1NToMM7OWIumXWXXcDWVmZpmcLMzMLJOThZmZZXKyMDOzTE4WZmaWycnCzKxGu/cdYMtjT7F734FGh1KYtho6a2Y21q7d/DgXrd9Kd1cXBwcHWbl0PucumNnosOrORxZmZqO0e98BLlq/lWcPDrL3wCGePTjIheu3tuURhpOFmdkoDezZT3fXi79Gu7u6GNizv0ERFcfJwsxslGZNm8TBwRevk3ZwcJBZ0yY1KKLiOFmYmY3S9MkTWLl0PhO7u5gyYTwTu7tYuXQ+0ydPyG7cYnyC28ysBucumMmi18xgYM9+Zk2b1JaJApwszMxqNn3yhLZNEkMKTRaS1gDvBHZGxPFltn8COL8kltcDPRHxpKRHgb3A88ChiOgtMlYzMxtZ0ecs1gJnjbQxIr4YEQsiYgHwSeC2iHiypMridLsThZlZAxWaLCLiduDJzIqJ84CrCwzHzMxGqSlGQ0l6KckRyPqS4gA2SuqXtLxC2+WS+iT17dq1q+hQzcw6UlMkC+BdwJ3DuqAWRcSJwNnARyWdVq5hRKyOiN6I6O3pqbgqoJmZjVKzJItlDOuCiogd6f1O4Brg5AbEZWZmNEGykHQk8Bbg2pKyIyRNGXoMnAlsa0yEZmZW9NDZq4HTgRmSBoBLgG6AiFiVVns3sDEinilpejRwjaShGK+KiBuKjNXMOtfufQfa/qK6WhWaLCLivCrqrCUZYlta9jBwQjFRmZm9oFOmGK9Vw7uhzMwapZOmGK+Vk4WZdaxOmmK8Vk4WZtaxOmmK8Vo5WZhZx+qkKcZr5VlnzayjdcoU47VysjCzjtcJU4zXyt1QZmaWycnCzMwyOVmYmVkmJwszM8vkZGFmZpmcLMzMLJOThZmZZXKyMDOzTE4WZmaWycnCzMwyOVmYmVkmJwszM8tUaLKQtEbSTknbRth+uqTfSNqc3j5bsu0sSQ9K2i7p4iLjNDOzyoo+slgLnJVR546IWJDeLgWQNA64HDgbOA44T9JxhUZqZmYjKjRZRMTtwJOjaHoysD0iHo6I54B1wJK6BmdmZlVrhnMWp0jaIul6SW9Iy2YCj5XUGUjLzMysARq9+NE9wCsjYp+kc4DvAfMAlakb5V5A0nJgOcCcOXMKCtPMrLM19MgiIp6OiH3p4+uAbkkzSI4kZpdUnQXsGOE1VkdEb0T09vT0FB6zmVknamiykPQKSUofn5zGsxvYBMyTdKyklwDLgA2Ni9TMrLMV2g0l6WrgdGCGpAHgEqAbICJWAX8MfFjSIWA/sCwiAjgk6QLgRmAcsCYi7isyVjMzG5mS7+b20NvbG319fY0Ow8yspUjqj4jeSnWaYTSUmZk1OScLMzPL5GRhZmaZnCzMzCyTk4WZmWVysjAzs0xOFmZmlsnJwszMMjlZmJlZJicLMzPL5GRhZmaZnCzMzCyTk4WZtbzd+w6w5bGn2L3vQKNDaVuNXinPzKwm125+nIvWb6W7q4uDg4OsXDqfcxd4FeZ685GFmbWs3fsOcNH6rTx7cJC9Bw7x7MFBLly/1UcYBXCyMLOWNbBnP91dL/4a6+7qYmDP/gZF1L6cLMysZc2aNomDg4MvKjs4OMisaZMaFFH7crIws5Y1ffIEVi6dz8TuLqZMGM/E7i5WLp3P9MkTGh1a2yl6De41wDuBnRFxfJnt5wMXpU/3AR+OiC3ptkeBvcDzwKGsJf/MrDOdu2Ami14zg4E9+5k1bZITRUFGlSwkTQNmR8TWjKprgcuAb42w/RHgLRGxR9LZwGpgYcn2xRHxxGhiNLPOMX3yBCeJglXdDSXpVkkvk/RyYAtwpaQvV2oTEbcDT1bY/pOI2JM+vRuYVW08ZmY2dvKcszgyIp4G/jNwZUScBLy9jrF8CLi+5HkAGyX1S1pex/cxM7Oc8nRDjZd0DPBe4FP1DELSYpJkcWpJ8aKI2CHpKOAmSQ+kRyrD2y4HlgPMmTOnnmGZmVkqz5HFpcCNwPaI2CTpVcBDtQYgaT7wDWBJROweKo+IHen9TuAa4ORy7SNidUT0RkRvT09PreGYmVkZVSeLiPhORMyPiI+kzx+OiKW1vLmkOcB3gQ9ExM9Lyo+QNGXoMXAmsK2W9zIzs9HLc4J7ZXqCu1vSzZKekPT+jDZXA3cBr5U0IOlDklZIWpFW+SwwHbhC0mZJfWn50cCPJW0B/g34YUTckPuvMzOzulBEVFdR2hwRCyS9G/gj4OPAjyLihALjy6W3tzf6+vqyK5qZ2e9I6s+6li3POYvu9P4c4OqIGHFIrJmZtZc8o6G+L+kBYD/wEUk9wLPFhGVmZs0kzwnui4FTgN6IOAg8AywpKjAzq54X/7GiVX1kIakb+ABwmiSA24BVBcVlZlXy4j82FvKcs/g6cBJwRXo7MS0zswbx4j82VvKcs3jTsJFPt6RDW82sQYYW/3mWF9Z0GFr8xxPrWT3lObJ4XtKrh56kV3A/X/+QzKxaXvzHxkqeZPE/gB+ls8/eBtwC/PdiwjKzatRr8R+fILcsVXVDSRoHnADMA14LCHggIrxnmTVYrYv/+AS5VaOqI4uIeB44NyIORMTWiNjiRGHWPKZPnsAJs6eO6ojCJ8itGnlOcP9E0mXAP5NcYwFARNxT96jMbEz4BLlVK0+yeHN6f2lJWQBvrV84ZjaWfILcqlV1soiIxUUGYmZjb+gE+YXDzln4qMKGy3MF91+VKf4N0B8Rm+sWkZmNqVpPkFtnyNMN1Zvevp8+/0NgE7BC0nciYmW9gzOzsTF98gQnCasoT7KYDpwYEfsAJF0C/D/gNKAfcLIwM2tTeS7KmwM8V/L8IPDKiNgPeJydmVkby3NkcRVwt6Rr0+fvAq5O18i+v+6RmZlZ08iznsXfAH8OPEVyYntFRFwaEc9ExPmSpg1vI2mNpJ2StpV7TSW+Kmm7pK2STizZdpakB9NtF+f+y8xy8HQXZpXlObIgIvpJzk+UczPJtOWl1gKXAd8aoc3ZJFOIzAMWkkx5vjCdXuRy4AxgANgkaUNE+AjG6s7TXVij7d53oOlHo+VKFhk0vCAibpc0t0KbJcC3IiJIurimSjoGmAtsj4iHASStS+s6WVhdlU53MXQV84Xrt7LoNTOa9j9tM2qFL7tm1So/VuqZLGIUbWYCj5U8H0jLypUvHH1oZuV5uovatcqXXTNqpR8reUZDFeGwoxGSpDNS+eEvIC2X1Cepb9euXXUNztpfs0x30arnTDwRYW2GfqyUGvqx0mzqmSzKfcFnGQBmlzyfBeyoUH6YiFgdEb0R0dvT0zOKEKyT1Ws9iFpcu/lxFn3hFt7/jX9l0RduYcPmx8fsvWvVSl92zahZfqxUI1c3lKRTgXkRcaWkHmByRDySbn7bKN5/A3BBek5iIfCbiPiVpF3APEnHAo8Dy4D3jeL1zTI1crqLVuqGKKeVvuyaUSvNzZVnbqhLSKb7eC1wJdAN/F9gEUBEPFmmzdXA6cAMSQPAJWk7ImIVcB1wDrAd+C3wwXTbIUkXADcC44A1EXHfqP5Csyo0arqLVj9n0kpfds2qVebmynNk8W7gjcA9ABGxQ9KUSg0i4ryM7QF8dIRt15EkE7O21Q6/zFvly66ZtcLcXHnOWTyXfrkHQHrltpnVoBnOmdTDaFfqs9aR58jiXyT9AzBV0p8Dfwb8YzFhmXUO/zK3VpBn8aMvSToDeJrkvMVnI+KmwiIz6yCt0A1hnS3vdB83AU4QTchX0JpZkTKThaS9VLg6OyJeVteILDdfQdt4TtbW7jKTRURMAZB0KfAfwLdJLsA7H6g4GsqK1+rj9NuBk7V1gjyjod4REVdExN6IeDoivg4sLSowq067XEHr6S7MmluecxbPSzofWEfSLXUe8HwhUVnV2mGcfiv/Mm/1i+rMqpXnyOJ9wHuBX6e39+ApOBqu1cfpt/ov83ZI1mbVyDN09lGSNSWsybTyOP1W/2Xu6S6sU1QzGurCiFgp6WuUGRUVEX9RSGSWS6uO02+HX+atnKzNqlXNkcXP0vu+IgPpdJ069LJdfpm3arJuFp26/7eSaobOfj99eMfQMqftqJE7ayuf4K2Hevwy95dN6+r0/b9V5BkNtVbSTGATcDtJ8vhpMWGNrUburL5OIlHLL3N/2bQu7/+to+rRUBFxGvB64GvANOCHkg5bw6LVNHo0TrtcJ9Eojf73s9p4/28deRY/OhX4g/Q2FfgBcEcxYY2deo3GGW03SLOc4G3VbpxWH03V6Zpl/7dsebqhbiM5yf23wHUR8VwxIY2teuystXSDNMMJ3lbuxvGXTWtrhv3fqqNkPaMqKkpTSZZQPQ14EzAI3BURnyksupx6e3ujry//oK0Nmx8/bGet9sty974DLPrCLTx78IUvrIndXdx50VvH5MikVvWKv5Fq+fez5tCqR7btQlJ/RPRWqpPnorynJD0MzAZmAW8mXU+71dUyGqde3SBeA3r0fJ1D6/PQ4+aX55zFL4AHgR8Dq4APVtMVJeks4CvAOOAbEfH5Yds/QTKD7VA8rwd6IuJJSY8Ce0nmoDqUlflqMdqdtdW7QVo9/iH+sjErVp65oeZFxDkR8bmIuKPKRDEOuBw4GzgOOE/ScaV1IuKLEbEgIhYAnwRui4jSUVaL0+2FJYpatPrcTK0ev5mNjWqm+/jdNB+SDtueMd3HycD2oYv5JK0jmV/q/hHqnwdcnRVTs2n1bpBWj9/MilfNkUUf0A9MBE4EHkpvC8ieonwm8FjJ84G07DCSXgqcBawvKQ5go6R+SctHaLdcUp+kvl27dmX/NQWZPnkCJ8ye2rJftLXG36rrUZhZdaqZ7uObAJL+C0mX0MH0+SpgY0bzww9FRl6i9V3AncO6oBZFxA5JRwE3SXogIm4fFt9qYDUko6Gy/h6rv1Yeemtm1clzzuL3ePEyqpPTskoGSEZPDZkF7Bih7jKGdUFFxI70fidwDUm3ljURX0Ft1hnyJIvPA/dKWitpLXAP8LmMNpuAeZKOlfQSkoSwYXglSUcCbwGuLSk7QtLQ+t9HAGcC23LEa2PA0zWYdYY811lcKel6YGFadHFE/EdGm0OSLgBuJBk6uyYi7pO0It2+Kq36bmBjRDxT0vxo4Jr0pPp44KqIuKHaeG1stMvQWzOrLPMKbkknVtoeEffUNaIajPYKbquNr6A2a231uoL77ypsC+CtuaKytuOht2btr5rRUIsldQGnRMSdYxCTtSBfQW3W3qo6wR0Rg8CXCo7FzMyaVJ7RUBslLVW5y7jNzKyt5VnP4q+AI4DnJe0nueAuIuJlhURmZmZNI8/Q2SnZtczMrB3lObJA0rkkix8B3BoRP6h/SGZm1myqPmch6fPAx0hmjL0f+FhaZmZmbS7PkcU5wIJ0ZBSSvgncC1xcRGBmZtY88oyGApha8vjIOsZhZmZNLM+RxeeAeyTdSjIS6jSSle3MzKzN5UkWfwisAfYA/w5clDWRoJmZtYc8yeJK4FTgXOBVwGZJt0fEVwqJzMzMmkae6yxukXQb8CZgMbACeAPgZGFm1uaqThaSbia5gvsu4A7gTekKdmZm1ubyjIbaCjwHHA/MB46X5BVuzMw6QJ5uqI8DSJoMfJDkHMYrAM9LbWbW5vJ0Q10A/AFwEvBLkpFRdxQUl5mZNZE83VCTgC8Dr4uIt0XEX0fELVmNJJ0l6UFJ2yUddrW3pNMl/UbS5vT22WrbmpnZ2MjTDfXFvC8uaRxwOXAGMABskrQhIu4fVvWOiHjnKNuamVnB8k73kdfJwPaIeDgingPWAUvGoK2ZmdVR0cliJvBYyfOBtGy4UyRtkXS9pDfkaStpuaQ+SX27du2qV9xmZlai6GRRbgnWGPb8HuCVEXEC8DXgeznaEhGrI6I3Inp7enpqidXMzEZQdLIYAGaXPJ8F7CitEBFPR8S+9PF1QLekGdW0NTOzsVF0stgEzJN0rKSXAMuADaUVJL1CktLHJ6cx7a6mrZmZjY1cy6rmFRGH0uszbgTGAWsi4j5JK9Ltq4A/Bj4s6RCwH1gWEQGUbVtkvGZmVp6S7+X20NvbG319fY0Ow8yspUjqj4jeSnWK7oYyM7M24GRhZmaZnCzMzCyTk4WZmWVysjAzs0xOFmZmlsnJwszMMjlZmJlZJicLMzPL5GRhZmaZnCzMzCyTk4WZmWVysjAzs0xOFmZmlsnJwszMMjlZmJlZJicLMzPL5GRhZmaZCk8Wks6S9KCk7ZIuLrP9fElb09tPJJ1Qsu1RST+VtFmS10s1M2uQ8UW+uKRxwOXAGcAAsEnShoi4v6TaI8BbImKPpLOB1cDCku2LI+KJIuM0M7PKij6yOBnYHhEPR8RzwDpgSWmFiPhJROxJn94NzCo4JjMzy6noZDETeKzk+UBaNpIPAdeXPA9go6R+ScvLNZC0XFKfpL5du3bVHLCZmR2u0G4oQGXKomxFaTFJsji1pHhRROyQdBRwk6QHIuL2F71YxGqSrit6e3vLvraZmdWm6COLAWB2yfNZwI7hlSTNB74BLImI3UPlEbEjvd8JXEPSrWVmZmOs6GSxCZgn6VhJLwGWARtKK0iaA3wX+EBE/Lyk/AhJU4YeA2cC2wqO18zMyii0GyoiDkm6ALgRGAesiYj7JK1It68CPgtMB66QBHAoInqBo4Fr0rLxwFURcUOR8ZqZWXmKaJ9u/t7e3ujr8+UYZmZ5SOpPf6SPyFdwm5lZJicLMzPL5GRhZmaZnCzMzCyTk4WZmWVysjAzs0xOFmZmlsnJwszMMjlZmJlZJicLMzPL5GRhZmaZnCzMzCyTk4WZmWVysjAzs0xOFmZmlsnJwszMMjlZmJlZJicLMzPLVHiykHSWpAclbZd0cZntkvTVdPtWSSdW29bMzGD3vgNseewpdu87UNh7jC/slQFJ44DLgTOAAWCTpA0RcX9JtbOBeeltIfB1YGGVbc3MOtq1mx/novVb6e7q4uDgICuXzufcBTPr/j5FH1mcDGyPiIcj4jlgHbBkWJ0lwLcicTcwVdIxVbY1M+tYu/cd4KL1W3n24CB7Dxzi2YODXLh+ayFHGEUni5nAYyXPB9KyaupU0xZJyyX1SerbtWtXXYI2M2sFA3v209314q/x7q4uBvbsr/t7FZ0sVKYsqqxTTVsiYnVE9EZEb09PzyhCNDNrTbOmTeLg4OCLyg4ODjJr2qS6v1fRyWIAmF3yfBawo8o61bQ1M+tY0ydPYOXS+Uzs7mLKhPFM7O5i5dL5TJ88oe7vVegJbmATME/SscDjwDLgfcPqbAAukLSO5AT3byLiV5J2VdHWzKyjnbtgJoteM4OBPfuZNW1SIYkCCk4WEXFI0gXAjcA4YE1E3CdpRbp9FXAdcA6wHfgt8MFKbYuM18ysFU2fPKGwJDFEEYedBmhZvb290dfX1+gwzMxaiqT+iOitVMdXcJuZWSYnCzMzy+RkYWZmmZwszMwsU1ud4E6H2/6y0XFUMAN4otFBVOD4auP4auP4alNLfK+MiIpXNbdVsmh2kvqyRhw0kuOrjeOrjeOrTdHxuRvKzMwyOVmYmVkmJ4uxtbrRAWRwfLVxfLVxfLUpND6fszAzs0w+sjAzs0xOFmZmlsnJokqSZkv6kaSfSbpP0sfS8pdLuknSQ+n9tJI2n5S0XdKDkt6Rlr1U0g8lPZC+zudHeL+5kvZL2pzeVo1FfGn5rWnZ0HsfNcJ7lm1f8Oc3pSSuzZKekPT3Y/35SZqe1t8n6bJhr3WSpJ+msX9VUrmFvAr9/EaKr1n2v4zPr+H7X4XPr1n2vzMk9af7Wb+kt5a8Vt33PwAiwrcqbsAxwInp4ynAz4HjgJXAxWn5xcAX0sfHAVuACcCxwC9Iplp/KbA4rfMS4A7g7DLvNxfYNtbxpdtuBXoz3m/E9kXHN+x1+4HTGvD5HQGcCqwALhv2Wv8GnEKy2uP1I/z7Fv35lY2vifa/Sp9fM+x/I8bXJPvfG4HfSx8fDzxe5P4XET6yqFZE/Coi7kkf7wV+RrIm+BLgm2m1bwJ/lD5eAqyLiAMR8QjJeh0nR8RvI+JH6es8B9xDsgpgU8SX4y1ztS8iPknzgKNIvvBqkje+iHgmIn4MPDsspmOAl0XEXZH8r/xWyd9UqtDPb6T4mmX/Gym+HBry+ZVq8P53b0QMrRx6HzBR0oSi9j9wN9SoSJpLktn/FTg6In4FyT84yc4DyT/0YyXNBtKy0teZCrwLuHmEtzpW0r2SbpP0B2Mc35Xp4fNnRjiMzfz7Co4P4Dzgn9P/FOUU+fmNZGYaa6W4h+oV+flV8zpTadz+l6XR+181mmX/WwrcGxEHKHD/K3pZ1bYjaTKwHvjLiHh6hO5ASA4Bh/vdTiVpPHA18NWIeLhM3V8BcyJit6STgO9JekNEPD0G8Z0fEY9LmpK+1gdIfqFU277o+IYsS2Mrp+jPr5a489R7caPa4xt6nUbvf5U0w/5XjYbvf5LeAHwBOHOoqEy1uux/PrLIQVI3yT/kP0XEd9PiX6eHfkNdEDvT8gFgdknzWcCOkuergYci4u/LvVd6eLg7fdxP0qf4n8Yivoh4PL3fC1xF+cPTrL+vsPjSuicA49PP5jBj8PmNZIAXd+uM9LkU/fllafT+N6Im2f8qaob9T9Is4BrgTyLiF2lxYfufk0WV0kPh/wP8LCK+XLJpA/Cn6eM/Ba4tKV+W9iMeC8wjOfGEpP8FHAn8ZYX365E0Ln38qrR9uV+AdY1P0nhJM9LX7AbeCWwr85Yj/n1FxlfS7jySX8YjvV/Rn19ZaVfBXkm/n77mn4zQpujPb0RNsv+N9DrNsv9laej+l3Yh/hD4ZETcOVS5qP1v6MV9q260wqkkh2lbgc3p7RxgOkmf70Pp/ctL2nyK5BfFg6QjEkgyeJCcwBp6nf+abjsXuDR9vJTkxNUWkpOQ7xqj+I4gGeGxNX3/r/DCKKnfxTdS+6LjK9n2MPC6YWVj/fk9CjwJ7CP5pXZcWt5L8gX3C+AyXpgpYaw/v8Pio7n2v3LxNdP+V/bftxn2P+DTwDMldTcDRxW1/0WEp/swM7Ns7oYyM7NMThZmZpbJycLMzDI5WZiZWSYnCzMzy+RkYWZmmZwszMqQtK/RMQzJikXSVEkfGat4rDM5WVjHUqId/g9MBZwsrFDt8B/FrGpKFqX5maQrSK6s/YykTZK2SvrrEdp8olwdSd9TsvDMfZKWp2XjJK2VtE3JAjQfT8tfLemGtP4dkl5XIcZjJd2VvufflJRPlnSzpHvS116Sbvo88Gols7R+sVLMZqNW1PQYvvnWjDeSRWkGgd8nmalzNckMnF3AD0gXsgH2pfeV6gxNvTCJZHqF6cBJwE0l7zc1vb8ZmJc+XgjcUiHGDSSTwwF8tCSW8SRrFQDMIFmDQAxbaKdSzL75Ntqbpyi3TvTLiLhb0pdIvljvTcsnk0yodntJ3TMr1PkLSe9Oy2en5Q8Cr5L0NZKJ3jYqmXb6zcB39MKU0xMqxLeIZG4hgG+TTEENyZf/5ySdRpLwZgJHl2lfKWazUXGysE70THov4G8j4h8q1C1bR9LpwNuBUyLit5JuBSZGxJ50+up3kBwVvJdkdtenImJBjhjLTdp2PtADnBQRByU9CkysNmazWvichXWyG4E/S3/5I2mmpOErkY1U50hgT5ooXkfSrUU6vXZXRKwHPkOyrvLTwCOS3pPWUZpQRnInycI6kCSIIUcCO9NEsRh4ZVq+l2Td5jx/l1kuPrKwjhURGyW9Hrgr7R7aB7yfkgVmKtS5AVghaStJ19PdaZOZJEuCDv0Q+2R6fz7wdUmfBrqBdSTTV5fzMeAqSR8jWQxnyD8B35fURzIl9QNpjLsl3SlpG3B9RHwi6+8yy8tTlJuZWSZ3Q5mZWSZ3Q5k1iKRPAe8ZVvydiPjfjYjHrBJ3Q5mZWSZ3Q5mZWSYnCzMzy+RkYWZmmZwszMws0/8HXkczdbb2NYUAAAAASUVORK5CYII=\n",
      "text/plain": [
       "<Figure size 432x288 with 1 Axes>"
      ]
     },
     "metadata": {
      "needs_background": "light"
     },
     "output_type": "display_data"
    }
   ],
   "source": [
    "sorted_df.groupby('release_date').mean().reset_index().plot.scatter('release_date', 'worldwide_gross')"
   ]
  }
 ],
 "metadata": {
  "kernelspec": {
   "display_name": "Python 3",
   "language": "python",
   "name": "python3"
  },
  "language_info": {
   "codemirror_mode": {
    "name": "ipython",
    "version": 3
   },
   "file_extension": ".py",
   "mimetype": "text/x-python",
   "name": "python",
   "nbconvert_exporter": "python",
   "pygments_lexer": "ipython3",
   "version": "3.8.5"
  },
  "toc": {
   "base_numbering": 1,
   "nav_menu": {},
   "number_sections": true,
   "sideBar": true,
   "skip_h1_title": false,
   "title_cell": "Table of Contents",
   "title_sidebar": "Contents",
   "toc_cell": false,
   "toc_position": {},
   "toc_section_display": true,
   "toc_window_display": false
  },
  "varInspector": {
   "cols": {
    "lenName": 16,
    "lenType": 16,
    "lenVar": 40
   },
   "kernels_config": {
    "python": {
     "delete_cmd_postfix": "",
     "delete_cmd_prefix": "del ",
     "library": "var_list.py",
     "varRefreshCmd": "print(var_dic_list())"
    },
    "r": {
     "delete_cmd_postfix": ") ",
     "delete_cmd_prefix": "rm(",
     "library": "var_list.r",
     "varRefreshCmd": "cat(var_dic_list()) "
    }
   },
   "types_to_exclude": [
    "module",
    "function",
    "builtin_function_or_method",
    "instance",
    "_Feature"
   ],
   "window_display": false
  },
  "vscode": {
   "interpreter": {
    "hash": "9cca26b304747954b89d6fec9a2f0dee8e78fc34983bf7a6f8cdded16a177a0b"
   }
  }
 },
 "nbformat": 4,
 "nbformat_minor": 2
}
